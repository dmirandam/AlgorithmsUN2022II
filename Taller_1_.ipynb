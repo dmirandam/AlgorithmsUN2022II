{
  "nbformat": 4,
  "nbformat_minor": 0,
  "metadata": {
    "colab": {
      "name": "Taller 1 .ipynb",
      "provenance": [],
      "collapsed_sections": [
        "o5sRbduAv7-7",
        "1RSUGb9UwKJF",
        "K9QuSjAJwNcN",
        "7p1ipq4OwO6t",
        "DhayOTz4wQRW",
        "Wt6S_W2zwRj9",
        "aR_fTK8EwS61",
        "LK5quX15wUQd",
        "VTBNZQNowVjN"
      ],
      "authorship_tag": "ABX9TyNAfKJRgrEhuPPMbV4PaPgd",
      "include_colab_link": true
    },
    "kernelspec": {
      "name": "python3",
      "display_name": "Python 3"
    },
    "language_info": {
      "name": "python"
    }
  },
  "cells": [
    {
      "cell_type": "markdown",
      "metadata": {
        "id": "view-in-github",
        "colab_type": "text"
      },
      "source": [
        "<a href=\"https://colab.research.google.com/github/dmirandam/AlgorithmsUN2022II/blob/main/Taller_1_.ipynb\" target=\"_parent\"><img src=\"https://colab.research.google.com/assets/colab-badge.svg\" alt=\"Open In Colab\"/></a>"
      ]
    },
    {
      "cell_type": "markdown",
      "source": [
        "#**Sección 1: Executing a Command**"
      ],
      "metadata": {
        "id": "o5sRbduAv7-7"
      }
    },
    {
      "cell_type": "markdown",
      "source": [
        "**Ejemplo 1**\n",
        "\n",
        "\n",
        "\n"
      ],
      "metadata": {
        "id": "TITM-gYWwhgd"
      }
    },
    {
      "cell_type": "code",
      "source": [
        "print (2+4)"
      ],
      "metadata": {
        "id": "MzyooMACxHaM",
        "colab": {
          "base_uri": "https://localhost:8080/"
        },
        "outputId": "f98c2456-7295-45ab-ff1b-b2828b161eab"
      },
      "execution_count": null,
      "outputs": [
        {
          "output_type": "stream",
          "name": "stdout",
          "text": [
            "6\n"
          ]
        }
      ]
    },
    {
      "cell_type": "markdown",
      "source": [
        "**Ejemplo 2**\n"
      ],
      "metadata": {
        "id": "7rdt4geGwr7N"
      }
    },
    {
      "cell_type": "code",
      "source": [
        "print (245+0.2)"
      ],
      "metadata": {
        "id": "XrG9UZHQxH_l",
        "colab": {
          "base_uri": "https://localhost:8080/"
        },
        "outputId": "c05bc2db-9c6d-4fa4-a62d-aa96918b9a87"
      },
      "execution_count": null,
      "outputs": [
        {
          "output_type": "stream",
          "name": "stdout",
          "text": [
            "245.2\n"
          ]
        }
      ]
    },
    {
      "cell_type": "markdown",
      "source": [
        "**Ejemplo 3**\n"
      ],
      "metadata": {
        "id": "kueXnHTowt0F"
      }
    },
    {
      "cell_type": "code",
      "source": [
        "print (.12+4+7*3)"
      ],
      "metadata": {
        "id": "EePbInOHxIa9",
        "colab": {
          "base_uri": "https://localhost:8080/"
        },
        "outputId": "72c203fb-f674-4189-e3f1-14b028c54431"
      },
      "execution_count": null,
      "outputs": [
        {
          "output_type": "stream",
          "name": "stdout",
          "text": [
            "25.12\n"
          ]
        }
      ]
    },
    {
      "cell_type": "markdown",
      "source": [
        "**Ejemplo 4**\n"
      ],
      "metadata": {
        "id": "87DL5A16wu-1"
      }
    },
    {
      "cell_type": "code",
      "source": [
        "x = 2\n",
        "y = 4\n",
        "print(x+y)"
      ],
      "metadata": {
        "id": "qcaHNzWKxIv9",
        "colab": {
          "base_uri": "https://localhost:8080/"
        },
        "outputId": "a907b6a8-b10b-4175-a26e-0fa6811f8c6f"
      },
      "execution_count": null,
      "outputs": [
        {
          "output_type": "stream",
          "name": "stdout",
          "text": [
            "6\n"
          ]
        }
      ]
    },
    {
      "cell_type": "markdown",
      "source": [
        "**Ejemplo 5**\n"
      ],
      "metadata": {
        "id": "g9u9xq7kwwMl"
      }
    },
    {
      "cell_type": "code",
      "source": [
        "x= 'Hello '\n",
        "y= 'World'\n",
        "print(x+y)"
      ],
      "metadata": {
        "id": "vMKKfM1bxJJc",
        "colab": {
          "base_uri": "https://localhost:8080/"
        },
        "outputId": "77933fdb-9461-481d-ea91-13f6436364bf"
      },
      "execution_count": null,
      "outputs": [
        {
          "output_type": "stream",
          "name": "stdout",
          "text": [
            "Hello World\n"
          ]
        }
      ]
    },
    {
      "cell_type": "markdown",
      "source": [
        "**Ejemplo 6**\n"
      ],
      "metadata": {
        "id": "TridqrjKwxWF"
      }
    },
    {
      "cell_type": "code",
      "source": [
        "y = 12\n",
        "x = 2*y \n",
        "print ((2*x+y)*y)"
      ],
      "metadata": {
        "id": "CYQTUvzAxJg1",
        "colab": {
          "base_uri": "https://localhost:8080/"
        },
        "outputId": "5dfaa2d2-7bec-4521-e648-530eb17458a4"
      },
      "execution_count": null,
      "outputs": [
        {
          "output_type": "stream",
          "name": "stdout",
          "text": [
            "720\n"
          ]
        }
      ]
    },
    {
      "cell_type": "markdown",
      "source": [
        "**Ejemplo 7**\n"
      ],
      "metadata": {
        "id": "RQh26VWdwydN"
      }
    },
    {
      "cell_type": "code",
      "source": [
        "y = .4\n",
        "x = .0452*y \n",
        "print ((2/x+y)**y)"
      ],
      "metadata": {
        "id": "qQLBUQJHxKMl",
        "colab": {
          "base_uri": "https://localhost:8080/"
        },
        "outputId": "b7813c8e-6458-449b-aed0-3f8beee4eed0"
      },
      "execution_count": null,
      "outputs": [
        {
          "output_type": "stream",
          "name": "stdout",
          "text": [
            "6.57899654552081\n"
          ]
        }
      ]
    },
    {
      "cell_type": "markdown",
      "source": [
        "**Ejemplo 8**\n"
      ],
      "metadata": {
        "id": "BFr4g3KgwzoV"
      }
    },
    {
      "cell_type": "code",
      "source": [
        "z = 34\n",
        "print ((12 + 43)*z)"
      ],
      "metadata": {
        "id": "tf1Lrn5KxKvt",
        "colab": {
          "base_uri": "https://localhost:8080/"
        },
        "outputId": "375a6439-8f0d-4efa-8d62-30106b6fc364"
      },
      "execution_count": null,
      "outputs": [
        {
          "output_type": "stream",
          "name": "stdout",
          "text": [
            "1870\n"
          ]
        }
      ]
    },
    {
      "cell_type": "markdown",
      "source": [
        "**Ejemplo 9**\n"
      ],
      "metadata": {
        "id": "fzS-GZMJw03d"
      }
    },
    {
      "cell_type": "code",
      "source": [
        "print ((12+34)/3)"
      ],
      "metadata": {
        "id": "yFWKjvKSxLPM",
        "colab": {
          "base_uri": "https://localhost:8080/"
        },
        "outputId": "e6ee95ac-9b0f-4095-8493-b3f2bd90a99f"
      },
      "execution_count": null,
      "outputs": [
        {
          "output_type": "stream",
          "name": "stdout",
          "text": [
            "15.333333333333334\n"
          ]
        }
      ]
    },
    {
      "cell_type": "markdown",
      "source": [
        "**Ejemplo 10**\n"
      ],
      "metadata": {
        "id": "Jo5wJOlBw17M"
      }
    },
    {
      "cell_type": "code",
      "source": [
        "print ((11+23)**6)"
      ],
      "metadata": {
        "id": "Zg7dqcj9xL79",
        "colab": {
          "base_uri": "https://localhost:8080/"
        },
        "outputId": "c698eaec-cf0a-46f2-942b-7d614536c2fa"
      },
      "execution_count": null,
      "outputs": [
        {
          "output_type": "stream",
          "name": "stdout",
          "text": [
            "1544804416\n"
          ]
        }
      ]
    },
    {
      "cell_type": "markdown",
      "source": [
        "**Ejemplo 11**\n"
      ],
      "metadata": {
        "id": "z49zU83Nw3K0"
      }
    },
    {
      "cell_type": "code",
      "source": [
        "a=2**3\n",
        "print ((12*a+3*a*4)/3*a)"
      ],
      "metadata": {
        "id": "KyI4T-4WxMcF",
        "colab": {
          "base_uri": "https://localhost:8080/"
        },
        "outputId": "5aee7955-735c-4afd-d17f-df715839bb4e"
      },
      "execution_count": null,
      "outputs": [
        {
          "output_type": "stream",
          "name": "stdout",
          "text": [
            "512.0\n"
          ]
        }
      ]
    },
    {
      "cell_type": "markdown",
      "source": [
        "**Ejemplo 12**\n"
      ],
      "metadata": {
        "id": "pqmBWOiRw43E"
      }
    },
    {
      "cell_type": "code",
      "source": [
        "print(12+2*a)"
      ],
      "metadata": {
        "id": "jZPDgU_jxM_t",
        "colab": {
          "base_uri": "https://localhost:8080/"
        },
        "outputId": "24c280ef-c486-421c-b9b3-0d243780ba35"
      },
      "execution_count": null,
      "outputs": [
        {
          "output_type": "stream",
          "name": "stdout",
          "text": [
            "28\n"
          ]
        }
      ]
    },
    {
      "cell_type": "markdown",
      "source": [
        "**Ejemplo 13**\n"
      ],
      "metadata": {
        "id": "dIxtCeyFw5vM"
      }
    },
    {
      "cell_type": "code",
      "source": [
        "print ('Ejemplo 12+1')"
      ],
      "metadata": {
        "id": "ZCQi3flUxNRV",
        "colab": {
          "base_uri": "https://localhost:8080/"
        },
        "outputId": "a833c8af-f3e0-4539-9415-ed46838554e6"
      },
      "execution_count": null,
      "outputs": [
        {
          "output_type": "stream",
          "name": "stdout",
          "text": [
            "Ejemplo 12+1\n"
          ]
        }
      ]
    },
    {
      "cell_type": "markdown",
      "source": [
        "**Ejemplo 14**\n"
      ],
      "metadata": {
        "id": "uUzF4Zlcw6j0"
      }
    },
    {
      "cell_type": "code",
      "source": [
        "print((334//3)**3)"
      ],
      "metadata": {
        "id": "3XSeKcopxNlc",
        "colab": {
          "base_uri": "https://localhost:8080/"
        },
        "outputId": "c7b0cfa2-8048-4178-fc36-a0f554f1b693"
      },
      "execution_count": null,
      "outputs": [
        {
          "output_type": "stream",
          "name": "stdout",
          "text": [
            "1367631\n"
          ]
        }
      ]
    },
    {
      "cell_type": "markdown",
      "source": [
        "**Ejemplo 15**\n"
      ],
      "metadata": {
        "id": "jUopQN1Sw76k"
      }
    },
    {
      "cell_type": "code",
      "source": [
        "print((32/4)**7*(6)//54)"
      ],
      "metadata": {
        "id": "8olb401RxOEE",
        "colab": {
          "base_uri": "https://localhost:8080/"
        },
        "outputId": "0b458422-3cf2-4321-c5f6-654b4dca4780"
      },
      "execution_count": null,
      "outputs": [
        {
          "output_type": "stream",
          "name": "stdout",
          "text": [
            "233016.0\n"
          ]
        }
      ]
    },
    {
      "cell_type": "markdown",
      "source": [
        "**Ejemplo 16**\n"
      ],
      "metadata": {
        "id": "MZ4WI04Sw8_c"
      }
    },
    {
      "cell_type": "code",
      "source": [
        "print (1//100)"
      ],
      "metadata": {
        "id": "rxigNYFHxO7t",
        "colab": {
          "base_uri": "https://localhost:8080/"
        },
        "outputId": "61df2023-efca-40b2-bd1a-66e6164c4f28"
      },
      "execution_count": null,
      "outputs": [
        {
          "output_type": "stream",
          "name": "stdout",
          "text": [
            "0\n"
          ]
        }
      ]
    },
    {
      "cell_type": "markdown",
      "source": [
        "**Ejemplo 17**\n"
      ],
      "metadata": {
        "id": "6iKbZJZIw-CE"
      }
    },
    {
      "cell_type": "code",
      "source": [
        "d = 'd'\n",
        "print( 'a' + 'b' + 'c' + d )"
      ],
      "metadata": {
        "id": "PZPQbruzxPcW",
        "colab": {
          "base_uri": "https://localhost:8080/"
        },
        "outputId": "98c955ee-ee74-429a-afa4-82531df2507f"
      },
      "execution_count": null,
      "outputs": [
        {
          "output_type": "stream",
          "name": "stdout",
          "text": [
            "abcd\n"
          ]
        }
      ]
    },
    {
      "cell_type": "markdown",
      "source": [
        "**Ejemplo 18**\n"
      ],
      "metadata": {
        "id": "oZffI06Pw-68"
      }
    },
    {
      "cell_type": "code",
      "source": [
        "print ((.12**0)/.00000000000000001)"
      ],
      "metadata": {
        "id": "D_mlghlwxQb9",
        "colab": {
          "base_uri": "https://localhost:8080/"
        },
        "outputId": "edb3d74a-e9f2-44db-aa82-070dc0a1729e"
      },
      "execution_count": null,
      "outputs": [
        {
          "output_type": "stream",
          "name": "stdout",
          "text": [
            "1e+17\n"
          ]
        }
      ]
    },
    {
      "cell_type": "markdown",
      "source": [
        "**Ejemplo 19**\n"
      ],
      "metadata": {
        "id": "rqNn2z0yxBfs"
      }
    },
    {
      "cell_type": "code",
      "source": [
        "print (int(((45+5)/50)))"
      ],
      "metadata": {
        "id": "grv8oBU1xQ30",
        "colab": {
          "base_uri": "https://localhost:8080/"
        },
        "outputId": "a0a16890-fd63-40e2-f494-5611ce8737dc"
      },
      "execution_count": null,
      "outputs": [
        {
          "output_type": "stream",
          "name": "stdout",
          "text": [
            "1\n"
          ]
        }
      ]
    },
    {
      "cell_type": "markdown",
      "source": [
        "**Ejemplo 20**\n"
      ],
      "metadata": {
        "id": "yEwk7LCAxCe8"
      }
    },
    {
      "cell_type": "code",
      "source": [
        "\n",
        "\n",
        "m=12\n",
        "c=56\n",
        "e=m*(c**2)\n",
        "print(e)"
      ],
      "metadata": {
        "id": "aaFA4TcQxRNs",
        "colab": {
          "base_uri": "https://localhost:8080/"
        },
        "outputId": "120ddf1f-95aa-4b58-b5ab-7cc29746eeed"
      },
      "execution_count": null,
      "outputs": [
        {
          "output_type": "stream",
          "name": "stdout",
          "text": [
            "37632\n"
          ]
        }
      ]
    },
    {
      "cell_type": "markdown",
      "source": [
        "#**Sección 2: Data Types and Data Structures** "
      ],
      "metadata": {
        "id": "1RSUGb9UwKJF"
      }
    },
    {
      "cell_type": "markdown",
      "source": [
        "**Ejemplo 1**\n",
        "\n",
        "\n",
        "\n"
      ],
      "metadata": {
        "id": "OZ5GgPPAxWta"
      }
    },
    {
      "cell_type": "code",
      "source": [
        "print('%s to %s'%('Hello','World'))"
      ],
      "metadata": {
        "id": "MFuYYXlZxWta",
        "colab": {
          "base_uri": "https://localhost:8080/"
        },
        "outputId": "c6020a5c-bf69-44d7-c1b4-546cc3bf7feb"
      },
      "execution_count": null,
      "outputs": [
        {
          "output_type": "stream",
          "name": "stdout",
          "text": [
            "Hello to World\n"
          ]
        }
      ]
    },
    {
      "cell_type": "markdown",
      "source": [
        "**Ejemplo 2**\n"
      ],
      "metadata": {
        "id": "XF0YZ69jxWta"
      }
    },
    {
      "cell_type": "code",
      "source": [
        "fecha_hora = '2020-04-20 04:20:00'\n",
        "fecha_y_hora = fecha_hora.split(' ')\n",
        "solo_fecha = fecha_y_hora[0]\n",
        "solo_hora = fecha_y_hora[1]\n",
        "print('La fecha es:',solo_fecha)\n",
        "print('La hora es:',solo_hora) \n",
        "print('(UwU)')"
      ],
      "metadata": {
        "id": "ZkJ7j_C-xWtb",
        "colab": {
          "base_uri": "https://localhost:8080/"
        },
        "outputId": "4cb3f2a8-72ba-44c1-9f6b-ac046f1289bd"
      },
      "execution_count": null,
      "outputs": [
        {
          "output_type": "stream",
          "name": "stdout",
          "text": [
            "La fecha es: 2020-04-20\n",
            "La hora es: 04:20:00\n",
            "(UwU)\n"
          ]
        }
      ]
    },
    {
      "cell_type": "markdown",
      "source": [
        "**Ejemplo 3**\n"
      ],
      "metadata": {
        "id": "mWQ2FdmWxWtb"
      }
    },
    {
      "cell_type": "code",
      "source": [
        "x = 7.8\n",
        "print('x es de tipo:',type(x))"
      ],
      "metadata": {
        "id": "oxFk6umDxWtb",
        "colab": {
          "base_uri": "https://localhost:8080/"
        },
        "outputId": "201ed7f4-e21b-456d-c7be-1dd02e83742f"
      },
      "execution_count": null,
      "outputs": [
        {
          "output_type": "stream",
          "name": "stdout",
          "text": [
            "x es de tipo: <class 'float'>\n"
          ]
        }
      ]
    },
    {
      "cell_type": "markdown",
      "source": [
        "**Ejemplo 4**\n"
      ],
      "metadata": {
        "id": "7h2Lf6J0xWtb"
      }
    },
    {
      "cell_type": "code",
      "source": [
        "y = '150' \n",
        "print(type(y))\n",
        "y = int(y)\n",
        "print(type(y))\n"
      ],
      "metadata": {
        "id": "foRLgZlexWtb",
        "colab": {
          "base_uri": "https://localhost:8080/"
        },
        "outputId": "bf5c933b-04da-45d6-9318-ac1655b8ba57"
      },
      "execution_count": null,
      "outputs": [
        {
          "output_type": "stream",
          "name": "stdout",
          "text": [
            "<class 'str'>\n",
            "<class 'int'>\n"
          ]
        }
      ]
    },
    {
      "cell_type": "markdown",
      "source": [
        "**Ejemplo 5**\n"
      ],
      "metadata": {
        "id": "KKVYJe2NxWtb"
      }
    },
    {
      "cell_type": "code",
      "source": [
        "diez = 10\n",
        "lista = [1,2,3,'cuatro',2+3,6,7,'ocho','nueve',diez]\n",
        "print (lista)"
      ],
      "metadata": {
        "id": "e25s8TExxWtb",
        "colab": {
          "base_uri": "https://localhost:8080/"
        },
        "outputId": "4567373b-cc43-4cb8-bbb3-08c6445f27e4"
      },
      "execution_count": null,
      "outputs": [
        {
          "output_type": "stream",
          "name": "stdout",
          "text": [
            "[1, 2, 3, 'cuatro', 5, 6, 7, 'ocho', 'nueve', 10]\n"
          ]
        }
      ]
    },
    {
      "cell_type": "markdown",
      "source": [
        "**Ejemplo 6**\n"
      ],
      "metadata": {
        "id": "RR5HElL1xWtb"
      }
    },
    {
      "cell_type": "code",
      "source": [
        "print(lista[0:4])"
      ],
      "metadata": {
        "id": "Nh4omBAWxWtc",
        "colab": {
          "base_uri": "https://localhost:8080/"
        },
        "outputId": "481e3256-2b18-49d3-e47b-a308d092c374"
      },
      "execution_count": null,
      "outputs": [
        {
          "output_type": "stream",
          "name": "stdout",
          "text": [
            "[1, 2, 3, 'cuatro']\n"
          ]
        }
      ]
    },
    {
      "cell_type": "markdown",
      "source": [
        "**Ejemplo 7**\n"
      ],
      "metadata": {
        "id": "hQOuUFNmxWtc"
      }
    },
    {
      "cell_type": "code",
      "source": [
        "print(len(lista)+12)"
      ],
      "metadata": {
        "id": "iv-7M43KxWtc",
        "colab": {
          "base_uri": "https://localhost:8080/"
        },
        "outputId": "518dca90-e262-4260-f64d-310d4b71bf52"
      },
      "execution_count": null,
      "outputs": [
        {
          "output_type": "stream",
          "name": "stdout",
          "text": [
            "22\n"
          ]
        }
      ]
    },
    {
      "cell_type": "markdown",
      "source": [
        "**Ejemplo 8**\n"
      ],
      "metadata": {
        "id": "YjWkZ7uFxWtc"
      }
    },
    {
      "cell_type": "code",
      "source": [
        "print(lista[0:])"
      ],
      "metadata": {
        "id": "64KfPZm0xWtc",
        "colab": {
          "base_uri": "https://localhost:8080/"
        },
        "outputId": "1ad8129c-0804-4b8b-856b-053904214438"
      },
      "execution_count": null,
      "outputs": [
        {
          "output_type": "stream",
          "name": "stdout",
          "text": [
            "[1, 2, 3, 'cuatro', 5, 6, 7, 'ocho', 'nueve', 10]\n"
          ]
        }
      ]
    },
    {
      "cell_type": "markdown",
      "source": [
        "**Ejemplo 9**\n"
      ],
      "metadata": {
        "id": "IirF8AGLxWtc"
      }
    },
    {
      "cell_type": "code",
      "source": [
        "lista_2 = [11,12,13,'catorce','quince',10+6]\n",
        "lista.extend(lista_2[0:6])\n",
        "print (lista)"
      ],
      "metadata": {
        "id": "GCsr3QePxWtc",
        "colab": {
          "base_uri": "https://localhost:8080/"
        },
        "outputId": "b3a310ed-2fc8-4925-9260-04e7f1a40c2f"
      },
      "execution_count": null,
      "outputs": [
        {
          "output_type": "stream",
          "name": "stdout",
          "text": [
            "[1, 2, 3, 'cuatro', 5, 6, 7, 'ocho', 'nueve', 10, 11, 12, 13, 'catorce', 'quince', 16]\n"
          ]
        }
      ]
    },
    {
      "cell_type": "markdown",
      "source": [
        "**Ejemplo 10**\n"
      ],
      "metadata": {
        "id": "Ze9EiE7OxWtc"
      }
    },
    {
      "cell_type": "code",
      "source": [
        "lista.append(17)\n",
        "print (lista)"
      ],
      "metadata": {
        "id": "iBSQtDP7xWtc",
        "colab": {
          "base_uri": "https://localhost:8080/"
        },
        "outputId": "2a010abf-defe-4909-e536-dcd90517e79f"
      },
      "execution_count": null,
      "outputs": [
        {
          "output_type": "stream",
          "name": "stdout",
          "text": [
            "[1, 2, 3, 'cuatro', 5, 6, 7, 'ocho', 'nueve', 10, 11, 12, 13, 'catorce', 'quince', 16, 17]\n"
          ]
        }
      ]
    },
    {
      "cell_type": "markdown",
      "source": [
        "**Ejemplo 11**\n"
      ],
      "metadata": {
        "id": "tY_qDM2dxWtd"
      }
    },
    {
      "cell_type": "code",
      "source": [
        "lista.remove('catorce')\n",
        "print (lista)"
      ],
      "metadata": {
        "id": "1TxSANuLxWtd",
        "colab": {
          "base_uri": "https://localhost:8080/"
        },
        "outputId": "ce13049f-415d-42a3-9302-d3fa85951c25"
      },
      "execution_count": null,
      "outputs": [
        {
          "output_type": "stream",
          "name": "stdout",
          "text": [
            "[1, 2, 3, 'cuatro', 5, 6, 7, 'ocho', 'nueve', 10, 11, 12, 13, 'quince', 16, 17]\n"
          ]
        }
      ]
    },
    {
      "cell_type": "markdown",
      "source": [
        "**Ejemplo 12**\n"
      ],
      "metadata": {
        "id": "0zhZaQVHxWtd"
      }
    },
    {
      "cell_type": "code",
      "source": [
        "diccionario = {1:'Juan', 2 :'Alejandro', 3 :'Daniela'}\n",
        "print (diccionario[2])"
      ],
      "metadata": {
        "id": "ylBY7Oh0xWtd",
        "colab": {
          "base_uri": "https://localhost:8080/"
        },
        "outputId": "e430d7f3-1ed1-498e-b110-98f34df9f130"
      },
      "execution_count": null,
      "outputs": [
        {
          "output_type": "stream",
          "name": "stdout",
          "text": [
            "Alejandro\n"
          ]
        }
      ]
    },
    {
      "cell_type": "markdown",
      "source": [
        "**Ejemplo 13**\n"
      ],
      "metadata": {
        "id": "bI5CzyqTxWtd"
      }
    },
    {
      "cell_type": "code",
      "source": [
        "print(diccionario.keys())\n"
      ],
      "metadata": {
        "id": "7RMW7qJgxWtd",
        "colab": {
          "base_uri": "https://localhost:8080/"
        },
        "outputId": "74c009a3-2ed3-46ca-af33-b07328a52273"
      },
      "execution_count": null,
      "outputs": [
        {
          "output_type": "stream",
          "name": "stdout",
          "text": [
            "dict_keys([1, 2, 3])\n"
          ]
        }
      ]
    },
    {
      "cell_type": "markdown",
      "source": [
        "**Ejemplo 14**\n"
      ],
      "metadata": {
        "id": "4i-txrvJxWtd"
      }
    },
    {
      "cell_type": "code",
      "source": [
        "string = 'Hello world'\n",
        "print(string[5:])"
      ],
      "metadata": {
        "id": "TnZAHiF8xWtd",
        "colab": {
          "base_uri": "https://localhost:8080/"
        },
        "outputId": "f860eafd-357e-4fd0-b166-40a7cf76bf7d"
      },
      "execution_count": null,
      "outputs": [
        {
          "output_type": "stream",
          "name": "stdout",
          "text": [
            " world\n"
          ]
        }
      ]
    },
    {
      "cell_type": "markdown",
      "source": [
        "**Ejemplo 15**\n"
      ],
      "metadata": {
        "id": "37XLzLPIxWte"
      }
    },
    {
      "cell_type": "code",
      "source": [
        "nombre_completo = 'Nombre: {}, Apellido:{}'.format('Alejandro','Jimenez')\n",
        "print(nombre_completo)"
      ],
      "metadata": {
        "id": "qKEv1iixxWte",
        "colab": {
          "base_uri": "https://localhost:8080/"
        },
        "outputId": "c1faa011-ed3f-42b8-81ef-40ceaba6f182"
      },
      "execution_count": null,
      "outputs": [
        {
          "output_type": "stream",
          "name": "stdout",
          "text": [
            "Nombre: Alejandro, Apellido:Jimenez\n"
          ]
        }
      ]
    },
    {
      "cell_type": "markdown",
      "source": [
        "**Ejemplo 16**\n"
      ],
      "metadata": {
        "id": "JT3CdMkfxWte"
      }
    },
    {
      "cell_type": "code",
      "source": [
        "print('%s %s'%('Hello','world'))"
      ],
      "metadata": {
        "id": "OKmOMW9-xWte",
        "colab": {
          "base_uri": "https://localhost:8080/"
        },
        "outputId": "1f449d4b-2634-4796-f819-7264cd4adcba"
      },
      "execution_count": null,
      "outputs": [
        {
          "output_type": "stream",
          "name": "stdout",
          "text": [
            "Hello world\n"
          ]
        }
      ]
    },
    {
      "cell_type": "markdown",
      "source": [
        "**Ejemplo 17**\n"
      ],
      "metadata": {
        "id": "Q0GzpZzIxWte"
      }
    },
    {
      "cell_type": "code",
      "source": [
        "print('wellx wxrld'.replace('x','o'))"
      ],
      "metadata": {
        "id": "qz8gzDeOxWte",
        "colab": {
          "base_uri": "https://localhost:8080/"
        },
        "outputId": "69c9d7d2-deaa-4543-e522-e856e592772d"
      },
      "execution_count": null,
      "outputs": [
        {
          "output_type": "stream",
          "name": "stdout",
          "text": [
            "wello world\n"
          ]
        }
      ]
    },
    {
      "cell_type": "markdown",
      "source": [
        "**Ejemplo 18**\n"
      ],
      "metadata": {
        "id": "VGz9xQzLxWte"
      }
    },
    {
      "cell_type": "code",
      "source": [
        "lista [3] = 4\n",
        "print(lista)"
      ],
      "metadata": {
        "id": "ZLDZRRE1xWte",
        "colab": {
          "base_uri": "https://localhost:8080/"
        },
        "outputId": "952ba995-62af-4b94-a56e-b8e867493ec9"
      },
      "execution_count": null,
      "outputs": [
        {
          "output_type": "stream",
          "name": "stdout",
          "text": [
            "[1, 2, 3, 4, 5, 6, 7, 'ocho', 'nueve', 10, 11, 12, 13, 'quince', 16, 17]\n"
          ]
        }
      ]
    },
    {
      "cell_type": "markdown",
      "source": [
        "**Ejemplo 19**\n"
      ],
      "metadata": {
        "id": "QTy0APEQxWte"
      }
    },
    {
      "cell_type": "code",
      "source": [
        "w = 'world' \n",
        "print('%s %s'%('Hello',w))"
      ],
      "metadata": {
        "id": "0Pg0z1cQxWtf",
        "colab": {
          "base_uri": "https://localhost:8080/"
        },
        "outputId": "0fb9ec45-b4ff-4a20-ee8b-dd2ee1ac6790"
      },
      "execution_count": null,
      "outputs": [
        {
          "output_type": "stream",
          "name": "stdout",
          "text": [
            "Hello world\n"
          ]
        }
      ]
    },
    {
      "cell_type": "markdown",
      "source": [
        "**Ejemplo 20**\n"
      ],
      "metadata": {
        "id": "iQt_Fv9MxWtf"
      }
    },
    {
      "cell_type": "code",
      "source": [
        "print(lista[:8])"
      ],
      "metadata": {
        "id": "dw-Q0tFOxWtf",
        "colab": {
          "base_uri": "https://localhost:8080/"
        },
        "outputId": "b0ccfbe5-991b-409c-c443-bd3d6ddf71c8"
      },
      "execution_count": null,
      "outputs": [
        {
          "output_type": "stream",
          "name": "stdout",
          "text": [
            "[1, 2, 3, 4, 5, 6, 7, 'ocho']\n"
          ]
        }
      ]
    },
    {
      "cell_type": "markdown",
      "source": [
        "#**Sección 3**"
      ],
      "metadata": {
        "id": "1WFnaS32wL0F"
      }
    },
    {
      "cell_type": "markdown",
      "source": [
        "**Ejemplo 1**\n",
        "\n",
        "\n",
        "\n"
      ],
      "metadata": {
        "id": "FoR-6mMKxYuE"
      }
    },
    {
      "cell_type": "code",
      "source": [
        "print(10 == 6 or 9 > 5)\n"
      ],
      "metadata": {
        "id": "fVX1EJPmxYuF",
        "colab": {
          "base_uri": "https://localhost:8080/"
        },
        "outputId": "9650b867-993e-4ef0-a5ec-9eb03a47b56e"
      },
      "execution_count": null,
      "outputs": [
        {
          "output_type": "stream",
          "name": "stdout",
          "text": [
            "True\n"
          ]
        }
      ]
    },
    {
      "cell_type": "markdown",
      "source": [
        "**Ejemplo 2**\n"
      ],
      "metadata": {
        "id": "IGu92BhFxYuF"
      }
    },
    {
      "cell_type": "code",
      "source": [
        "print(3 != 3)\n"
      ],
      "metadata": {
        "id": "2RbxCPeixYuG",
        "colab": {
          "base_uri": "https://localhost:8080/"
        },
        "outputId": "69b16e9a-e090-4bef-b161-189a3f6e761c"
      },
      "execution_count": null,
      "outputs": [
        {
          "output_type": "stream",
          "name": "stdout",
          "text": [
            "True\n"
          ]
        }
      ]
    },
    {
      "cell_type": "markdown",
      "source": [
        "**Ejemplo 3**\n"
      ],
      "metadata": {
        "id": "naO_oFeoxYuG"
      }
    },
    {
      "cell_type": "code",
      "source": [
        "\n",
        "print(7 >= (4+3))\n"
      ],
      "metadata": {
        "id": "RVDiEErixYuH",
        "colab": {
          "base_uri": "https://localhost:8080/"
        },
        "outputId": "1063a5db-b7c2-43e8-a81f-f3dda1cde62d"
      },
      "execution_count": null,
      "outputs": [
        {
          "output_type": "stream",
          "name": "stdout",
          "text": [
            "True\n"
          ]
        }
      ]
    },
    {
      "cell_type": "markdown",
      "source": [
        "**Ejemplo 4**\n"
      ],
      "metadata": {
        "id": "LMPUgIwXxYuH"
      }
    },
    {
      "cell_type": "code",
      "source": [
        "x = 9\n",
        "print(9 >= 6)"
      ],
      "metadata": {
        "id": "F9yeLzksxYuI",
        "colab": {
          "base_uri": "https://localhost:8080/"
        },
        "outputId": "db756916-3e48-4fb8-8589-1a918de21561"
      },
      "execution_count": null,
      "outputs": [
        {
          "output_type": "stream",
          "name": "stdout",
          "text": [
            "True\n"
          ]
        }
      ]
    },
    {
      "cell_type": "markdown",
      "source": [
        "**Ejemplo 5**\n"
      ],
      "metadata": {
        "id": "sLhKzRNRxYuI"
      }
    },
    {
      "cell_type": "code",
      "source": [
        "x = 12\n",
        "y = 24\n",
        "print (y==2*x)"
      ],
      "metadata": {
        "id": "d4h_wDYcxYuJ",
        "colab": {
          "base_uri": "https://localhost:8080/"
        },
        "outputId": "5605daf3-80e8-4cf5-e4d5-66ca86ae41fb"
      },
      "execution_count": null,
      "outputs": [
        {
          "output_type": "stream",
          "name": "stdout",
          "text": [
            "True\n"
          ]
        }
      ]
    },
    {
      "cell_type": "markdown",
      "source": [
        "**Ejemplo 6**\n"
      ],
      "metadata": {
        "id": "hDtuX5xyxYuJ"
      }
    },
    {
      "cell_type": "code",
      "source": [
        "for i in range (10):\n",
        "  print (i+1)\n"
      ],
      "metadata": {
        "id": "PvkqqL4NxYuK",
        "colab": {
          "base_uri": "https://localhost:8080/"
        },
        "outputId": "a5e3088d-99e2-4c67-ee69-523a3b1050b5"
      },
      "execution_count": null,
      "outputs": [
        {
          "output_type": "stream",
          "name": "stdout",
          "text": [
            "1\n",
            "2\n",
            "3\n",
            "4\n",
            "5\n",
            "6\n",
            "7\n",
            "8\n",
            "9\n",
            "10\n"
          ]
        }
      ]
    },
    {
      "cell_type": "markdown",
      "source": [
        "**Ejemplo 7**\n"
      ],
      "metadata": {
        "id": "U6uO0wqFxYuK"
      }
    },
    {
      "cell_type": "code",
      "source": [
        "f=1\n",
        "for i in range (10):\n",
        "  if i >= 8:\n",
        "    print(i,'es mayor o igual a 8')\n",
        "  else: \n",
        "    print(i,'es menor o igual a 8')"
      ],
      "metadata": {
        "id": "dBNnzEExxYuK",
        "colab": {
          "base_uri": "https://localhost:8080/"
        },
        "outputId": "5710ade2-3ea7-4a1b-d9a2-224954f622a1"
      },
      "execution_count": null,
      "outputs": [
        {
          "output_type": "stream",
          "name": "stdout",
          "text": [
            "0 es menor o igual a 8\n",
            "1 es menor o igual a 8\n",
            "2 es menor o igual a 8\n",
            "3 es menor o igual a 8\n",
            "4 es menor o igual a 8\n",
            "5 es menor o igual a 8\n",
            "6 es menor o igual a 8\n",
            "7 es menor o igual a 8\n",
            "8 es mayor o igual a 8\n",
            "9 es mayor o igual a 8\n"
          ]
        }
      ]
    },
    {
      "cell_type": "markdown",
      "source": [
        "**Ejemplo 8**\n"
      ],
      "metadata": {
        "id": "0LiySFc1xYuL"
      }
    },
    {
      "cell_type": "code",
      "source": [
        "for i in ['uno',2,'tres',4,'cuatro']:\n",
        "    print(i)"
      ],
      "metadata": {
        "id": "OVzRH2_yxYuL",
        "colab": {
          "base_uri": "https://localhost:8080/"
        },
        "outputId": "012acd7b-49a8-437f-a0ed-79572a2f32e5"
      },
      "execution_count": null,
      "outputs": [
        {
          "output_type": "stream",
          "name": "stdout",
          "text": [
            "uno\n",
            "2\n",
            "tres\n",
            "4\n",
            "cuatro\n"
          ]
        }
      ]
    },
    {
      "cell_type": "markdown",
      "source": [
        "**Ejemplo 9**\n"
      ],
      "metadata": {
        "id": "PB8GPM1cxYuM"
      }
    },
    {
      "cell_type": "code",
      "source": [
        "A = ['uno:','dos:','tres:','cuatro:']\n",
        "u = 0\n",
        "while u < 4:\n",
        "  print(A[u],u+1)\n",
        "  u+=1 "
      ],
      "metadata": {
        "id": "U9EqQPVRxYuM",
        "colab": {
          "base_uri": "https://localhost:8080/"
        },
        "outputId": "6c0f4753-bf65-4e98-c450-4afdcf123d03"
      },
      "execution_count": null,
      "outputs": [
        {
          "output_type": "stream",
          "name": "stdout",
          "text": [
            "uno: 1\n",
            "dos: 2\n",
            "tres: 3\n",
            "cuatro: 4\n"
          ]
        }
      ]
    },
    {
      "cell_type": "markdown",
      "source": [
        "**Ejemplo 10**\n"
      ],
      "metadata": {
        "id": "71R3P4yPxYuN"
      }
    },
    {
      "cell_type": "code",
      "source": [
        "for i in range (1,20):\n",
        "  if i % 2 == 0:\n",
        "    print (i, 'es par')\n",
        "  else: \n",
        "    print (i, 'es impar')\n"
      ],
      "metadata": {
        "id": "jiEug-MFxYuN",
        "colab": {
          "base_uri": "https://localhost:8080/"
        },
        "outputId": "aa5db418-ff24-4245-a55d-d320a83f79e0"
      },
      "execution_count": null,
      "outputs": [
        {
          "output_type": "stream",
          "name": "stdout",
          "text": [
            "1 es impar\n",
            "2 es par\n",
            "3 es impar\n",
            "4 es par\n",
            "5 es impar\n",
            "6 es par\n",
            "7 es impar\n",
            "8 es par\n",
            "9 es impar\n",
            "10 es par\n",
            "11 es impar\n",
            "12 es par\n",
            "13 es impar\n",
            "14 es par\n",
            "15 es impar\n",
            "16 es par\n",
            "17 es impar\n",
            "18 es par\n",
            "19 es impar\n"
          ]
        }
      ]
    },
    {
      "cell_type": "markdown",
      "source": [
        "**Ejemplo 11**\n"
      ],
      "metadata": {
        "id": "Hghy78aZxYuO"
      }
    },
    {
      "cell_type": "code",
      "source": [
        "lista_3 = [2,4,6,8,9]\n",
        "for i in range (len(lista_3)):\n",
        "  lista_3[i]=lista_3[i]*lista_3[i]\n",
        "print(lista_3)  "
      ],
      "metadata": {
        "id": "Aekk_spfxYuO",
        "colab": {
          "base_uri": "https://localhost:8080/"
        },
        "outputId": "91d657a6-05c5-466b-c9a5-b82f1382a125"
      },
      "execution_count": null,
      "outputs": [
        {
          "output_type": "stream",
          "name": "stdout",
          "text": [
            "[4, 16, 36, 64, 81]\n"
          ]
        }
      ]
    },
    {
      "cell_type": "markdown",
      "source": [
        "**Ejemplo 12**\n"
      ],
      "metadata": {
        "id": "SED3K1BExYuP"
      }
    },
    {
      "cell_type": "code",
      "source": [
        "a=0\n",
        "b=0\n",
        "c=1\n",
        "for i in range (15):\n",
        "  a = b+c\n",
        "  b = a\n",
        "  c = b-c\n",
        "  print (a)"
      ],
      "metadata": {
        "id": "ypxVVM3sxYuP",
        "colab": {
          "base_uri": "https://localhost:8080/"
        },
        "outputId": "1df203e8-ee6f-4b32-e5ed-41812c1fa9f5"
      },
      "execution_count": null,
      "outputs": [
        {
          "output_type": "stream",
          "name": "stdout",
          "text": [
            "1\n",
            "1\n",
            "2\n",
            "3\n",
            "5\n",
            "8\n",
            "13\n",
            "21\n",
            "34\n",
            "55\n",
            "89\n",
            "144\n",
            "233\n",
            "377\n",
            "610\n"
          ]
        }
      ]
    },
    {
      "cell_type": "markdown",
      "source": [
        "**Ejemplo 13**\n"
      ],
      "metadata": {
        "id": "y1rgnusVxYuP"
      }
    },
    {
      "cell_type": "code",
      "source": [
        "print([(x, y,z) for x in [1,2,3] for y in [3,1,4] for z in (3,2,1) if (x != y and y != z)])"
      ],
      "metadata": {
        "id": "b-p1MLczxYuQ",
        "colab": {
          "base_uri": "https://localhost:8080/"
        },
        "outputId": "1efc40f8-2520-4855-fd12-e554dea80d67"
      },
      "execution_count": null,
      "outputs": [
        {
          "output_type": "stream",
          "name": "stdout",
          "text": [
            "[(1, 3, 2), (1, 3, 1), (1, 4, 3), (1, 4, 2), (1, 4, 1), (2, 3, 2), (2, 3, 1), (2, 1, 3), (2, 1, 2), (2, 4, 3), (2, 4, 2), (2, 4, 1), (3, 1, 3), (3, 1, 2), (3, 4, 3), (3, 4, 2), (3, 4, 1)]\n"
          ]
        }
      ]
    },
    {
      "cell_type": "markdown",
      "source": [
        "**Ejemplo 14**\n"
      ],
      "metadata": {
        "id": "jFUcNWa7xYuQ"
      }
    },
    {
      "cell_type": "code",
      "source": [
        "x = [1,0,1,0,1,0,1,0,1,0,0]\n",
        "y = [0,1,0,1,0,1,0,1,0,1,1]\n",
        "z= []\n",
        "for i in range (5):\n",
        "  z.append(y)\n",
        "  z.append(x)\n",
        "  \n",
        "print(z)"
      ],
      "metadata": {
        "id": "dB1zjLM0xYuR",
        "colab": {
          "base_uri": "https://localhost:8080/"
        },
        "outputId": "d3a53569-2f66-4c8d-dd35-0acb5296e17a"
      },
      "execution_count": null,
      "outputs": [
        {
          "output_type": "stream",
          "name": "stdout",
          "text": [
            "[[0, 1, 0, 1, 0, 1, 0, 1, 0, 1, 1], [1, 0, 1, 0, 1, 0, 1, 0, 1, 0, 0], [0, 1, 0, 1, 0, 1, 0, 1, 0, 1, 1], [1, 0, 1, 0, 1, 0, 1, 0, 1, 0, 0], [0, 1, 0, 1, 0, 1, 0, 1, 0, 1, 1], [1, 0, 1, 0, 1, 0, 1, 0, 1, 0, 0], [0, 1, 0, 1, 0, 1, 0, 1, 0, 1, 1], [1, 0, 1, 0, 1, 0, 1, 0, 1, 0, 0], [0, 1, 0, 1, 0, 1, 0, 1, 0, 1, 1], [1, 0, 1, 0, 1, 0, 1, 0, 1, 0, 0]]\n"
          ]
        }
      ]
    },
    {
      "cell_type": "markdown",
      "source": [
        "**Ejemplo 15**\n"
      ],
      "metadata": {
        "id": "NjPeWogSxYuR"
      }
    },
    {
      "cell_type": "code",
      "source": [
        "for i in range (len(z)):\n",
        "    print(z[i])"
      ],
      "metadata": {
        "id": "8JRgrWE-xYuS",
        "colab": {
          "base_uri": "https://localhost:8080/"
        },
        "outputId": "4a2c80a3-399b-4820-dccc-6dff1c7d4e7a"
      },
      "execution_count": null,
      "outputs": [
        {
          "output_type": "stream",
          "name": "stdout",
          "text": [
            "[0, 1, 0, 1, 0, 1, 0, 1, 0, 1, 1]\n",
            "[1, 0, 1, 0, 1, 0, 1, 0, 1, 0, 0]\n",
            "[0, 1, 0, 1, 0, 1, 0, 1, 0, 1, 1]\n",
            "[1, 0, 1, 0, 1, 0, 1, 0, 1, 0, 0]\n",
            "[0, 1, 0, 1, 0, 1, 0, 1, 0, 1, 1]\n",
            "[1, 0, 1, 0, 1, 0, 1, 0, 1, 0, 0]\n",
            "[0, 1, 0, 1, 0, 1, 0, 1, 0, 1, 1]\n",
            "[1, 0, 1, 0, 1, 0, 1, 0, 1, 0, 0]\n",
            "[0, 1, 0, 1, 0, 1, 0, 1, 0, 1, 1]\n",
            "[1, 0, 1, 0, 1, 0, 1, 0, 1, 0, 0]\n"
          ]
        }
      ]
    },
    {
      "cell_type": "markdown",
      "source": [
        "**Ejemplo 16**\n"
      ],
      "metadata": {
        "id": "GpiucYKkxYuS"
      }
    },
    {
      "cell_type": "code",
      "source": [
        "cubos = []\n",
        "for i in [3,6,9,1,8]:\n",
        "    cubos.append(i**3)\n",
        "print(cubos)"
      ],
      "metadata": {
        "id": "DEpUvxzzxYuT",
        "colab": {
          "base_uri": "https://localhost:8080/"
        },
        "outputId": "4d88475e-5dc6-43a8-e891-819b665f9edc"
      },
      "execution_count": null,
      "outputs": [
        {
          "output_type": "stream",
          "name": "stdout",
          "text": [
            "[27, 216, 729, 1, 512]\n"
          ]
        }
      ]
    },
    {
      "cell_type": "markdown",
      "source": [
        "**Ejemplo 17**\n"
      ],
      "metadata": {
        "id": "ArDkUJEIxYuT"
      }
    },
    {
      "cell_type": "code",
      "source": [
        "f= 10\n",
        "c= 10\n",
        "for i in range(f):\n",
        "  print('')\n",
        "  for j in range(c):\n",
        "    print('o' ,end = '')"
      ],
      "metadata": {
        "id": "z3L3C53yxYuT",
        "colab": {
          "base_uri": "https://localhost:8080/"
        },
        "outputId": "4fff7893-be30-4eb0-e031-296bc452e36c"
      },
      "execution_count": null,
      "outputs": [
        {
          "output_type": "stream",
          "name": "stdout",
          "text": [
            "\n",
            "oooooooooo\n",
            "oooooooooo\n",
            "oooooooooo\n",
            "oooooooooo\n",
            "oooooooooo\n",
            "oooooooooo\n",
            "oooooooooo\n",
            "oooooooooo\n",
            "oooooooooo\n",
            "oooooooooo"
          ]
        }
      ]
    },
    {
      "cell_type": "markdown",
      "source": [
        "**Ejemplo 18**\n"
      ],
      "metadata": {
        "id": "RLN7Pp6mxYuT"
      }
    },
    {
      "cell_type": "code",
      "source": [
        "for i in range (10):\n",
        "  print ('*'*i)"
      ],
      "metadata": {
        "id": "uvigXhhWxYuU",
        "colab": {
          "base_uri": "https://localhost:8080/"
        },
        "outputId": "ab9609c0-6194-4a66-929a-19156f43e08d"
      },
      "execution_count": null,
      "outputs": [
        {
          "output_type": "stream",
          "name": "stdout",
          "text": [
            "\n",
            "*\n",
            "**\n",
            "***\n",
            "****\n",
            "*****\n",
            "******\n",
            "*******\n",
            "********\n",
            "*********\n"
          ]
        }
      ]
    },
    {
      "cell_type": "markdown",
      "source": [
        "**Ejemplo 19**\n"
      ],
      "metadata": {
        "id": "g-GuTsplxYuU"
      }
    },
    {
      "cell_type": "code",
      "source": [
        "a=20\n",
        "for i in range (a):\n",
        "  print (' '*(a-i),'*'*(i*2-1))\n",
        "a = a-1"
      ],
      "metadata": {
        "id": "0eeRCzubxYuU",
        "colab": {
          "base_uri": "https://localhost:8080/"
        },
        "outputId": "f28f4eeb-3803-4359-a443-3016c15028a2"
      },
      "execution_count": null,
      "outputs": [
        {
          "output_type": "stream",
          "name": "stdout",
          "text": [
            "                     \n",
            "                    *\n",
            "                   ***\n",
            "                  *****\n",
            "                 *******\n",
            "                *********\n",
            "               ***********\n",
            "              *************\n",
            "             ***************\n",
            "            *****************\n",
            "           *******************\n",
            "          *********************\n",
            "         ***********************\n",
            "        *************************\n",
            "       ***************************\n",
            "      *****************************\n",
            "     *******************************\n",
            "    *********************************\n",
            "   ***********************************\n",
            "  *************************************\n"
          ]
        }
      ]
    },
    {
      "cell_type": "markdown",
      "source": [
        "**Ejemplo 20**\n"
      ],
      "metadata": {
        "id": "VbzknD1QxYuU"
      }
    },
    {
      "cell_type": "code",
      "source": [
        "for i in range (10):\n",
        "  for j in range(i):\n",
        "    print ('*'*j)"
      ],
      "metadata": {
        "id": "VWPI_YicxYuU",
        "colab": {
          "base_uri": "https://localhost:8080/"
        },
        "outputId": "ed9bb38b-8bdf-49fe-b93d-c6eb987a4468"
      },
      "execution_count": null,
      "outputs": [
        {
          "output_type": "stream",
          "name": "stdout",
          "text": [
            "\n",
            "\n",
            "*\n",
            "\n",
            "*\n",
            "**\n",
            "\n",
            "*\n",
            "**\n",
            "***\n",
            "\n",
            "*\n",
            "**\n",
            "***\n",
            "****\n",
            "\n",
            "*\n",
            "**\n",
            "***\n",
            "****\n",
            "*****\n",
            "\n",
            "*\n",
            "**\n",
            "***\n",
            "****\n",
            "*****\n",
            "******\n",
            "\n",
            "*\n",
            "**\n",
            "***\n",
            "****\n",
            "*****\n",
            "******\n",
            "*******\n",
            "\n",
            "*\n",
            "**\n",
            "***\n",
            "****\n",
            "*****\n",
            "******\n",
            "*******\n",
            "********\n"
          ]
        }
      ]
    },
    {
      "cell_type": "markdown",
      "source": [
        "#**Sección 4 Functions and Object-Oriented Programming**"
      ],
      "metadata": {
        "id": "K9QuSjAJwNcN"
      }
    },
    {
      "cell_type": "markdown",
      "source": [
        "**Ejemplo 1**\n",
        "\n",
        "\n",
        "\n"
      ],
      "metadata": {
        "id": "Gp8uIHzDxZi5"
      }
    },
    {
      "cell_type": "code",
      "source": [
        "def suma(x,y):\n",
        "    return x+y\n",
        "print(suma(5,7))"
      ],
      "metadata": {
        "id": "t3N89sUexZi5",
        "colab": {
          "base_uri": "https://localhost:8080/"
        },
        "outputId": "25fd2d26-8220-4482-86e9-5f72ba74d727"
      },
      "execution_count": null,
      "outputs": [
        {
          "output_type": "stream",
          "name": "stdout",
          "text": [
            "12\n"
          ]
        }
      ]
    },
    {
      "cell_type": "markdown",
      "source": [
        "**Ejemplo 2**\n"
      ],
      "metadata": {
        "id": "te67mH5oxZi5"
      }
    },
    {
      "cell_type": "code",
      "source": [
        "def divicion(x,y):\n",
        "    return x/y\n",
        "print(divicion(6,9))"
      ],
      "metadata": {
        "id": "2JWx8QUbxZi5",
        "colab": {
          "base_uri": "https://localhost:8080/"
        },
        "outputId": "5c00dc69-4577-4cee-828b-663cf05aa38a"
      },
      "execution_count": null,
      "outputs": [
        {
          "output_type": "stream",
          "name": "stdout",
          "text": [
            "0.6666666666666666\n"
          ]
        }
      ]
    },
    {
      "cell_type": "markdown",
      "source": [
        "**Ejemplo 3**\n"
      ],
      "metadata": {
        "id": "CKeBTmYLxZi5"
      }
    },
    {
      "cell_type": "code",
      "source": [
        "def fibonacci(x):\n",
        "    if x == 1 or x == 2:\n",
        "        return 1\n",
        "    else:\n",
        "        return fibonacci(x-1) + fibonacci(x-2)\n",
        "\n",
        "print(fibonacci(3))"
      ],
      "metadata": {
        "id": "chKyZ_uhxZi5",
        "colab": {
          "base_uri": "https://localhost:8080/"
        },
        "outputId": "f9017ae7-a571-40f6-f7ee-b283cf426667"
      },
      "execution_count": null,
      "outputs": [
        {
          "output_type": "stream",
          "name": "stdout",
          "text": [
            "2\n"
          ]
        }
      ]
    },
    {
      "cell_type": "markdown",
      "source": [
        "**Ejemplo 4**\n"
      ],
      "metadata": {
        "id": "tICn2jVrxZi6"
      }
    },
    {
      "cell_type": "code",
      "source": [
        "def sum_multi(x,y,z):\n",
        "  if z == 0:\n",
        "    return ('Z < 0')\n",
        "  else:\n",
        "    return (((x+y)**z)/z)\n",
        "\n",
        "print (sum_multi(1,5,4))"
      ],
      "metadata": {
        "id": "PnNStdfLxZi6",
        "colab": {
          "base_uri": "https://localhost:8080/"
        },
        "outputId": "3c47e185-a565-4cbe-8acc-28589108e60e"
      },
      "execution_count": null,
      "outputs": [
        {
          "output_type": "stream",
          "name": "stdout",
          "text": [
            "Z < 0\n"
          ]
        }
      ]
    },
    {
      "cell_type": "markdown",
      "source": [
        "**Ejemplo 5**\n"
      ],
      "metadata": {
        "id": "YK6ArHvmxZi6"
      }
    },
    {
      "cell_type": "code",
      "source": [
        "list(map(lambda x, y: x**y, [7,6,33,9,2],[2,2,3,2,3]))"
      ],
      "metadata": {
        "id": "3K8UhhltxZi6",
        "colab": {
          "base_uri": "https://localhost:8080/"
        },
        "outputId": "a75777e5-4969-4ad8-d398-03cf142ca214"
      },
      "execution_count": null,
      "outputs": [
        {
          "output_type": "execute_result",
          "data": {
            "text/plain": [
              "[49, 36, 35937, 81, 8]"
            ]
          },
          "metadata": {},
          "execution_count": 18
        }
      ]
    },
    {
      "cell_type": "markdown",
      "source": [
        "**Ejemplo 6**\n"
      ],
      "metadata": {
        "id": "skiMT_DRxZi6"
      }
    },
    {
      "cell_type": "code",
      "source": [
        "def saludo(nombre,x):\n",
        "    if x == 'M':\n",
        "      return(f\"Hello, Mr.  {nombre}\")\n",
        "    elif x == 'F':\n",
        "      return(f\"Hollo, Mss.  {nombre}\")\n",
        "\n",
        "\n",
        "\n",
        "    \n",
        "print(saludo('Angela',\"F\"))\n",
        "print(saludo('Andres',\"M\"))\n"
      ],
      "metadata": {
        "id": "uLlJOprpxZi6",
        "colab": {
          "base_uri": "https://localhost:8080/"
        },
        "outputId": "6fb61529-79f0-4274-ef4d-e031faf51519"
      },
      "execution_count": null,
      "outputs": [
        {
          "output_type": "stream",
          "name": "stdout",
          "text": [
            "Hollo, Mss.  Angela\n",
            "Hello, Mr.  Andres\n"
          ]
        }
      ]
    },
    {
      "cell_type": "markdown",
      "source": [
        "**Ejemplo 7**\n"
      ],
      "metadata": {
        "id": "QisCKytXxZi6"
      }
    },
    {
      "cell_type": "code",
      "source": [
        "def Hello_w():\n",
        "  return ('Hello World')\n",
        "\n",
        "print(Hello_w())"
      ],
      "metadata": {
        "id": "hqNP1wEPxZi6",
        "colab": {
          "base_uri": "https://localhost:8080/"
        },
        "outputId": "2768a5b8-45f3-4d3b-f8a2-ef25d1f76b6b"
      },
      "execution_count": null,
      "outputs": [
        {
          "output_type": "stream",
          "name": "stdout",
          "text": [
            "Hello World\n"
          ]
        }
      ]
    },
    {
      "cell_type": "markdown",
      "source": [
        "**Ejemplo 8**\n"
      ],
      "metadata": {
        "id": "iJEydkmNxZi6"
      }
    },
    {
      "cell_type": "code",
      "source": [
        "def prom(w,x,y,z):\n",
        "  return((w+x+y+z)/4)\n",
        "print(prom(2,6,8,2))"
      ],
      "metadata": {
        "id": "I7VO8OBAxZi7",
        "colab": {
          "base_uri": "https://localhost:8080/"
        },
        "outputId": "85f3636d-c07e-4be6-a208-54421a38af31"
      },
      "execution_count": null,
      "outputs": [
        {
          "output_type": "stream",
          "name": "stdout",
          "text": [
            "4.5\n"
          ]
        }
      ]
    },
    {
      "cell_type": "markdown",
      "source": [
        "**Ejemplo 9**\n"
      ],
      "metadata": {
        "id": "uGviwXNgxZi7"
      }
    },
    {
      "cell_type": "code",
      "source": [
        "def primo(numero, a=2):\n",
        "    if a >= numero:\n",
        "        return ('Es primo')\n",
        "    elif numero % a != 0:\n",
        "        return primo(numero,a+1)\n",
        "    else:\n",
        "        return ('No es primo')\n",
        "\n",
        "primo(13)"
      ],
      "metadata": {
        "id": "kfNASOg1xZi7",
        "colab": {
          "base_uri": "https://localhost:8080/",
          "height": 35
        },
        "outputId": "313ec8ba-5a7e-4b38-9bef-e07cc623d50b"
      },
      "execution_count": null,
      "outputs": [
        {
          "output_type": "execute_result",
          "data": {
            "text/plain": [
              "'Es primo'"
            ],
            "application/vnd.google.colaboratory.intrinsic+json": {
              "type": "string"
            }
          },
          "metadata": {},
          "execution_count": 29
        }
      ]
    },
    {
      "cell_type": "markdown",
      "source": [
        "**Ejemplo 10**\n"
      ],
      "metadata": {
        "id": "1YtDzZ-DxZi7"
      }
    },
    {
      "cell_type": "code",
      "source": [
        "print(range(24))"
      ],
      "metadata": {
        "id": "HO3ZVkpmxZi7",
        "colab": {
          "base_uri": "https://localhost:8080/"
        },
        "outputId": "16733686-e525-41d2-daa4-eee73af2a9e8"
      },
      "execution_count": null,
      "outputs": [
        {
          "output_type": "stream",
          "name": "stdout",
          "text": [
            "range(0, 24)\n"
          ]
        }
      ]
    },
    {
      "cell_type": "markdown",
      "source": [
        "**Ejemplo 11**\n"
      ],
      "metadata": {
        "id": "qYRfO2EQxZi7"
      }
    },
    {
      "cell_type": "code",
      "source": [
        "\n",
        "class auto:\n",
        "  def __init__(self,marca,modelo,cilindraje,taza):\n",
        "    self.marca = marca \n",
        "    self.modelo = modelo \n",
        "    self.cilindraje = cilindraje \n",
        "    self.taza = taza\n",
        "    self.precio = (cilindraje * taza * modelo/2)\n",
        "  \n",
        " \n",
        "  def print_precio(self):\n",
        "    print(self.precio)\n",
        "\n"
      ],
      "metadata": {
        "id": "bSIq1XAFxZi7"
      },
      "execution_count": null,
      "outputs": []
    },
    {
      "cell_type": "markdown",
      "source": [
        "**Ejemplo 12**\n"
      ],
      "metadata": {
        "id": "gx3tMRQpxZi7"
      }
    },
    {
      "cell_type": "code",
      "source": [
        "corola= auto('toyota',2002,2000,12)"
      ],
      "metadata": {
        "id": "fxXYRuovxZi7"
      },
      "execution_count": null,
      "outputs": []
    },
    {
      "cell_type": "markdown",
      "source": [
        "**Ejemplo 13**\n"
      ],
      "metadata": {
        "id": "D0KGAdmDxZi7"
      }
    },
    {
      "cell_type": "code",
      "source": [
        "corola.print_precio()"
      ],
      "metadata": {
        "id": "gOHTdS9dxZi8",
        "colab": {
          "base_uri": "https://localhost:8080/"
        },
        "outputId": "0adb5323-1555-4e3d-edf0-c5c89b878fa3"
      },
      "execution_count": null,
      "outputs": [
        {
          "output_type": "stream",
          "name": "stdout",
          "text": [
            "50050000.0\n"
          ]
        }
      ]
    },
    {
      "cell_type": "markdown",
      "source": [
        "**Ejemplo 14**\n"
      ],
      "metadata": {
        "id": "HTHRCqeaxZi8"
      }
    },
    {
      "cell_type": "code",
      "source": [
        "corola.marca"
      ],
      "metadata": {
        "id": "iYSfN5IoxZi8",
        "colab": {
          "base_uri": "https://localhost:8080/",
          "height": 35
        },
        "outputId": "f39a01ad-61ac-4f05-fdc1-648094ca0e77"
      },
      "execution_count": null,
      "outputs": [
        {
          "output_type": "execute_result",
          "data": {
            "text/plain": [
              "'toyota'"
            ],
            "application/vnd.google.colaboratory.intrinsic+json": {
              "type": "string"
            }
          },
          "metadata": {},
          "execution_count": 10
        }
      ]
    },
    {
      "cell_type": "markdown",
      "source": [
        "**Ejemplo 15**\n"
      ],
      "metadata": {
        "id": "kAlph8VoxZi8"
      }
    },
    {
      "cell_type": "code",
      "source": [
        "sandero = auto('renault', 2007,1800,.21)"
      ],
      "metadata": {
        "id": "odJBVtV4xZi8"
      },
      "execution_count": null,
      "outputs": []
    },
    {
      "cell_type": "markdown",
      "source": [
        "**Ejemplo 16**\n"
      ],
      "metadata": {
        "id": "lH95FpRPxZi8"
      }
    },
    {
      "cell_type": "code",
      "source": [
        "sandero.cilindraje = 2100"
      ],
      "metadata": {
        "id": "tVWS3CsVxZi8"
      },
      "execution_count": null,
      "outputs": []
    },
    {
      "cell_type": "markdown",
      "source": [
        "**Ejemplo 17**\n"
      ],
      "metadata": {
        "id": "KJveo8H9xZi8"
      }
    },
    {
      "cell_type": "code",
      "source": [
        "print('atributos de corola:', dir(corola)[26:])"
      ],
      "metadata": {
        "id": "SjjTb0XPxZi8",
        "colab": {
          "base_uri": "https://localhost:8080/"
        },
        "outputId": "73f048c5-9955-4a39-c4be-3037e21f0d23"
      },
      "execution_count": null,
      "outputs": [
        {
          "output_type": "stream",
          "name": "stdout",
          "text": [
            "atributos de corola: ['cilindraje', 'marca', 'modelo', 'precio', 'print_precio', 'taza']\n"
          ]
        }
      ]
    },
    {
      "cell_type": "markdown",
      "source": [
        "**Ejemplo 18**\n"
      ],
      "metadata": {
        "id": "LRP81dKuxZi8"
      }
    },
    {
      "cell_type": "code",
      "source": [
        "carro1_items = ['toyota',2022,4500,82]\n",
        "traqueto_car = auto(carro1_items[0],carro1_items[1],carro1_items[2],carro1_items[3])"
      ],
      "metadata": {
        "id": "UNdA-ZQ_xZi9"
      },
      "execution_count": null,
      "outputs": []
    },
    {
      "cell_type": "markdown",
      "source": [
        "**Ejemplo 19**\n"
      ],
      "metadata": {
        "id": "-LSz4ARnxZi9"
      }
    },
    {
      "cell_type": "code",
      "source": [
        "traqueto_car.cilindraje"
      ],
      "metadata": {
        "id": "2gmSFuP4xZi9",
        "colab": {
          "base_uri": "https://localhost:8080/"
        },
        "outputId": "80b3ea34-eb7a-40e5-b54d-385ea6bca69b"
      },
      "execution_count": null,
      "outputs": [
        {
          "output_type": "execute_result",
          "data": {
            "text/plain": [
              "4500"
            ]
          },
          "metadata": {},
          "execution_count": 45
        }
      ]
    },
    {
      "cell_type": "markdown",
      "source": [
        "**Ejemplo 20**\n"
      ],
      "metadata": {
        "id": "v9mh_4AaxZi9"
      }
    },
    {
      "cell_type": "code",
      "source": [
        "traqueto_car.precio"
      ],
      "metadata": {
        "id": "cczMZhPxxZi9",
        "colab": {
          "base_uri": "https://localhost:8080/"
        },
        "outputId": "8be9c5df-a712-459f-fb41-caf2c46b46ec"
      },
      "execution_count": null,
      "outputs": [
        {
          "output_type": "execute_result",
          "data": {
            "text/plain": [
              "373059000"
            ]
          },
          "metadata": {},
          "execution_count": 47
        }
      ]
    },
    {
      "cell_type": "markdown",
      "source": [
        "#**Sección 5: Introduction to NumPy**"
      ],
      "metadata": {
        "id": "7p1ipq4OwO6t"
      }
    },
    {
      "cell_type": "markdown",
      "source": [
        "**Ejemplo 1**\n",
        "\n",
        "\n",
        "\n"
      ],
      "metadata": {
        "id": "a5wqueNQxaDY"
      }
    },
    {
      "cell_type": "code",
      "source": [
        "import numpy as np\n",
        "import matplotlib.pyplot as plt\n",
        "lista = [1,9,4,6.1,2,3.2]"
      ],
      "metadata": {
        "id": "sgHOPThbxaDY"
      },
      "execution_count": null,
      "outputs": []
    },
    {
      "cell_type": "markdown",
      "source": [
        "**Ejemplo 2**\n"
      ],
      "metadata": {
        "id": "_g29hX6gxaDY"
      }
    },
    {
      "cell_type": "code",
      "source": [
        "lista_np = np.array(lista)\n",
        "print (lista_np)"
      ],
      "metadata": {
        "id": "gtrrCwfXxaDY",
        "colab": {
          "base_uri": "https://localhost:8080/"
        },
        "outputId": "0fa76cdb-11f6-496a-a16c-64346f9ec444"
      },
      "execution_count": null,
      "outputs": [
        {
          "output_type": "stream",
          "name": "stdout",
          "text": [
            "[1.  9.  4.  6.1 2.  3.2]\n"
          ]
        }
      ]
    },
    {
      "cell_type": "markdown",
      "source": [
        "**Ejemplo 3**\n"
      ],
      "metadata": {
        "id": "ZxGvIOt8xaDY"
      }
    },
    {
      "cell_type": "code",
      "source": [
        "print(type(lista_np))"
      ],
      "metadata": {
        "id": "8AUE3kgTxaDZ",
        "colab": {
          "base_uri": "https://localhost:8080/"
        },
        "outputId": "6f78d11b-79d2-46c5-f333-c0999942924d"
      },
      "execution_count": null,
      "outputs": [
        {
          "output_type": "stream",
          "name": "stdout",
          "text": [
            "<class 'numpy.ndarray'>\n"
          ]
        }
      ]
    },
    {
      "cell_type": "markdown",
      "source": [
        "**Ejemplo 4**\n"
      ],
      "metadata": {
        "id": "VIcPKtWoxaDZ"
      }
    },
    {
      "cell_type": "code",
      "source": [
        "lista_mtrx = np.array([[1,10,12,6.41,2,35.2],[1,10,14,61.1,72,3.2],[1,20,4,9.1,2,3.2]])"
      ],
      "metadata": {
        "id": "yWn8OshlxaDZ"
      },
      "execution_count": null,
      "outputs": []
    },
    {
      "cell_type": "markdown",
      "source": [
        "**Ejemplo 5**\n"
      ],
      "metadata": {
        "id": "PM9_XTegxaDZ"
      }
    },
    {
      "cell_type": "code",
      "source": [
        "print (lista_mtrx,'\\n', type(lista_mtrx))"
      ],
      "metadata": {
        "id": "OSTIZJkVxaDZ",
        "colab": {
          "base_uri": "https://localhost:8080/"
        },
        "outputId": "7bf9eb69-9f4e-4c39-9f8b-056587563fe6"
      },
      "execution_count": null,
      "outputs": [
        {
          "output_type": "stream",
          "name": "stdout",
          "text": [
            "[[1.  0.  4.  6.1 2.  3.2]\n",
            " [1.  0.  4.  6.1 2.  3.2]\n",
            " [1.  0.  4.  6.1 2.  3.2]] \n",
            " <class 'numpy.ndarray'>\n"
          ]
        }
      ]
    },
    {
      "cell_type": "markdown",
      "source": [
        "**Ejemplo 6**\n"
      ],
      "metadata": {
        "id": "-piiFgSrxaDZ"
      }
    },
    {
      "cell_type": "code",
      "source": [
        "print(lista_mtrx.shape)"
      ],
      "metadata": {
        "id": "dNJtyJolxaDZ",
        "colab": {
          "base_uri": "https://localhost:8080/"
        },
        "outputId": "03549ccb-76a1-4bcf-c0ad-6e12da34ed4d"
      },
      "execution_count": null,
      "outputs": [
        {
          "output_type": "stream",
          "name": "stdout",
          "text": [
            "(3, 6)\n"
          ]
        }
      ]
    },
    {
      "cell_type": "markdown",
      "source": [
        "**Ejemplo 7**\n"
      ],
      "metadata": {
        "id": "6K3pcdeZxaDZ"
      }
    },
    {
      "cell_type": "code",
      "source": [
        "print(lista_np.shape)"
      ],
      "metadata": {
        "id": "ctEAFDpCxaDZ",
        "colab": {
          "base_uri": "https://localhost:8080/"
        },
        "outputId": "9fcfdc76-a12b-41d8-f74f-ae782317893b"
      },
      "execution_count": null,
      "outputs": [
        {
          "output_type": "stream",
          "name": "stdout",
          "text": [
            "(6,)\n"
          ]
        }
      ]
    },
    {
      "cell_type": "markdown",
      "source": [
        "**Ejemplo 8**\n"
      ],
      "metadata": {
        "id": "xBaqWwEGxaDZ"
      }
    },
    {
      "cell_type": "code",
      "source": [
        "print(lista_np[0],lista_np[1::])"
      ],
      "metadata": {
        "id": "GlZ04F3JxaDa",
        "colab": {
          "base_uri": "https://localhost:8080/"
        },
        "outputId": "28678acc-e42e-43f1-886f-125df9e42af4"
      },
      "execution_count": null,
      "outputs": [
        {
          "output_type": "stream",
          "name": "stdout",
          "text": [
            "1.0 [0.  4.  6.1 2.  3.2]\n"
          ]
        }
      ]
    },
    {
      "cell_type": "markdown",
      "source": [
        "**Ejemplo 9**\n"
      ],
      "metadata": {
        "id": "0TjnwwDfxaDa"
      }
    },
    {
      "cell_type": "code",
      "source": [
        "print(lista_mtrx[0])"
      ],
      "metadata": {
        "id": "tvoZcPs3xaDa",
        "colab": {
          "base_uri": "https://localhost:8080/"
        },
        "outputId": "c0add1c6-8cd7-4014-f042-414c57a64918"
      },
      "execution_count": null,
      "outputs": [
        {
          "output_type": "stream",
          "name": "stdout",
          "text": [
            "[1.  0.  4.  6.1 2.  3.2]\n"
          ]
        }
      ]
    },
    {
      "cell_type": "markdown",
      "source": [
        "**Ejemplo 10**\n"
      ],
      "metadata": {
        "id": "pEUptIlpxaDa"
      }
    },
    {
      "cell_type": "code",
      "source": [
        "print(np.mean(lista_np))"
      ],
      "metadata": {
        "id": "mHwn853SxaDa",
        "colab": {
          "base_uri": "https://localhost:8080/"
        },
        "outputId": "63aba67c-f981-4ac5-dff8-8e29b36247a4"
      },
      "execution_count": null,
      "outputs": [
        {
          "output_type": "stream",
          "name": "stdout",
          "text": [
            "2.716666666666667\n"
          ]
        }
      ]
    },
    {
      "cell_type": "markdown",
      "source": [
        "**Ejemplo 11**\n"
      ],
      "metadata": {
        "id": "73A6Z416xaDa"
      }
    },
    {
      "cell_type": "code",
      "source": [
        "print(np.mean(lista_mtrx))"
      ],
      "metadata": {
        "id": "5I16f41UxaDa",
        "colab": {
          "base_uri": "https://localhost:8080/"
        },
        "outputId": "30426aae-9d19-447f-88fd-90570cbed2ab"
      },
      "execution_count": null,
      "outputs": [
        {
          "output_type": "stream",
          "name": "stdout",
          "text": [
            "2.716666666666667\n"
          ]
        }
      ]
    },
    {
      "cell_type": "markdown",
      "source": [
        "**Ejemplo 12**\n"
      ],
      "metadata": {
        "id": "N6arhmRGxaDa"
      }
    },
    {
      "cell_type": "code",
      "source": [
        "print(np.max(lista_mtrx))"
      ],
      "metadata": {
        "id": "tFiNB6B2xaDa",
        "colab": {
          "base_uri": "https://localhost:8080/"
        },
        "outputId": "62411434-1fc0-4bef-ba5b-f8ae232dfbb2"
      },
      "execution_count": null,
      "outputs": [
        {
          "output_type": "stream",
          "name": "stdout",
          "text": [
            "72.0\n"
          ]
        }
      ]
    },
    {
      "cell_type": "markdown",
      "source": [
        "**Ejemplo 13**\n"
      ],
      "metadata": {
        "id": "BmXqR7yJxaDa"
      }
    },
    {
      "cell_type": "code",
      "source": [
        "print(np.max(lista_np))"
      ],
      "metadata": {
        "id": "PO7yiV6WxaDa",
        "colab": {
          "base_uri": "https://localhost:8080/"
        },
        "outputId": "fd04976b-e51b-407a-9b5f-b53223bee063"
      },
      "execution_count": null,
      "outputs": [
        {
          "output_type": "stream",
          "name": "stdout",
          "text": [
            "6.1\n"
          ]
        }
      ]
    },
    {
      "cell_type": "markdown",
      "source": [
        "**Ejemplo 14**\n"
      ],
      "metadata": {
        "id": "mjbnMbsaxaDa"
      }
    },
    {
      "cell_type": "code",
      "source": [
        "print(np.min(lista_np))"
      ],
      "metadata": {
        "id": "wi-TxGtTxaDb",
        "colab": {
          "base_uri": "https://localhost:8080/"
        },
        "outputId": "759e6d4b-0181-4281-bb85-83faeaeae6ba"
      },
      "execution_count": null,
      "outputs": [
        {
          "output_type": "stream",
          "name": "stdout",
          "text": [
            "0.0\n"
          ]
        }
      ]
    },
    {
      "cell_type": "markdown",
      "source": [
        "**Ejemplo 15**\n"
      ],
      "metadata": {
        "id": "xDusgZDCxaDb"
      }
    },
    {
      "cell_type": "code",
      "source": [
        "print(np.min(lista_mtrx))"
      ],
      "metadata": {
        "id": "joZ1WwCxxaDb",
        "colab": {
          "base_uri": "https://localhost:8080/"
        },
        "outputId": "b55476ee-c256-49da-bc03-8991ac7b3fe8"
      },
      "execution_count": null,
      "outputs": [
        {
          "output_type": "stream",
          "name": "stdout",
          "text": [
            "1.0\n"
          ]
        }
      ]
    },
    {
      "cell_type": "markdown",
      "source": [
        "**Ejemplo 16**\n"
      ],
      "metadata": {
        "id": "4RNsd9RfxaDb"
      }
    },
    {
      "cell_type": "code",
      "source": [
        "print(np.log(lista_mtrx))"
      ],
      "metadata": {
        "id": "OrOitDYUxaDb",
        "colab": {
          "base_uri": "https://localhost:8080/"
        },
        "outputId": "5fbb0f1a-b247-4652-e810-51f59d572beb"
      },
      "execution_count": null,
      "outputs": [
        {
          "output_type": "stream",
          "name": "stdout",
          "text": [
            "[[0.         2.30258509 2.48490665 1.85785927 0.69314718 3.56104608]\n",
            " [0.         2.30258509 2.63905733 4.11251187 4.27666612 1.16315081]\n",
            " [0.         2.99573227 1.38629436 2.20827441 0.69314718 1.16315081]]\n"
          ]
        }
      ]
    },
    {
      "cell_type": "markdown",
      "source": [
        "**Ejemplo 17**\n"
      ],
      "metadata": {
        "id": "PGPO5PdjxaDb"
      }
    },
    {
      "cell_type": "code",
      "source": [
        "print(np.log10(lista_np))"
      ],
      "metadata": {
        "id": "TFhWCsfDxaDb",
        "colab": {
          "base_uri": "https://localhost:8080/"
        },
        "outputId": "0b81fd46-3b91-4063-b8a6-7f6cd6c8db02"
      },
      "execution_count": null,
      "outputs": [
        {
          "output_type": "stream",
          "name": "stdout",
          "text": [
            "[0.         0.95424251 0.60205999 0.78532984 0.30103    0.50514998]\n"
          ]
        }
      ]
    },
    {
      "cell_type": "markdown",
      "source": [
        "**Ejemplo 18**\n"
      ],
      "metadata": {
        "id": "N2ZLnKzBxaDb"
      }
    },
    {
      "cell_type": "code",
      "source": [
        "lista_mtrx*2"
      ],
      "metadata": {
        "id": "UPWErgIBxaDb",
        "colab": {
          "base_uri": "https://localhost:8080/"
        },
        "outputId": "20576012-93cf-4e20-d6bb-9d9a5ed67a27"
      },
      "execution_count": null,
      "outputs": [
        {
          "output_type": "execute_result",
          "data": {
            "text/plain": [
              "array([[  2.  ,  20.  ,  24.  ,  12.82,   4.  ,  70.4 ],\n",
              "       [  2.  ,  20.  ,  28.  , 122.2 , 144.  ,   6.4 ],\n",
              "       [  2.  ,  40.  ,   8.  ,  18.2 ,   4.  ,   6.4 ]])"
            ]
          },
          "metadata": {},
          "execution_count": 81
        }
      ]
    },
    {
      "cell_type": "markdown",
      "source": [
        "**Ejemplo 19**\n"
      ],
      "metadata": {
        "id": "N4rgpyK0xaDb"
      }
    },
    {
      "cell_type": "code",
      "source": [
        "print(np.transpose(lista_mtrx))"
      ],
      "metadata": {
        "id": "Jm1HeOKvxaDb",
        "colab": {
          "base_uri": "https://localhost:8080/"
        },
        "outputId": "5f0db6aa-02de-4391-ac35-88da39af6973"
      },
      "execution_count": null,
      "outputs": [
        {
          "output_type": "stream",
          "name": "stdout",
          "text": [
            "[[ 1.    1.    1.  ]\n",
            " [10.   10.   20.  ]\n",
            " [12.   14.    4.  ]\n",
            " [ 6.41 61.1   9.1 ]\n",
            " [ 2.   72.    2.  ]\n",
            " [35.2   3.2   3.2 ]]\n"
          ]
        }
      ]
    },
    {
      "cell_type": "markdown",
      "source": [
        "**Ejemplo 20**\n"
      ],
      "metadata": {
        "id": "Jg1bqvS9xaDc"
      }
    },
    {
      "cell_type": "code",
      "source": [
        "sqr_lista_mtrx = np.sqrt(lista_mtrx)\n",
        "print(sqr_lista_mtrx)"
      ],
      "metadata": {
        "id": "VsljHSoRxaDc",
        "colab": {
          "base_uri": "https://localhost:8080/"
        },
        "outputId": "2b1b901b-2322-4dc3-89de-32223047ad4c"
      },
      "execution_count": null,
      "outputs": [
        {
          "output_type": "stream",
          "name": "stdout",
          "text": [
            "[[1.         3.16227766 3.46410162 2.53179778 1.41421356 5.93295879]\n",
            " [1.         3.16227766 3.74165739 7.8166489  8.48528137 1.78885438]\n",
            " [1.         4.47213595 2.         3.01662063 1.41421356 1.78885438]]\n"
          ]
        }
      ]
    },
    {
      "cell_type": "markdown",
      "source": [
        "#**Sección 6: Introduction to pandas**"
      ],
      "metadata": {
        "id": "DhayOTz4wQRW"
      }
    },
    {
      "cell_type": "markdown",
      "source": [
        "**Ejemplo 1**\n",
        "\n",
        "\n",
        "\n"
      ],
      "metadata": {
        "id": "KSITvNdnxapB"
      }
    },
    {
      "cell_type": "code",
      "source": [
        "import numpy as np\n",
        "import pandas as pd\n",
        "import matplotlib.pyplot as plt\n",
        "serie_1 = pd.Series([1,3,4,76,2,4])\n",
        "print(serie_1)"
      ],
      "metadata": {
        "id": "_pd_5szixapB",
        "colab": {
          "base_uri": "https://localhost:8080/"
        },
        "outputId": "d730a850-816a-4767-9be9-a2ea2762d468"
      },
      "execution_count": null,
      "outputs": [
        {
          "output_type": "stream",
          "name": "stdout",
          "text": [
            "0     1\n",
            "1     3\n",
            "2     4\n",
            "3    76\n",
            "4     2\n",
            "5     4\n",
            "dtype: int64\n"
          ]
        }
      ]
    },
    {
      "cell_type": "markdown",
      "source": [
        "**Ejemplo 2**\n"
      ],
      "metadata": {
        "id": "9WZlZdTMxapB"
      }
    },
    {
      "cell_type": "code",
      "source": [
        "serie_1.name = 'Serie UNO'"
      ],
      "metadata": {
        "id": "Qr7KqUpoxapB"
      },
      "execution_count": null,
      "outputs": []
    },
    {
      "cell_type": "markdown",
      "source": [
        "**Ejemplo 3**\n"
      ],
      "metadata": {
        "id": "DsuT-X77xapB"
      }
    },
    {
      "cell_type": "code",
      "source": [
        "print(serie_1.name)"
      ],
      "metadata": {
        "id": "-sJmtVfKxapB",
        "colab": {
          "base_uri": "https://localhost:8080/"
        },
        "outputId": "2bf929c4-ae33-41d9-f5ae-2c31671ef881"
      },
      "execution_count": null,
      "outputs": [
        {
          "output_type": "stream",
          "name": "stdout",
          "text": [
            "Serie UNO\n"
          ]
        }
      ]
    },
    {
      "cell_type": "markdown",
      "source": [
        "**Ejemplo 4**\n"
      ],
      "metadata": {
        "id": "ok2dxAzExapC"
      }
    },
    {
      "cell_type": "code",
      "source": [
        "print(serie_1.index)"
      ],
      "metadata": {
        "id": "y4DAFe9xxapC",
        "colab": {
          "base_uri": "https://localhost:8080/"
        },
        "outputId": "953dca31-9c53-424b-a2f6-7cf67f7f0c00"
      },
      "execution_count": null,
      "outputs": [
        {
          "output_type": "stream",
          "name": "stdout",
          "text": [
            "RangeIndex(start=0, stop=6, step=1)\n"
          ]
        }
      ]
    },
    {
      "cell_type": "markdown",
      "source": [
        "**Ejemplo 5**\n"
      ],
      "metadata": {
        "id": "BW7X_I-1xapC"
      }
    },
    {
      "cell_type": "code",
      "source": [
        "index_serie_1 = pd.Index([1,2,4,6,8,10])"
      ],
      "metadata": {
        "id": "dUiawN2xxapC"
      },
      "execution_count": null,
      "outputs": []
    },
    {
      "cell_type": "markdown",
      "source": [
        "**Ejemplo 6**\n"
      ],
      "metadata": {
        "id": "wDwypWqKxapC"
      }
    },
    {
      "cell_type": "code",
      "source": [
        " serie_1.index = index_serie_1\n",
        " print(serie_1.index)"
      ],
      "metadata": {
        "id": "gLXcjPpoxapC",
        "colab": {
          "base_uri": "https://localhost:8080/"
        },
        "outputId": "b1bd34ca-9378-40a0-d30a-4dc0a4fc9257"
      },
      "execution_count": null,
      "outputs": [
        {
          "output_type": "stream",
          "name": "stdout",
          "text": [
            "Int64Index([1, 2, 4, 6, 8, 10], dtype='int64')\n"
          ]
        }
      ]
    },
    {
      "cell_type": "markdown",
      "source": [
        "**Ejemplo 7**\n"
      ],
      "metadata": {
        "id": "TUqhjcQDxapC"
      }
    },
    {
      "cell_type": "code",
      "source": [
        "print ('primer elemeto de serie_1:', serie_1.iloc[1])"
      ],
      "metadata": {
        "id": "xJ8Ca7YlxapC",
        "colab": {
          "base_uri": "https://localhost:8080/"
        },
        "outputId": "8aae380f-70f7-4b04-e7c9-c6441807bc69"
      },
      "execution_count": null,
      "outputs": [
        {
          "output_type": "stream",
          "name": "stdout",
          "text": [
            "primer elemeto de serie_1: 3\n"
          ]
        }
      ]
    },
    {
      "cell_type": "markdown",
      "source": [
        "**Ejemplo 8**\n"
      ],
      "metadata": {
        "id": "Tb33NvMqxapC"
      }
    },
    {
      "cell_type": "code",
      "source": [
        "print ('Penultimo elemeto de serie_1:', serie_1.iloc[len(serie_1)-2])"
      ],
      "metadata": {
        "id": "0OZCQcMhxapC",
        "colab": {
          "base_uri": "https://localhost:8080/"
        },
        "outputId": "ffbbacae-fdf7-42e7-fb7c-76714e8a2296"
      },
      "execution_count": null,
      "outputs": [
        {
          "output_type": "stream",
          "name": "stdout",
          "text": [
            "Penultimo elemeto de serie_1: 2\n"
          ]
        }
      ]
    },
    {
      "cell_type": "markdown",
      "source": [
        "**Ejemplo 9**\n"
      ],
      "metadata": {
        "id": "F9QWB_yMxapC"
      }
    },
    {
      "cell_type": "code",
      "source": [
        "serie_1.iloc[2:5:2]"
      ],
      "metadata": {
        "id": "ynAM2o6qxapD",
        "colab": {
          "base_uri": "https://localhost:8080/"
        },
        "outputId": "20090e2a-1d7d-4264-9858-50eee3695812"
      },
      "execution_count": null,
      "outputs": [
        {
          "output_type": "execute_result",
          "data": {
            "text/plain": [
              "4    4\n",
              "8    2\n",
              "Name: Serie UNO, dtype: int64"
            ]
          },
          "metadata": {},
          "execution_count": 102
        }
      ]
    },
    {
      "cell_type": "markdown",
      "source": [
        "**Ejemplo 10**\n"
      ],
      "metadata": {
        "id": "EhfCOsPsxapD"
      }
    },
    {
      "cell_type": "code",
      "source": [
        "serie_1.loc[2]"
      ],
      "metadata": {
        "id": "7rlusHdRxapD",
        "colab": {
          "base_uri": "https://localhost:8080/"
        },
        "outputId": "66db9a18-3141-4a99-e4a8-ead81e56583c"
      },
      "execution_count": null,
      "outputs": [
        {
          "output_type": "execute_result",
          "data": {
            "text/plain": [
              "3"
            ]
          },
          "metadata": {},
          "execution_count": 105
        }
      ]
    },
    {
      "cell_type": "markdown",
      "source": [
        "**Ejemplo 11**\n"
      ],
      "metadata": {
        "id": "bkg3Km5IxapD"
      }
    },
    {
      "cell_type": "code",
      "source": [
        "print(serie_1.head(3))"
      ],
      "metadata": {
        "id": "7vSAjdoZxapD",
        "colab": {
          "base_uri": "https://localhost:8080/"
        },
        "outputId": "504127b4-e795-4171-8040-e2467f84b565"
      },
      "execution_count": null,
      "outputs": [
        {
          "output_type": "stream",
          "name": "stdout",
          "text": [
            "1    1\n",
            "2    3\n",
            "4    4\n",
            "Name: Serie UNO, dtype: int64\n"
          ]
        }
      ]
    },
    {
      "cell_type": "markdown",
      "source": [
        "**Ejemplo 12**\n"
      ],
      "metadata": {
        "id": "w6eRng5WxapD"
      }
    },
    {
      "cell_type": "code",
      "source": [
        "serie_1.plot()"
      ],
      "metadata": {
        "id": "u6aXQZXdxapD",
        "colab": {
          "base_uri": "https://localhost:8080/",
          "height": 282
        },
        "outputId": "42057746-71c8-42e1-f798-ce96befe35bf"
      },
      "execution_count": null,
      "outputs": [
        {
          "output_type": "execute_result",
          "data": {
            "text/plain": [
              "<matplotlib.axes._subplots.AxesSubplot at 0x7f28181d7250>"
            ]
          },
          "metadata": {},
          "execution_count": 108
        },
        {
          "output_type": "display_data",
          "data": {
            "text/plain": [
              "<Figure size 432x288 with 1 Axes>"
            ],
            "image/png": "[encoded data removed]"
          },
          "metadata": {
            "needs_background": "light"
          }
        }
      ]
    },
    {
      "cell_type": "markdown",
      "source": [
        "**Ejemplo 13**\n"
      ],
      "metadata": {
        "id": "4T-kFpqJxapD"
      }
    },
    {
      "cell_type": "code",
      "source": [
        "data_f = {'a':[1,3,4,76,2,4],'b':[6,3,6,1,3,76],'c':[4,8,1,4,7,9]}\n",
        "df_data = pd.DataFrame(data=data_f)"
      ],
      "metadata": {
        "id": "-0J4cMwyxapD"
      },
      "execution_count": null,
      "outputs": []
    },
    {
      "cell_type": "markdown",
      "source": [
        "**Ejemplo 14**\n"
      ],
      "metadata": {
        "id": "Jo5ymud2xapD"
      }
    },
    {
      "cell_type": "code",
      "source": [
        "df_data"
      ],
      "metadata": {
        "id": "ZFkpdLlRxapD",
        "colab": {
          "base_uri": "https://localhost:8080/",
          "height": 238
        },
        "outputId": "61d24ddd-2866-4630-c325-26357cd2f564"
      },
      "execution_count": null,
      "outputs": [
        {
          "output_type": "execute_result",
          "data": {
            "text/plain": [
              "    a   b  c\n",
              "0   1   6  4\n",
              "1   3   3  8\n",
              "2   4   6  1\n",
              "3  76   1  4\n",
              "4   2   3  7\n",
              "5   4  76  9"
            ],
            "text/html": [
              "\n",
              "  <div id=\"df-d53e4b2c-b0eb-4dc5-88ad-da8f85f2e3ac\">\n",
              "    <div class=\"colab-df-container\">\n",
              "      <div>\n",
              "<style scoped>\n",
              "    .dataframe tbody tr th:only-of-type {\n",
              "        vertical-align: middle;\n",
              "    }\n",
              "\n",
              "    .dataframe tbody tr th {\n",
              "        vertical-align: top;\n",
              "    }\n",
              "\n",
              "    .dataframe thead th {\n",
              "        text-align: right;\n",
              "    }\n",
              "</style>\n",
              "<table border=\"1\" class=\"dataframe\">\n",
              "  <thead>\n",
              "    <tr style=\"text-align: right;\">\n",
              "      <th></th>\n",
              "      <th>a</th>\n",
              "      <th>b</th>\n",
              "      <th>c</th>\n",
              "    </tr>\n",
              "  </thead>\n",
              "  <tbody>\n",
              "    <tr>\n",
              "      <th>0</th>\n",
              "      <td>1</td>\n",
              "      <td>6</td>\n",
              "      <td>4</td>\n",
              "    </tr>\n",
              "    <tr>\n",
              "      <th>1</th>\n",
              "      <td>3</td>\n",
              "      <td>3</td>\n",
              "      <td>8</td>\n",
              "    </tr>\n",
              "    <tr>\n",
              "      <th>2</th>\n",
              "      <td>4</td>\n",
              "      <td>6</td>\n",
              "      <td>1</td>\n",
              "    </tr>\n",
              "    <tr>\n",
              "      <th>3</th>\n",
              "      <td>76</td>\n",
              "      <td>1</td>\n",
              "      <td>4</td>\n",
              "    </tr>\n",
              "    <tr>\n",
              "      <th>4</th>\n",
              "      <td>2</td>\n",
              "      <td>3</td>\n",
              "      <td>7</td>\n",
              "    </tr>\n",
              "    <tr>\n",
              "      <th>5</th>\n",
              "      <td>4</td>\n",
              "      <td>76</td>\n",
              "      <td>9</td>\n",
              "    </tr>\n",
              "  </tbody>\n",
              "</table>\n",
              "</div>\n",
              "      <button class=\"colab-df-convert\" onclick=\"convertToInteractive('df-d53e4b2c-b0eb-4dc5-88ad-da8f85f2e3ac')\"\n",
              "              title=\"Convert this dataframe to an interactive table.\"\n",
              "              style=\"display:none;\">\n",
              "        \n",
              "  <svg xmlns=\"http://www.w3.org/2000/svg\" height=\"24px\"viewBox=\"0 0 24 24\"\n",
              "       width=\"24px\">\n",
              "    <path d=\"M0 0h24v24H0V0z\" fill=\"none\"/>\n",
              "    <path d=\"M18.56 5.44l.94 2.06.94-2.06 2.06-.94-2.06-.94-.94-2.06-.94 2.06-2.06.94zm-11 1L8.5 8.5l.94-2.06 2.06-.94-2.06-.94L8.5 2.5l-.94 2.06-2.06.94zm10 10l.94 2.06.94-2.06 2.06-.94-2.06-.94-.94-2.06-.94 2.06-2.06.94z\"/><path d=\"M17.41 7.96l-1.37-1.37c-.4-.4-.92-.59-1.43-.59-.52 0-1.04.2-1.43.59L10.3 9.45l-7.72 7.72c-.78.78-.78 2.05 0 2.83L4 21.41c.39.39.9.59 1.41.59.51 0 1.02-.2 1.41-.59l7.78-7.78 2.81-2.81c.8-.78.8-2.07 0-2.86zM5.41 20L4 18.59l7.72-7.72 1.47 1.35L5.41 20z\"/>\n",
              "  </svg>\n",
              "      </button>\n",
              "      \n",
              "  <style>\n",
              "    .colab-df-container {\n",
              "      display:flex;\n",
              "      flex-wrap:wrap;\n",
              "      gap: 12px;\n",
              "    }\n",
              "\n",
              "    .colab-df-convert {\n",
              "      background-color: #E8F0FE;\n",
              "      border: none;\n",
              "      border-radius: 50%;\n",
              "      cursor: pointer;\n",
              "      display: none;\n",
              "      fill: #1967D2;\n",
              "      height: 32px;\n",
              "      padding: 0 0 0 0;\n",
              "      width: 32px;\n",
              "    }\n",
              "\n",
              "    .colab-df-convert:hover {\n",
              "      background-color: #E2EBFA;\n",
              "      box-shadow: 0px 1px 2px rgba(60, 64, 67, 0.3), 0px 1px 3px 1px rgba(60, 64, 67, 0.15);\n",
              "      fill: #174EA6;\n",
              "    }\n",
              "\n",
              "    [theme=dark] .colab-df-convert {\n",
              "      background-color: #3B4455;\n",
              "      fill: #D2E3FC;\n",
              "    }\n",
              "\n",
              "    [theme=dark] .colab-df-convert:hover {\n",
              "      background-color: #434B5C;\n",
              "      box-shadow: 0px 1px 3px 1px rgba(0, 0, 0, 0.15);\n",
              "      filter: drop-shadow(0px 1px 2px rgba(0, 0, 0, 0.3));\n",
              "      fill: #FFFFFF;\n",
              "    }\n",
              "  </style>\n",
              "\n",
              "      <script>\n",
              "        const buttonEl =\n",
              "          document.querySelector('#df-d53e4b2c-b0eb-4dc5-88ad-da8f85f2e3ac button.colab-df-convert');\n",
              "        buttonEl.style.display =\n",
              "          google.colab.kernel.accessAllowed ? 'block' : 'none';\n",
              "\n",
              "        async function convertToInteractive(key) {\n",
              "          const element = document.querySelector('#df-d53e4b2c-b0eb-4dc5-88ad-da8f85f2e3ac');\n",
              "          const dataTable =\n",
              "            await google.colab.kernel.invokeFunction('convertToInteractive',\n",
              "                                                     [key], {});\n",
              "          if (!dataTable) return;\n",
              "\n",
              "          const docLinkHtml = 'Like what you see? Visit the ' +\n",
              "            '<a target=\"_blank\" href=https://colab.research.google.com/notebooks/data_table.ipynb>data table notebook</a>'\n",
              "            + ' to learn more about interactive tables.';\n",
              "          element.innerHTML = '';\n",
              "          dataTable['output_type'] = 'display_data';\n",
              "          await google.colab.output.renderOutput(dataTable, element);\n",
              "          const docLink = document.createElement('div');\n",
              "          docLink.innerHTML = docLinkHtml;\n",
              "          element.appendChild(docLink);\n",
              "        }\n",
              "      </script>\n",
              "    </div>\n",
              "  </div>\n",
              "  "
            ]
          },
          "metadata": {},
          "execution_count": 115
        }
      ]
    },
    {
      "cell_type": "markdown",
      "source": [
        "**Ejemplo 15**\n"
      ],
      "metadata": {
        "id": "03VuN_UXxapE"
      }
    },
    {
      "cell_type": "code",
      "source": [
        "df_data.head(3)"
      ],
      "metadata": {
        "id": "QBvOj68yxapE",
        "colab": {
          "base_uri": "https://localhost:8080/",
          "height": 143
        },
        "outputId": "2c8952d4-d93f-45b1-ef15-2a7c168e019a"
      },
      "execution_count": null,
      "outputs": [
        {
          "output_type": "execute_result",
          "data": {
            "text/plain": [
              "   a  b  c\n",
              "0  1  6  4\n",
              "1  3  3  8\n",
              "2  4  6  1"
            ],
            "text/html": [
              "\n",
              "  <div id=\"df-fee561f3-8302-49fb-89fc-6d147c39d33c\">\n",
              "    <div class=\"colab-df-container\">\n",
              "      <div>\n",
              "<style scoped>\n",
              "    .dataframe tbody tr th:only-of-type {\n",
              "        vertical-align: middle;\n",
              "    }\n",
              "\n",
              "    .dataframe tbody tr th {\n",
              "        vertical-align: top;\n",
              "    }\n",
              "\n",
              "    .dataframe thead th {\n",
              "        text-align: right;\n",
              "    }\n",
              "</style>\n",
              "<table border=\"1\" class=\"dataframe\">\n",
              "  <thead>\n",
              "    <tr style=\"text-align: right;\">\n",
              "      <th></th>\n",
              "      <th>a</th>\n",
              "      <th>b</th>\n",
              "      <th>c</th>\n",
              "    </tr>\n",
              "  </thead>\n",
              "  <tbody>\n",
              "    <tr>\n",
              "      <th>0</th>\n",
              "      <td>1</td>\n",
              "      <td>6</td>\n",
              "      <td>4</td>\n",
              "    </tr>\n",
              "    <tr>\n",
              "      <th>1</th>\n",
              "      <td>3</td>\n",
              "      <td>3</td>\n",
              "      <td>8</td>\n",
              "    </tr>\n",
              "    <tr>\n",
              "      <th>2</th>\n",
              "      <td>4</td>\n",
              "      <td>6</td>\n",
              "      <td>1</td>\n",
              "    </tr>\n",
              "  </tbody>\n",
              "</table>\n",
              "</div>\n",
              "      <button class=\"colab-df-convert\" onclick=\"convertToInteractive('df-fee561f3-8302-49fb-89fc-6d147c39d33c')\"\n",
              "              title=\"Convert this dataframe to an interactive table.\"\n",
              "              style=\"display:none;\">\n",
              "        \n",
              "  <svg xmlns=\"http://www.w3.org/2000/svg\" height=\"24px\"viewBox=\"0 0 24 24\"\n",
              "       width=\"24px\">\n",
              "    <path d=\"M0 0h24v24H0V0z\" fill=\"none\"/>\n",
              "    <path d=\"M18.56 5.44l.94 2.06.94-2.06 2.06-.94-2.06-.94-.94-2.06-.94 2.06-2.06.94zm-11 1L8.5 8.5l.94-2.06 2.06-.94-2.06-.94L8.5 2.5l-.94 2.06-2.06.94zm10 10l.94 2.06.94-2.06 2.06-.94-2.06-.94-.94-2.06-.94 2.06-2.06.94z\"/><path d=\"M17.41 7.96l-1.37-1.37c-.4-.4-.92-.59-1.43-.59-.52 0-1.04.2-1.43.59L10.3 9.45l-7.72 7.72c-.78.78-.78 2.05 0 2.83L4 21.41c.39.39.9.59 1.41.59.51 0 1.02-.2 1.41-.59l7.78-7.78 2.81-2.81c.8-.78.8-2.07 0-2.86zM5.41 20L4 18.59l7.72-7.72 1.47 1.35L5.41 20z\"/>\n",
              "  </svg>\n",
              "      </button>\n",
              "      \n",
              "  <style>\n",
              "    .colab-df-container {\n",
              "      display:flex;\n",
              "      flex-wrap:wrap;\n",
              "      gap: 12px;\n",
              "    }\n",
              "\n",
              "    .colab-df-convert {\n",
              "      background-color: #E8F0FE;\n",
              "      border: none;\n",
              "      border-radius: 50%;\n",
              "      cursor: pointer;\n",
              "      display: none;\n",
              "      fill: #1967D2;\n",
              "      height: 32px;\n",
              "      padding: 0 0 0 0;\n",
              "      width: 32px;\n",
              "    }\n",
              "\n",
              "    .colab-df-convert:hover {\n",
              "      background-color: #E2EBFA;\n",
              "      box-shadow: 0px 1px 2px rgba(60, 64, 67, 0.3), 0px 1px 3px 1px rgba(60, 64, 67, 0.15);\n",
              "      fill: #174EA6;\n",
              "    }\n",
              "\n",
              "    [theme=dark] .colab-df-convert {\n",
              "      background-color: #3B4455;\n",
              "      fill: #D2E3FC;\n",
              "    }\n",
              "\n",
              "    [theme=dark] .colab-df-convert:hover {\n",
              "      background-color: #434B5C;\n",
              "      box-shadow: 0px 1px 3px 1px rgba(0, 0, 0, 0.15);\n",
              "      filter: drop-shadow(0px 1px 2px rgba(0, 0, 0, 0.3));\n",
              "      fill: #FFFFFF;\n",
              "    }\n",
              "  </style>\n",
              "\n",
              "      <script>\n",
              "        const buttonEl =\n",
              "          document.querySelector('#df-fee561f3-8302-49fb-89fc-6d147c39d33c button.colab-df-convert');\n",
              "        buttonEl.style.display =\n",
              "          google.colab.kernel.accessAllowed ? 'block' : 'none';\n",
              "\n",
              "        async function convertToInteractive(key) {\n",
              "          const element = document.querySelector('#df-fee561f3-8302-49fb-89fc-6d147c39d33c');\n",
              "          const dataTable =\n",
              "            await google.colab.kernel.invokeFunction('convertToInteractive',\n",
              "                                                     [key], {});\n",
              "          if (!dataTable) return;\n",
              "\n",
              "          const docLinkHtml = 'Like what you see? Visit the ' +\n",
              "            '<a target=\"_blank\" href=https://colab.research.google.com/notebooks/data_table.ipynb>data table notebook</a>'\n",
              "            + ' to learn more about interactive tables.';\n",
              "          element.innerHTML = '';\n",
              "          dataTable['output_type'] = 'display_data';\n",
              "          await google.colab.output.renderOutput(dataTable, element);\n",
              "          const docLink = document.createElement('div');\n",
              "          docLink.innerHTML = docLinkHtml;\n",
              "          element.appendChild(docLink);\n",
              "        }\n",
              "      </script>\n",
              "    </div>\n",
              "  </div>\n",
              "  "
            ]
          },
          "metadata": {},
          "execution_count": 116
        }
      ]
    },
    {
      "cell_type": "markdown",
      "source": [
        "**Ejemplo 16**\n"
      ],
      "metadata": {
        "id": "2qm5dZ7WxapE"
      }
    },
    {
      "cell_type": "code",
      "source": [
        "df_data.plot()\n"
      ],
      "metadata": {
        "id": "em9jd-87xapE",
        "colab": {
          "base_uri": "https://localhost:8080/",
          "height": 282
        },
        "outputId": "23e4642b-3936-42ea-a080-49ea7902acb1"
      },
      "execution_count": null,
      "outputs": [
        {
          "output_type": "execute_result",
          "data": {
            "text/plain": [
              "<matplotlib.axes._subplots.AxesSubplot at 0x7f2817a38dd0>"
            ]
          },
          "metadata": {},
          "execution_count": 119
        },
        {
          "output_type": "display_data",
          "data": {
            "text/plain": [
              "<Figure size 432x288 with 1 Axes>"
            ],
            "image/png": "[encoded data removed]"
          },
          "metadata": {
            "needs_background": "light"
          }
        }
      ]
    },
    {
      "cell_type": "markdown",
      "source": [
        "**Ejemplo 17**\n"
      ],
      "metadata": {
        "id": "S2AF6uWPxapE"
      }
    },
    {
      "cell_type": "code",
      "source": [
        "data_2 = [16,2,39]\n",
        "df_data_2 = (((df_data*5))/data_2)"
      ],
      "metadata": {
        "id": "d3MLYVoSxapE"
      },
      "execution_count": null,
      "outputs": []
    },
    {
      "cell_type": "markdown",
      "source": [
        "**Ejemplo 18**\n"
      ],
      "metadata": {
        "id": "QqPmNue-xapE"
      }
    },
    {
      "cell_type": "code",
      "source": [
        "df_data_2.head(3)"
      ],
      "metadata": {
        "id": "HpY4_TyHxapE",
        "colab": {
          "base_uri": "https://localhost:8080/",
          "height": 143
        },
        "outputId": "fd431c8e-f30a-4590-ce6d-aa518eda568b"
      },
      "execution_count": null,
      "outputs": [
        {
          "output_type": "execute_result",
          "data": {
            "text/plain": [
              "        a     b         c\n",
              "0  0.3125  15.0  0.512821\n",
              "1  0.9375   7.5  1.025641\n",
              "2  1.2500  15.0  0.128205"
            ],
            "text/html": [
              "\n",
              "  <div id=\"df-9136687f-9ab1-49ce-9892-7d2919367c04\">\n",
              "    <div class=\"colab-df-container\">\n",
              "      <div>\n",
              "<style scoped>\n",
              "    .dataframe tbody tr th:only-of-type {\n",
              "        vertical-align: middle;\n",
              "    }\n",
              "\n",
              "    .dataframe tbody tr th {\n",
              "        vertical-align: top;\n",
              "    }\n",
              "\n",
              "    .dataframe thead th {\n",
              "        text-align: right;\n",
              "    }\n",
              "</style>\n",
              "<table border=\"1\" class=\"dataframe\">\n",
              "  <thead>\n",
              "    <tr style=\"text-align: right;\">\n",
              "      <th></th>\n",
              "      <th>a</th>\n",
              "      <th>b</th>\n",
              "      <th>c</th>\n",
              "    </tr>\n",
              "  </thead>\n",
              "  <tbody>\n",
              "    <tr>\n",
              "      <th>0</th>\n",
              "      <td>0.3125</td>\n",
              "      <td>15.0</td>\n",
              "      <td>0.512821</td>\n",
              "    </tr>\n",
              "    <tr>\n",
              "      <th>1</th>\n",
              "      <td>0.9375</td>\n",
              "      <td>7.5</td>\n",
              "      <td>1.025641</td>\n",
              "    </tr>\n",
              "    <tr>\n",
              "      <th>2</th>\n",
              "      <td>1.2500</td>\n",
              "      <td>15.0</td>\n",
              "      <td>0.128205</td>\n",
              "    </tr>\n",
              "  </tbody>\n",
              "</table>\n",
              "</div>\n",
              "      <button class=\"colab-df-convert\" onclick=\"convertToInteractive('df-9136687f-9ab1-49ce-9892-7d2919367c04')\"\n",
              "              title=\"Convert this dataframe to an interactive table.\"\n",
              "              style=\"display:none;\">\n",
              "        \n",
              "  <svg xmlns=\"http://www.w3.org/2000/svg\" height=\"24px\"viewBox=\"0 0 24 24\"\n",
              "       width=\"24px\">\n",
              "    <path d=\"M0 0h24v24H0V0z\" fill=\"none\"/>\n",
              "    <path d=\"M18.56 5.44l.94 2.06.94-2.06 2.06-.94-2.06-.94-.94-2.06-.94 2.06-2.06.94zm-11 1L8.5 8.5l.94-2.06 2.06-.94-2.06-.94L8.5 2.5l-.94 2.06-2.06.94zm10 10l.94 2.06.94-2.06 2.06-.94-2.06-.94-.94-2.06-.94 2.06-2.06.94z\"/><path d=\"M17.41 7.96l-1.37-1.37c-.4-.4-.92-.59-1.43-.59-.52 0-1.04.2-1.43.59L10.3 9.45l-7.72 7.72c-.78.78-.78 2.05 0 2.83L4 21.41c.39.39.9.59 1.41.59.51 0 1.02-.2 1.41-.59l7.78-7.78 2.81-2.81c.8-.78.8-2.07 0-2.86zM5.41 20L4 18.59l7.72-7.72 1.47 1.35L5.41 20z\"/>\n",
              "  </svg>\n",
              "      </button>\n",
              "      \n",
              "  <style>\n",
              "    .colab-df-container {\n",
              "      display:flex;\n",
              "      flex-wrap:wrap;\n",
              "      gap: 12px;\n",
              "    }\n",
              "\n",
              "    .colab-df-convert {\n",
              "      background-color: #E8F0FE;\n",
              "      border: none;\n",
              "      border-radius: 50%;\n",
              "      cursor: pointer;\n",
              "      display: none;\n",
              "      fill: #1967D2;\n",
              "      height: 32px;\n",
              "      padding: 0 0 0 0;\n",
              "      width: 32px;\n",
              "    }\n",
              "\n",
              "    .colab-df-convert:hover {\n",
              "      background-color: #E2EBFA;\n",
              "      box-shadow: 0px 1px 2px rgba(60, 64, 67, 0.3), 0px 1px 3px 1px rgba(60, 64, 67, 0.15);\n",
              "      fill: #174EA6;\n",
              "    }\n",
              "\n",
              "    [theme=dark] .colab-df-convert {\n",
              "      background-color: #3B4455;\n",
              "      fill: #D2E3FC;\n",
              "    }\n",
              "\n",
              "    [theme=dark] .colab-df-convert:hover {\n",
              "      background-color: #434B5C;\n",
              "      box-shadow: 0px 1px 3px 1px rgba(0, 0, 0, 0.15);\n",
              "      filter: drop-shadow(0px 1px 2px rgba(0, 0, 0, 0.3));\n",
              "      fill: #FFFFFF;\n",
              "    }\n",
              "  </style>\n",
              "\n",
              "      <script>\n",
              "        const buttonEl =\n",
              "          document.querySelector('#df-9136687f-9ab1-49ce-9892-7d2919367c04 button.colab-df-convert');\n",
              "        buttonEl.style.display =\n",
              "          google.colab.kernel.accessAllowed ? 'block' : 'none';\n",
              "\n",
              "        async function convertToInteractive(key) {\n",
              "          const element = document.querySelector('#df-9136687f-9ab1-49ce-9892-7d2919367c04');\n",
              "          const dataTable =\n",
              "            await google.colab.kernel.invokeFunction('convertToInteractive',\n",
              "                                                     [key], {});\n",
              "          if (!dataTable) return;\n",
              "\n",
              "          const docLinkHtml = 'Like what you see? Visit the ' +\n",
              "            '<a target=\"_blank\" href=https://colab.research.google.com/notebooks/data_table.ipynb>data table notebook</a>'\n",
              "            + ' to learn more about interactive tables.';\n",
              "          element.innerHTML = '';\n",
              "          dataTable['output_type'] = 'display_data';\n",
              "          await google.colab.output.renderOutput(dataTable, element);\n",
              "          const docLink = document.createElement('div');\n",
              "          docLink.innerHTML = docLinkHtml;\n",
              "          element.appendChild(docLink);\n",
              "        }\n",
              "      </script>\n",
              "    </div>\n",
              "  </div>\n",
              "  "
            ]
          },
          "metadata": {},
          "execution_count": 136
        }
      ]
    },
    {
      "cell_type": "markdown",
      "source": [
        "**Ejemplo 19**\n"
      ],
      "metadata": {
        "id": "4UMA7DKzxapE"
      }
    },
    {
      "cell_type": "code",
      "source": [
        "df_data_2.tail()"
      ],
      "metadata": {
        "id": "qxxbubMnxapE",
        "colab": {
          "base_uri": "https://localhost:8080/",
          "height": 206
        },
        "outputId": "ec50a318-ffbf-46f1-ec6c-ceeff928c32c"
      },
      "execution_count": null,
      "outputs": [
        {
          "output_type": "execute_result",
          "data": {
            "text/plain": [
              "     a    b   c\n",
              "1   16   17  43\n",
              "2   21   32   8\n",
              "3  381    7  23\n",
              "4   11   17  38\n",
              "5   21  382  48"
            ],
            "text/html": [
              "\n",
              "  <div id=\"df-17022d64-6ed3-48e9-8a29-98b2cb0cd933\">\n",
              "    <div class=\"colab-df-container\">\n",
              "      <div>\n",
              "<style scoped>\n",
              "    .dataframe tbody tr th:only-of-type {\n",
              "        vertical-align: middle;\n",
              "    }\n",
              "\n",
              "    .dataframe tbody tr th {\n",
              "        vertical-align: top;\n",
              "    }\n",
              "\n",
              "    .dataframe thead th {\n",
              "        text-align: right;\n",
              "    }\n",
              "</style>\n",
              "<table border=\"1\" class=\"dataframe\">\n",
              "  <thead>\n",
              "    <tr style=\"text-align: right;\">\n",
              "      <th></th>\n",
              "      <th>a</th>\n",
              "      <th>b</th>\n",
              "      <th>c</th>\n",
              "    </tr>\n",
              "  </thead>\n",
              "  <tbody>\n",
              "    <tr>\n",
              "      <th>1</th>\n",
              "      <td>16</td>\n",
              "      <td>17</td>\n",
              "      <td>43</td>\n",
              "    </tr>\n",
              "    <tr>\n",
              "      <th>2</th>\n",
              "      <td>21</td>\n",
              "      <td>32</td>\n",
              "      <td>8</td>\n",
              "    </tr>\n",
              "    <tr>\n",
              "      <th>3</th>\n",
              "      <td>381</td>\n",
              "      <td>7</td>\n",
              "      <td>23</td>\n",
              "    </tr>\n",
              "    <tr>\n",
              "      <th>4</th>\n",
              "      <td>11</td>\n",
              "      <td>17</td>\n",
              "      <td>38</td>\n",
              "    </tr>\n",
              "    <tr>\n",
              "      <th>5</th>\n",
              "      <td>21</td>\n",
              "      <td>382</td>\n",
              "      <td>48</td>\n",
              "    </tr>\n",
              "  </tbody>\n",
              "</table>\n",
              "</div>\n",
              "      <button class=\"colab-df-convert\" onclick=\"convertToInteractive('df-17022d64-6ed3-48e9-8a29-98b2cb0cd933')\"\n",
              "              title=\"Convert this dataframe to an interactive table.\"\n",
              "              style=\"display:none;\">\n",
              "        \n",
              "  <svg xmlns=\"http://www.w3.org/2000/svg\" height=\"24px\"viewBox=\"0 0 24 24\"\n",
              "       width=\"24px\">\n",
              "    <path d=\"M0 0h24v24H0V0z\" fill=\"none\"/>\n",
              "    <path d=\"M18.56 5.44l.94 2.06.94-2.06 2.06-.94-2.06-.94-.94-2.06-.94 2.06-2.06.94zm-11 1L8.5 8.5l.94-2.06 2.06-.94-2.06-.94L8.5 2.5l-.94 2.06-2.06.94zm10 10l.94 2.06.94-2.06 2.06-.94-2.06-.94-.94-2.06-.94 2.06-2.06.94z\"/><path d=\"M17.41 7.96l-1.37-1.37c-.4-.4-.92-.59-1.43-.59-.52 0-1.04.2-1.43.59L10.3 9.45l-7.72 7.72c-.78.78-.78 2.05 0 2.83L4 21.41c.39.39.9.59 1.41.59.51 0 1.02-.2 1.41-.59l7.78-7.78 2.81-2.81c.8-.78.8-2.07 0-2.86zM5.41 20L4 18.59l7.72-7.72 1.47 1.35L5.41 20z\"/>\n",
              "  </svg>\n",
              "      </button>\n",
              "      \n",
              "  <style>\n",
              "    .colab-df-container {\n",
              "      display:flex;\n",
              "      flex-wrap:wrap;\n",
              "      gap: 12px;\n",
              "    }\n",
              "\n",
              "    .colab-df-convert {\n",
              "      background-color: #E8F0FE;\n",
              "      border: none;\n",
              "      border-radius: 50%;\n",
              "      cursor: pointer;\n",
              "      display: none;\n",
              "      fill: #1967D2;\n",
              "      height: 32px;\n",
              "      padding: 0 0 0 0;\n",
              "      width: 32px;\n",
              "    }\n",
              "\n",
              "    .colab-df-convert:hover {\n",
              "      background-color: #E2EBFA;\n",
              "      box-shadow: 0px 1px 2px rgba(60, 64, 67, 0.3), 0px 1px 3px 1px rgba(60, 64, 67, 0.15);\n",
              "      fill: #174EA6;\n",
              "    }\n",
              "\n",
              "    [theme=dark] .colab-df-convert {\n",
              "      background-color: #3B4455;\n",
              "      fill: #D2E3FC;\n",
              "    }\n",
              "\n",
              "    [theme=dark] .colab-df-convert:hover {\n",
              "      background-color: #434B5C;\n",
              "      box-shadow: 0px 1px 3px 1px rgba(0, 0, 0, 0.15);\n",
              "      filter: drop-shadow(0px 1px 2px rgba(0, 0, 0, 0.3));\n",
              "      fill: #FFFFFF;\n",
              "    }\n",
              "  </style>\n",
              "\n",
              "      <script>\n",
              "        const buttonEl =\n",
              "          document.querySelector('#df-17022d64-6ed3-48e9-8a29-98b2cb0cd933 button.colab-df-convert');\n",
              "        buttonEl.style.display =\n",
              "          google.colab.kernel.accessAllowed ? 'block' : 'none';\n",
              "\n",
              "        async function convertToInteractive(key) {\n",
              "          const element = document.querySelector('#df-17022d64-6ed3-48e9-8a29-98b2cb0cd933');\n",
              "          const dataTable =\n",
              "            await google.colab.kernel.invokeFunction('convertToInteractive',\n",
              "                                                     [key], {});\n",
              "          if (!dataTable) return;\n",
              "\n",
              "          const docLinkHtml = 'Like what you see? Visit the ' +\n",
              "            '<a target=\"_blank\" href=https://colab.research.google.com/notebooks/data_table.ipynb>data table notebook</a>'\n",
              "            + ' to learn more about interactive tables.';\n",
              "          element.innerHTML = '';\n",
              "          dataTable['output_type'] = 'display_data';\n",
              "          await google.colab.output.renderOutput(dataTable, element);\n",
              "          const docLink = document.createElement('div');\n",
              "          docLink.innerHTML = docLinkHtml;\n",
              "          element.appendChild(docLink);\n",
              "        }\n",
              "      </script>\n",
              "    </div>\n",
              "  </div>\n",
              "  "
            ]
          },
          "metadata": {},
          "execution_count": 129
        }
      ]
    },
    {
      "cell_type": "markdown",
      "source": [
        "**Ejemplo 20**\n"
      ],
      "metadata": {
        "id": "hMp2gRb9xapE"
      }
    },
    {
      "cell_type": "code",
      "source": [
        "df_data_2.plot()"
      ],
      "metadata": {
        "id": "H45DxSrpxapF",
        "colab": {
          "base_uri": "https://localhost:8080/",
          "height": 282
        },
        "outputId": "c00ffb5a-a241-4a01-d99c-6b102c3d891f"
      },
      "execution_count": null,
      "outputs": [
        {
          "output_type": "execute_result",
          "data": {
            "text/plain": [
              "<matplotlib.axes._subplots.AxesSubplot at 0x7f2817b22f50>"
            ]
          },
          "metadata": {},
          "execution_count": 137
        },
        {
          "output_type": "display_data",
          "data": {
            "text/plain": [
              "<Figure size 432x288 with 1 Axes>"
            ],
            "image/png": "[encoded data removed]"
          },
          "metadata": {
            "needs_background": "light"
          }
        }
      ]
    },
    {
      "cell_type": "markdown",
      "source": [
        "#**Sección 7: NumPy and Basic Pandas**"
      ],
      "metadata": {
        "id": "Wt6S_W2zwRj9"
      }
    },
    {
      "cell_type": "markdown",
      "source": [
        "**Ejemplo 1**\n",
        "\n",
        "\n",
        "\n"
      ],
      "metadata": {
        "id": "pO3XfTCzxbLX"
      }
    },
    {
      "cell_type": "code",
      "source": [
        "estaturas = [1.45, 2.05, 1.76, 7.89, 2.12]\n",
        "array_estaturas = np.array(estaturas)\n"
      ],
      "metadata": {
        "id": "Bu5bbAxwxbLX"
      },
      "execution_count": null,
      "outputs": []
    },
    {
      "cell_type": "markdown",
      "source": [
        "**Ejemplo 2**\n"
      ],
      "metadata": {
        "id": "UJP2zejTxbLX"
      }
    },
    {
      "cell_type": "code",
      "source": [
        "print(array_estaturas, type(array_estaturas))"
      ],
      "metadata": {
        "id": "_q-AtlxExbLY",
        "colab": {
          "base_uri": "https://localhost:8080/"
        },
        "outputId": "f0778112-407e-47d5-de33-93e2feb7789a"
      },
      "execution_count": null,
      "outputs": [
        {
          "output_type": "stream",
          "name": "stdout",
          "text": [
            "[1.45 2.05 1.76 7.89 2.12] <class 'numpy.ndarray'>\n"
          ]
        }
      ]
    },
    {
      "cell_type": "markdown",
      "source": [
        "**Ejemplo 3**\n"
      ],
      "metadata": {
        "id": "rBRmQgWDxbLY"
      }
    },
    {
      "cell_type": "code",
      "source": [
        "array_2 = [[0,1,0],[1,0,1]]\n",
        "array_2D = np.array([[0,1,0],[1,0,1]])\n",
        "print(array_2D)"
      ],
      "metadata": {
        "id": "fMEZjJoIxbLY",
        "colab": {
          "base_uri": "https://localhost:8080/"
        },
        "outputId": "cf35cf3c-1cfd-478d-e2a2-871775262351"
      },
      "execution_count": null,
      "outputs": [
        {
          "output_type": "stream",
          "name": "stdout",
          "text": [
            "[[0 1 0]\n",
            " [1 0 1]]\n"
          ]
        }
      ]
    },
    {
      "cell_type": "markdown",
      "source": [
        "**Ejemplo 4**\n"
      ],
      "metadata": {
        "id": "4kOHspAkxbLY"
      }
    },
    {
      "cell_type": "code",
      "source": [
        "print(array_2D.shape)"
      ],
      "metadata": {
        "id": "xhh5P2Z4xbLY",
        "colab": {
          "base_uri": "https://localhost:8080/"
        },
        "outputId": "1cfdfe38-4a2f-40ed-8e52-61d5aa5b5d37"
      },
      "execution_count": null,
      "outputs": [
        {
          "output_type": "stream",
          "name": "stdout",
          "text": [
            "(2, 3)\n"
          ]
        }
      ]
    },
    {
      "cell_type": "markdown",
      "source": [
        "**Ejemplo 5**\n"
      ],
      "metadata": {
        "id": "FKuMB0a2xbLY"
      }
    },
    {
      "cell_type": "code",
      "source": [
        "print(array_2D[1])"
      ],
      "metadata": {
        "id": "fOX2nhiYxbLY",
        "colab": {
          "base_uri": "https://localhost:8080/"
        },
        "outputId": "d56faef3-915c-4b47-e446-6d37cae0cfd0"
      },
      "execution_count": null,
      "outputs": [
        {
          "output_type": "stream",
          "name": "stdout",
          "text": [
            "[1 0 1]\n"
          ]
        }
      ]
    },
    {
      "cell_type": "markdown",
      "source": [
        "**Ejemplo 6**\n"
      ],
      "metadata": {
        "id": "OiLa95cSxbLY"
      }
    },
    {
      "cell_type": "code",
      "source": [
        "print(array_2D[:,0])"
      ],
      "metadata": {
        "id": "exH0KEdTxbLY",
        "colab": {
          "base_uri": "https://localhost:8080/"
        },
        "outputId": "f4fb6cfb-7b58-4d1e-bb95-ca9e2dfcdef7"
      },
      "execution_count": null,
      "outputs": [
        {
          "output_type": "stream",
          "name": "stdout",
          "text": [
            "[0 1]\n"
          ]
        }
      ]
    },
    {
      "cell_type": "markdown",
      "source": [
        "**Ejemplo 7**\n"
      ],
      "metadata": {
        "id": "IcuTvwDsxbLY"
      }
    },
    {
      "cell_type": "code",
      "source": [
        "\n",
        "print(np.std(array_2D))\n"
      ],
      "metadata": {
        "id": "oZTEm2LXxbLY",
        "colab": {
          "base_uri": "https://localhost:8080/"
        },
        "outputId": "8a124b43-4061-4657-8d4a-0daed3ccfc24"
      },
      "execution_count": null,
      "outputs": [
        {
          "output_type": "stream",
          "name": "stdout",
          "text": [
            "0.5\n",
            "0.5\n"
          ]
        }
      ]
    },
    {
      "cell_type": "markdown",
      "source": [
        "**Ejemplo 8**\n"
      ],
      "metadata": {
        "id": "SYESVpL6xbLY"
      }
    },
    {
      "cell_type": "code",
      "source": [
        "\n",
        "print(np.max(array_2D))"
      ],
      "metadata": {
        "id": "0kYaX5ElxbLZ",
        "colab": {
          "base_uri": "https://localhost:8080/"
        },
        "outputId": "706dc4d7-a309-4661-882b-df2b5b1c5684"
      },
      "execution_count": null,
      "outputs": [
        {
          "output_type": "stream",
          "name": "stdout",
          "text": [
            "3\n",
            "1\n"
          ]
        }
      ]
    },
    {
      "cell_type": "markdown",
      "source": [
        "**Ejemplo 9**\n"
      ],
      "metadata": {
        "id": "7VvBUv9dxbLZ"
      }
    },
    {
      "cell_type": "code",
      "source": [
        "estaturas_pd = pd.Series(estaturas)\n",
        "print(estaturas_pd)\n"
      ],
      "metadata": {
        "id": "8SCxuievxbLZ",
        "colab": {
          "base_uri": "https://localhost:8080/"
        },
        "outputId": "d84fec1c-56d2-47fa-e3d0-dcf907f9fe8a"
      },
      "execution_count": null,
      "outputs": [
        {
          "output_type": "stream",
          "name": "stdout",
          "text": [
            "0    1.45\n",
            "1    2.05\n",
            "2    1.76\n",
            "3    7.89\n",
            "4    2.12\n",
            "dtype: float64\n"
          ]
        }
      ]
    },
    {
      "cell_type": "markdown",
      "source": [
        "**Ejemplo 10**\n"
      ],
      "metadata": {
        "id": "6TiBKAtzxbLZ"
      }
    },
    {
      "cell_type": "code",
      "source": [
        "df_arr2 = pd.DataFrame(data=array_2)\n",
        "print(df_arr2)"
      ],
      "metadata": {
        "id": "LzJKpNuSxbLZ",
        "colab": {
          "base_uri": "https://localhost:8080/"
        },
        "outputId": "e714f908-850b-4d1e-a21b-eb4b94cfde0d"
      },
      "execution_count": null,
      "outputs": [
        {
          "output_type": "stream",
          "name": "stdout",
          "text": [
            "   0  1  2\n",
            "0  0  1  0\n",
            "1  1  0  1\n"
          ]
        }
      ]
    },
    {
      "cell_type": "markdown",
      "source": [
        "**Ejemplo 11**\n"
      ],
      "metadata": {
        "id": "e1ioJcCBxbLZ"
      }
    },
    {
      "cell_type": "code",
      "source": [
        "print(np.sum(array_2D))"
      ],
      "metadata": {
        "id": "RVQo13baxbLZ"
      },
      "execution_count": null,
      "outputs": []
    },
    {
      "cell_type": "markdown",
      "source": [
        "**Ejemplo 12**\n"
      ],
      "metadata": {
        "id": "QNX9bAMAxbLZ"
      }
    },
    {
      "cell_type": "code",
      "source": [
        "df_arr2.index=[2,4]\n",
        "print(df_arr2.index)"
      ],
      "metadata": {
        "id": "DImQKPOvxbLZ",
        "colab": {
          "base_uri": "https://localhost:8080/"
        },
        "outputId": "468fa5e5-95bd-4d4d-ea65-8d75998336c5"
      },
      "execution_count": null,
      "outputs": [
        {
          "output_type": "stream",
          "name": "stdout",
          "text": [
            "Int64Index([2, 4], dtype='int64')\n"
          ]
        }
      ]
    },
    {
      "cell_type": "markdown",
      "source": [
        "**Ejemplo 13**\n"
      ],
      "metadata": {
        "id": "fySDseKmxbLZ"
      }
    },
    {
      "cell_type": "code",
      "source": [
        "print(df_arr2.iloc[1])"
      ],
      "metadata": {
        "id": "vhtKvEk1xbLa",
        "colab": {
          "base_uri": "https://localhost:8080/"
        },
        "outputId": "f76ad0bb-7581-4396-83ae-18e26cee5d8b"
      },
      "execution_count": null,
      "outputs": [
        {
          "output_type": "stream",
          "name": "stdout",
          "text": [
            "0    1\n",
            "1    0\n",
            "2    1\n",
            "Name: 4, dtype: int64\n"
          ]
        }
      ]
    },
    {
      "cell_type": "markdown",
      "source": [
        "**Ejemplo 14**\n"
      ],
      "metadata": {
        "id": "qyAvj7dDxbLa"
      }
    },
    {
      "cell_type": "code",
      "source": [
        "df_arr2.plot()"
      ],
      "metadata": {
        "id": "yBX1KVGrxbLa",
        "colab": {
          "base_uri": "https://localhost:8080/",
          "height": 282
        },
        "outputId": "21616790-2473-45c7-c698-8576e9410e98"
      },
      "execution_count": null,
      "outputs": [
        {
          "output_type": "execute_result",
          "data": {
            "text/plain": [
              "<matplotlib.axes._subplots.AxesSubplot at 0x7f28179c6a90>"
            ]
          },
          "metadata": {},
          "execution_count": 165
        },
        {
          "output_type": "display_data",
          "data": {
            "text/plain": [
              "<Figure size 432x288 with 1 Axes>"
            ],
            "image/png": "[encoded data removed]"
          },
          "metadata": {
            "needs_background": "light"
          }
        }
      ]
    },
    {
      "cell_type": "markdown",
      "source": [
        "**Ejemplo 15**\n"
      ],
      "metadata": {
        "id": "NCNLzPFexbLa"
      }
    },
    {
      "cell_type": "code",
      "source": [
        "df_arr2_trans = df_arr2.T\n",
        "print(df_arr2_trans)"
      ],
      "metadata": {
        "id": "gkS6C88fxbLa",
        "colab": {
          "base_uri": "https://localhost:8080/"
        },
        "outputId": "c55a450a-50a0-48af-bfa1-55dce5c697b0"
      },
      "execution_count": null,
      "outputs": [
        {
          "output_type": "stream",
          "name": "stdout",
          "text": [
            "   2  4\n",
            "0  0  1\n",
            "1  1  0\n",
            "2  0  1\n"
          ]
        }
      ]
    },
    {
      "cell_type": "markdown",
      "source": [
        "**Ejemplo 16**\n"
      ],
      "metadata": {
        "id": "JsNWbLXzxbLa"
      }
    },
    {
      "cell_type": "code",
      "source": [
        "df_arr2_trans.plot()"
      ],
      "metadata": {
        "id": "ufW36o5JxbLa",
        "colab": {
          "base_uri": "https://localhost:8080/",
          "height": 282
        },
        "outputId": "2c8c7f12-ee0b-4c25-fd91-b558e9810187"
      },
      "execution_count": null,
      "outputs": [
        {
          "output_type": "execute_result",
          "data": {
            "text/plain": [
              "<matplotlib.axes._subplots.AxesSubplot at 0x7f28177415d0>"
            ]
          },
          "metadata": {},
          "execution_count": 168
        },
        {
          "output_type": "display_data",
          "data": {
            "text/plain": [
              "<Figure size 432x288 with 1 Axes>"
            ],
            "image/png": "[encoded data removed]"
          },
          "metadata": {
            "needs_background": "light"
          }
        }
      ]
    },
    {
      "cell_type": "markdown",
      "source": [
        "**Ejemplo 17**\n"
      ],
      "metadata": {
        "id": "3jyAiz_jxbLa"
      }
    },
    {
      "cell_type": "code",
      "source": [
        "print(np.mean(array_2D))"
      ],
      "metadata": {
        "id": "ulFOEp1OxbLa"
      },
      "execution_count": null,
      "outputs": []
    },
    {
      "cell_type": "markdown",
      "source": [
        "**Ejemplo 18**\n"
      ],
      "metadata": {
        "id": "SgMkZ9LJxbLa"
      }
    },
    {
      "cell_type": "code",
      "source": [
        "print(array_2D[array_2D > np.mean(array_2D)] )"
      ],
      "metadata": {
        "id": "vzKbCOSFxbLa",
        "colab": {
          "base_uri": "https://localhost:8080/"
        },
        "outputId": "4b6d2f52-5291-4eb3-9457-cedecc4fbac2"
      },
      "execution_count": null,
      "outputs": [
        {
          "output_type": "stream",
          "name": "stdout",
          "text": [
            "[1 1 1]\n"
          ]
        }
      ]
    },
    {
      "cell_type": "markdown",
      "source": [
        "**Ejemplo 19**\n"
      ],
      "metadata": {
        "id": "P6_4Xx-RxbLb"
      }
    },
    {
      "cell_type": "code",
      "source": [
        "print(array_2D[array_2D < np.mean(array_2D)] )"
      ],
      "metadata": {
        "id": "xELw5sXrxbLb",
        "colab": {
          "base_uri": "https://localhost:8080/"
        },
        "outputId": "b95477f2-6d80-4e4f-9a6c-ca963ef2baff"
      },
      "execution_count": null,
      "outputs": [
        {
          "output_type": "stream",
          "name": "stdout",
          "text": [
            "[0 0 0]\n"
          ]
        }
      ]
    },
    {
      "cell_type": "markdown",
      "source": [
        "**Ejemplo 20**\n"
      ],
      "metadata": {
        "id": "2xNUYgQyxbLb"
      }
    },
    {
      "cell_type": "code",
      "source": [
        "pd_est = pd.array(estaturas)\n",
        "print(pd_est[pd_est > np.mean(pd_est)] )"
      ],
      "metadata": {
        "id": "Re0Ajv96xbLb",
        "colab": {
          "base_uri": "https://localhost:8080/"
        },
        "outputId": "be7477f6-44d6-4785-c52d-19e637dadfe2"
      },
      "execution_count": null,
      "outputs": [
        {
          "output_type": "stream",
          "name": "stdout",
          "text": [
            "<FloatingArray>\n",
            "[7.89]\n",
            "Length: 1, dtype: Float64\n"
          ]
        }
      ]
    },
    {
      "cell_type": "markdown",
      "source": [
        "#**Sección 8: Pandas-Resampling and DataFrame**"
      ],
      "metadata": {
        "id": "aR_fTK8EwS61"
      }
    },
    {
      "cell_type": "markdown",
      "source": [
        "**Install**\n",
        "\n",
        "\n",
        "\n"
      ],
      "metadata": {
        "id": "Ibx1cYjgxbrb"
      }
    },
    {
      "cell_type": "code",
      "source": [
        "!pip install yfinance"
      ],
      "metadata": {
        "id": "5SjFs87XDH-d"
      },
      "execution_count": null,
      "outputs": []
    },
    {
      "cell_type": "markdown",
      "source": [
        "**Ejemplo 1**"
      ],
      "metadata": {
        "id": "sBBAfY-cDJqH"
      }
    },
    {
      "cell_type": "code",
      "source": [
        "import yfinance as yf\n",
        "msft = yf.Ticker(\"MSFT\")\n",
        "tabla_1 = msft.history(start=\"2020-01-01\",  end=\"2021-12-31\")\n",
        "tabla_1"
      ],
      "metadata": {
        "id": "qX9r3m1qxbrb",
        "colab": {
          "base_uri": "https://localhost:8080/",
          "height": 455
        },
        "outputId": "f0a0df16-a0dd-40bd-882f-6454502aefb4"
      },
      "execution_count": null,
      "outputs": [
        {
          "output_type": "execute_result",
          "data": {
            "text/plain": [
              "                  Open        High         Low       Close    Volume  \\\n",
              "Date                                                                   \n",
              "2020-01-02  154.798157  156.699253  154.359445  156.592010  22622100   \n",
              "2020-01-03  154.349686  155.938799  154.096197  154.642151  21116200   \n",
              "2020-01-06  153.140790  155.110137  152.585077  155.041885  20813700   \n",
              "2020-01-07  155.324620  155.665834  153.374776  153.628250  21634100   \n",
              "2020-01-08  154.944374  156.767488  153.988954  156.075287  27746500   \n",
              "...                ...         ...         ...         ...       ...   \n",
              "2021-12-23  330.590047  334.206433  330.570187  332.517456  19617800   \n",
              "2021-12-27  333.282464  340.256916  333.252660  340.227112  19947000   \n",
              "2021-12-28  340.922542  341.578262  338.110926  339.034882  15661500   \n",
              "2021-12-29  339.084572  342.065099  337.475093  339.730377  15042000   \n",
              "2021-12-30  339.690616  340.902698  336.620677  337.117432  15994500   \n",
              "\n",
              "            Dividends  Stock Splits  \n",
              "Date                                 \n",
              "2020-01-02        0.0             0  \n",
              "2020-01-03        0.0             0  \n",
              "2020-01-06        0.0             0  \n",
              "2020-01-07        0.0             0  \n",
              "2020-01-08        0.0             0  \n",
              "...               ...           ...  \n",
              "2021-12-23        0.0             0  \n",
              "2021-12-27        0.0             0  \n",
              "2021-12-28        0.0             0  \n",
              "2021-12-29        0.0             0  \n",
              "2021-12-30        0.0             0  \n",
              "\n",
              "[504 rows x 7 columns]"
            ],
            "text/html": [
              "\n",
              "  <div id=\"df-72f89ed4-91d7-450d-bfca-ebe0a6cb085f\">\n",
              "    <div class=\"colab-df-container\">\n",
              "      <div>\n",
              "<style scoped>\n",
              "    .dataframe tbody tr th:only-of-type {\n",
              "        vertical-align: middle;\n",
              "    }\n",
              "\n",
              "    .dataframe tbody tr th {\n",
              "        vertical-align: top;\n",
              "    }\n",
              "\n",
              "    .dataframe thead th {\n",
              "        text-align: right;\n",
              "    }\n",
              "</style>\n",
              "<table border=\"1\" class=\"dataframe\">\n",
              "  <thead>\n",
              "    <tr style=\"text-align: right;\">\n",
              "      <th></th>\n",
              "      <th>Open</th>\n",
              "      <th>High</th>\n",
              "      <th>Low</th>\n",
              "      <th>Close</th>\n",
              "      <th>Volume</th>\n",
              "      <th>Dividends</th>\n",
              "      <th>Stock Splits</th>\n",
              "    </tr>\n",
              "    <tr>\n",
              "      <th>Date</th>\n",
              "      <th></th>\n",
              "      <th></th>\n",
              "      <th></th>\n",
              "      <th></th>\n",
              "      <th></th>\n",
              "      <th></th>\n",
              "      <th></th>\n",
              "    </tr>\n",
              "  </thead>\n",
              "  <tbody>\n",
              "    <tr>\n",
              "      <th>2020-01-02</th>\n",
              "      <td>154.798157</td>\n",
              "      <td>156.699253</td>\n",
              "      <td>154.359445</td>\n",
              "      <td>156.592010</td>\n",
              "      <td>22622100</td>\n",
              "      <td>0.0</td>\n",
              "      <td>0</td>\n",
              "    </tr>\n",
              "    <tr>\n",
              "      <th>2020-01-03</th>\n",
              "      <td>154.349686</td>\n",
              "      <td>155.938799</td>\n",
              "      <td>154.096197</td>\n",
              "      <td>154.642151</td>\n",
              "      <td>21116200</td>\n",
              "      <td>0.0</td>\n",
              "      <td>0</td>\n",
              "    </tr>\n",
              "    <tr>\n",
              "      <th>2020-01-06</th>\n",
              "      <td>153.140790</td>\n",
              "      <td>155.110137</td>\n",
              "      <td>152.585077</td>\n",
              "      <td>155.041885</td>\n",
              "      <td>20813700</td>\n",
              "      <td>0.0</td>\n",
              "      <td>0</td>\n",
              "    </tr>\n",
              "    <tr>\n",
              "      <th>2020-01-07</th>\n",
              "      <td>155.324620</td>\n",
              "      <td>155.665834</td>\n",
              "      <td>153.374776</td>\n",
              "      <td>153.628250</td>\n",
              "      <td>21634100</td>\n",
              "      <td>0.0</td>\n",
              "      <td>0</td>\n",
              "    </tr>\n",
              "    <tr>\n",
              "      <th>2020-01-08</th>\n",
              "      <td>154.944374</td>\n",
              "      <td>156.767488</td>\n",
              "      <td>153.988954</td>\n",
              "      <td>156.075287</td>\n",
              "      <td>27746500</td>\n",
              "      <td>0.0</td>\n",
              "      <td>0</td>\n",
              "    </tr>\n",
              "    <tr>\n",
              "      <th>...</th>\n",
              "      <td>...</td>\n",
              "      <td>...</td>\n",
              "      <td>...</td>\n",
              "      <td>...</td>\n",
              "      <td>...</td>\n",
              "      <td>...</td>\n",
              "      <td>...</td>\n",
              "    </tr>\n",
              "    <tr>\n",
              "      <th>2021-12-23</th>\n",
              "      <td>330.590047</td>\n",
              "      <td>334.206433</td>\n",
              "      <td>330.570187</td>\n",
              "      <td>332.517456</td>\n",
              "      <td>19617800</td>\n",
              "      <td>0.0</td>\n",
              "      <td>0</td>\n",
              "    </tr>\n",
              "    <tr>\n",
              "      <th>2021-12-27</th>\n",
              "      <td>333.282464</td>\n",
              "      <td>340.256916</td>\n",
              "      <td>333.252660</td>\n",
              "      <td>340.227112</td>\n",
              "      <td>19947000</td>\n",
              "      <td>0.0</td>\n",
              "      <td>0</td>\n",
              "    </tr>\n",
              "    <tr>\n",
              "      <th>2021-12-28</th>\n",
              "      <td>340.922542</td>\n",
              "      <td>341.578262</td>\n",
              "      <td>338.110926</td>\n",
              "      <td>339.034882</td>\n",
              "      <td>15661500</td>\n",
              "      <td>0.0</td>\n",
              "      <td>0</td>\n",
              "    </tr>\n",
              "    <tr>\n",
              "      <th>2021-12-29</th>\n",
              "      <td>339.084572</td>\n",
              "      <td>342.065099</td>\n",
              "      <td>337.475093</td>\n",
              "      <td>339.730377</td>\n",
              "      <td>15042000</td>\n",
              "      <td>0.0</td>\n",
              "      <td>0</td>\n",
              "    </tr>\n",
              "    <tr>\n",
              "      <th>2021-12-30</th>\n",
              "      <td>339.690616</td>\n",
              "      <td>340.902698</td>\n",
              "      <td>336.620677</td>\n",
              "      <td>337.117432</td>\n",
              "      <td>15994500</td>\n",
              "      <td>0.0</td>\n",
              "      <td>0</td>\n",
              "    </tr>\n",
              "  </tbody>\n",
              "</table>\n",
              "<p>504 rows × 7 columns</p>\n",
              "</div>\n",
              "      <button class=\"colab-df-convert\" onclick=\"convertToInteractive('df-72f89ed4-91d7-450d-bfca-ebe0a6cb085f')\"\n",
              "              title=\"Convert this dataframe to an interactive table.\"\n",
              "              style=\"display:none;\">\n",
              "        \n",
              "  <svg xmlns=\"http://www.w3.org/2000/svg\" height=\"24px\"viewBox=\"0 0 24 24\"\n",
              "       width=\"24px\">\n",
              "    <path d=\"M0 0h24v24H0V0z\" fill=\"none\"/>\n",
              "    <path d=\"M18.56 5.44l.94 2.06.94-2.06 2.06-.94-2.06-.94-.94-2.06-.94 2.06-2.06.94zm-11 1L8.5 8.5l.94-2.06 2.06-.94-2.06-.94L8.5 2.5l-.94 2.06-2.06.94zm10 10l.94 2.06.94-2.06 2.06-.94-2.06-.94-.94-2.06-.94 2.06-2.06.94z\"/><path d=\"M17.41 7.96l-1.37-1.37c-.4-.4-.92-.59-1.43-.59-.52 0-1.04.2-1.43.59L10.3 9.45l-7.72 7.72c-.78.78-.78 2.05 0 2.83L4 21.41c.39.39.9.59 1.41.59.51 0 1.02-.2 1.41-.59l7.78-7.78 2.81-2.81c.8-.78.8-2.07 0-2.86zM5.41 20L4 18.59l7.72-7.72 1.47 1.35L5.41 20z\"/>\n",
              "  </svg>\n",
              "      </button>\n",
              "      \n",
              "  <style>\n",
              "    .colab-df-container {\n",
              "      display:flex;\n",
              "      flex-wrap:wrap;\n",
              "      gap: 12px;\n",
              "    }\n",
              "\n",
              "    .colab-df-convert {\n",
              "      background-color: #E8F0FE;\n",
              "      border: none;\n",
              "      border-radius: 50%;\n",
              "      cursor: pointer;\n",
              "      display: none;\n",
              "      fill: #1967D2;\n",
              "      height: 32px;\n",
              "      padding: 0 0 0 0;\n",
              "      width: 32px;\n",
              "    }\n",
              "\n",
              "    .colab-df-convert:hover {\n",
              "      background-color: #E2EBFA;\n",
              "      box-shadow: 0px 1px 2px rgba(60, 64, 67, 0.3), 0px 1px 3px 1px rgba(60, 64, 67, 0.15);\n",
              "      fill: #174EA6;\n",
              "    }\n",
              "\n",
              "    [theme=dark] .colab-df-convert {\n",
              "      background-color: #3B4455;\n",
              "      fill: #D2E3FC;\n",
              "    }\n",
              "\n",
              "    [theme=dark] .colab-df-convert:hover {\n",
              "      background-color: #434B5C;\n",
              "      box-shadow: 0px 1px 3px 1px rgba(0, 0, 0, 0.15);\n",
              "      filter: drop-shadow(0px 1px 2px rgba(0, 0, 0, 0.3));\n",
              "      fill: #FFFFFF;\n",
              "    }\n",
              "  </style>\n",
              "\n",
              "      <script>\n",
              "        const buttonEl =\n",
              "          document.querySelector('#df-72f89ed4-91d7-450d-bfca-ebe0a6cb085f button.colab-df-convert');\n",
              "        buttonEl.style.display =\n",
              "          google.colab.kernel.accessAllowed ? 'block' : 'none';\n",
              "\n",
              "        async function convertToInteractive(key) {\n",
              "          const element = document.querySelector('#df-72f89ed4-91d7-450d-bfca-ebe0a6cb085f');\n",
              "          const dataTable =\n",
              "            await google.colab.kernel.invokeFunction('convertToInteractive',\n",
              "                                                     [key], {});\n",
              "          if (!dataTable) return;\n",
              "\n",
              "          const docLinkHtml = 'Like what you see? Visit the ' +\n",
              "            '<a target=\"_blank\" href=https://colab.research.google.com/notebooks/data_table.ipynb>data table notebook</a>'\n",
              "            + ' to learn more about interactive tables.';\n",
              "          element.innerHTML = '';\n",
              "          dataTable['output_type'] = 'display_data';\n",
              "          await google.colab.output.renderOutput(dataTable, element);\n",
              "          const docLink = document.createElement('div');\n",
              "          docLink.innerHTML = docLinkHtml;\n",
              "          element.appendChild(docLink);\n",
              "        }\n",
              "      </script>\n",
              "    </div>\n",
              "  </div>\n",
              "  "
            ]
          },
          "metadata": {},
          "execution_count": 9
        }
      ]
    },
    {
      "cell_type": "markdown",
      "source": [
        "**Ejemplo 2**\n"
      ],
      "metadata": {
        "id": "WzbQ1Ucpxbrb"
      }
    },
    {
      "cell_type": "code",
      "source": [
        "msft = tabla_1['Open']['2020']\n",
        "msft"
      ],
      "metadata": {
        "id": "BBMUmsmzxbrc",
        "colab": {
          "base_uri": "https://localhost:8080/"
        },
        "outputId": "c3da2616-33b5-4bee-cee6-80b1a9cf035f"
      },
      "execution_count": null,
      "outputs": [
        {
          "output_type": "execute_result",
          "data": {
            "text/plain": [
              "Date\n",
              "2020-01-02    154.798157\n",
              "2020-01-03    154.349686\n",
              "2020-01-06    153.140790\n",
              "2020-01-07    155.324620\n",
              "2020-01-08    154.944374\n",
              "                 ...    \n",
              "2020-12-24    218.154093\n",
              "2020-12-28    221.139374\n",
              "2020-12-29    222.971970\n",
              "2020-12-30    221.907889\n",
              "2020-12-31    218.429962\n",
              "Name: Open, Length: 253, dtype: float64"
            ]
          },
          "metadata": {},
          "execution_count": 13
        }
      ]
    },
    {
      "cell_type": "markdown",
      "source": [
        "**Ejemplo 3**\n"
      ],
      "metadata": {
        "id": "H2isji8Dxbrc"
      }
    },
    {
      "cell_type": "code",
      "source": [
        "print(msft['2020-2'])"
      ],
      "metadata": {
        "id": "cu4U7nyUxbrc",
        "colab": {
          "base_uri": "https://localhost:8080/"
        },
        "outputId": "b8265a98-07ef-4396-fdb8-a6b3838ef94c"
      },
      "execution_count": null,
      "outputs": [
        {
          "output_type": "stream",
          "name": "stdout",
          "text": [
            "Date\n",
            "2020-02-03    166.155988\n",
            "2020-02-04    172.697733\n",
            "2020-02-05    179.414938\n",
            "2020-02-06    176.431667\n",
            "2020-02-07    178.264545\n",
            "2020-02-10    178.976193\n",
            "2020-02-11    185.868926\n",
            "2020-02-12    180.926058\n",
            "2020-02-13    178.488776\n",
            "2020-02-14    178.654486\n",
            "2020-02-18    180.955299\n",
            "2020-02-19    183.844638\n",
            "2020-02-20    182.759544\n",
            "2020-02-21    179.064271\n",
            "2020-02-24    164.009464\n",
            "2020-02-25    170.295321\n",
            "2020-02-26    165.905971\n",
            "2020-02-27    159.659201\n",
            "2020-02-28    148.993747\n",
            "Name: Open, dtype: float64\n"
          ]
        }
      ]
    },
    {
      "cell_type": "markdown",
      "source": [
        "**Ejemplo 4**\n"
      ],
      "metadata": {
        "id": "7Od2wQWvxbrc"
      }
    },
    {
      "cell_type": "code",
      "source": [
        "print(msft['2020-1'])"
      ],
      "metadata": {
        "id": "ZisUWaTfxbrd",
        "colab": {
          "base_uri": "https://localhost:8080/"
        },
        "outputId": "164f3ed7-b001-4d78-fada-423cd4ff235d"
      },
      "execution_count": null,
      "outputs": [
        {
          "output_type": "stream",
          "name": "stdout",
          "text": [
            "Date\n",
            "2020-01-02    154.798157\n",
            "2020-01-03    154.349686\n",
            "2020-01-06    153.140790\n",
            "2020-01-07    155.324620\n",
            "2020-01-08    154.944374\n",
            "2020-01-09    157.781416\n",
            "2020-01-10    158.736856\n",
            "2020-01-13    157.703402\n",
            "2020-01-14    159.292545\n",
            "2020-01-15    158.541845\n",
            "2020-01-16    160.228487\n",
            "2020-01-17    163.221467\n",
            "2020-01-21    162.500033\n",
            "2020-01-22    163.201997\n",
            "2020-01-23    162.022324\n",
            "2020-01-24    163.309213\n",
            "2020-01-27    157.108706\n",
            "2020-01-28    159.672792\n",
            "2020-01-29    163.630916\n",
            "2020-01-30    169.685223\n",
            "2020-01-31    167.891371\n",
            "Name: Open, dtype: float64\n"
          ]
        }
      ]
    },
    {
      "cell_type": "markdown",
      "source": [
        "**Ejemplo 5**\n"
      ],
      "metadata": {
        "id": "FZIVbcE6xbrd"
      }
    },
    {
      "cell_type": "code",
      "source": [
        "print(msft['2020-4'])"
      ],
      "metadata": {
        "id": "mo--ijotxbrd",
        "colab": {
          "base_uri": "https://localhost:8080/"
        },
        "outputId": "62a96b46-3f38-4fad-eb28-35da19e8e086"
      },
      "execution_count": null,
      "outputs": [
        {
          "output_type": "stream",
          "name": "stdout",
          "text": [
            "Date\n",
            "2020-04-01    149.570520\n",
            "2020-04-02    148.456078\n",
            "2020-04-03    151.623449\n",
            "2020-04-06    156.726462\n",
            "2020-04-07    165.788638\n",
            "2020-04-08    161.956539\n",
            "2020-04-09    162.631071\n",
            "2020-04-13    160.666138\n",
            "2020-04-14    165.211887\n",
            "2020-04-15    167.362548\n",
            "2020-04-16    170.393112\n",
            "2020-04-17    175.476531\n",
            "2020-04-20    172.670863\n",
            "2020-04-21    169.611010\n",
            "2020-04-22    167.548308\n",
            "2020-04-23    170.207374\n",
            "2020-04-24    168.203289\n",
            "2020-04-27    172.631741\n",
            "2020-04-28    171.654164\n",
            "2020-04-29    169.337272\n",
            "2020-04-30    175.965325\n",
            "Name: Open, dtype: float64\n"
          ]
        }
      ]
    },
    {
      "cell_type": "markdown",
      "source": [
        "**Ejemplo 6**\n"
      ],
      "metadata": {
        "id": "i6cSPT9wxbrd"
      }
    },
    {
      "cell_type": "code",
      "source": [
        "msft.head(15)"
      ],
      "metadata": {
        "id": "kGVRHQGNxbre",
        "colab": {
          "base_uri": "https://localhost:8080/"
        },
        "outputId": "df2010bf-1637-4b92-f95b-4efb211561a3"
      },
      "execution_count": null,
      "outputs": [
        {
          "output_type": "execute_result",
          "data": {
            "text/plain": [
              "Date\n",
              "2020-01-02    154.798157\n",
              "2020-01-03    154.349686\n",
              "2020-01-06    153.140790\n",
              "2020-01-07    155.324620\n",
              "2020-01-08    154.944374\n",
              "2020-01-09    157.781416\n",
              "2020-01-10    158.736856\n",
              "2020-01-13    157.703402\n",
              "2020-01-14    159.292545\n",
              "2020-01-15    158.541845\n",
              "2020-01-16    160.228487\n",
              "2020-01-17    163.221467\n",
              "2020-01-21    162.500033\n",
              "2020-01-22    163.201997\n",
              "2020-01-23    162.022324\n",
              "Name: Open, dtype: float64"
            ]
          },
          "metadata": {},
          "execution_count": 18
        }
      ]
    },
    {
      "cell_type": "markdown",
      "source": [
        "**Ejemplo 7**\n"
      ],
      "metadata": {
        "id": "4CpO-oO7xbre"
      }
    },
    {
      "cell_type": "code",
      "source": [
        "msft.tail(10)"
      ],
      "metadata": {
        "id": "FL8iCBmOxbre",
        "colab": {
          "base_uri": "https://localhost:8080/"
        },
        "outputId": "0d5a1ec2-9dbf-40fa-a37d-f613dcc29bf6"
      },
      "execution_count": null,
      "outputs": [
        {
          "output_type": "execute_result",
          "data": {
            "text/plain": [
              "Date\n",
              "2020-12-17    216.626938\n",
              "2020-12-18    215.365829\n",
              "2020-12-21    214.341170\n",
              "2020-12-22    219.405354\n",
              "2020-12-23    219.819164\n",
              "2020-12-24    218.154093\n",
              "2020-12-28    221.139374\n",
              "2020-12-29    222.971970\n",
              "2020-12-30    221.907889\n",
              "2020-12-31    218.429962\n",
              "Name: Open, dtype: float64"
            ]
          },
          "metadata": {},
          "execution_count": 19
        }
      ]
    },
    {
      "cell_type": "markdown",
      "source": [
        "**Ejemplo 8**\n"
      ],
      "metadata": {
        "id": "8wk7CV88xbre"
      }
    },
    {
      "cell_type": "code",
      "source": [
        "semanal = msft.resample('W').mean()\n",
        "print(semanal.head(5))"
      ],
      "metadata": {
        "id": "W94DXZi7xbrf",
        "colab": {
          "base_uri": "https://localhost:8080/"
        },
        "outputId": "a5191cf9-d919-4feb-ce91-10d670f7af52"
      },
      "execution_count": null,
      "outputs": [
        {
          "output_type": "stream",
          "name": "stdout",
          "text": [
            "Date\n",
            "2020-01-05    154.573922\n",
            "2020-01-12    155.985611\n",
            "2020-01-19    159.797549\n",
            "2020-01-26    162.758392\n",
            "2020-02-02    163.597801\n",
            "Freq: W-SUN, Name: Open, dtype: float64\n"
          ]
        }
      ]
    },
    {
      "cell_type": "markdown",
      "source": [
        "**Ejemplo 9**\n"
      ],
      "metadata": {
        "id": "G_JLbgrxxbrf"
      }
    },
    {
      "cell_type": "code",
      "source": [
        "Anualmente = msft.resample('Y').mean()\n",
        "print(Anualmente)"
      ],
      "metadata": {
        "id": "sUdV-Dvuxbrf",
        "colab": {
          "base_uri": "https://localhost:8080/"
        },
        "outputId": "1305359b-3dd0-4691-9c23-fcc10c2779df"
      },
      "execution_count": null,
      "outputs": [
        {
          "output_type": "stream",
          "name": "stdout",
          "text": [
            "Date\n",
            "2020-12-31    189.135241\n",
            "Freq: A-DEC, Name: Open, dtype: float64\n"
          ]
        }
      ]
    },
    {
      "cell_type": "markdown",
      "source": [
        "**Ejemplo 10**\n"
      ],
      "metadata": {
        "id": "bJSrumGdxbrf"
      }
    },
    {
      "cell_type": "code",
      "source": [
        "msft.resample('M').min()"
      ],
      "metadata": {
        "id": "ReQpVEg1xbrg",
        "colab": {
          "base_uri": "https://localhost:8080/"
        },
        "outputId": "ba2fe019-6e2d-443c-83c7-dee146f45b15"
      },
      "execution_count": null,
      "outputs": [
        {
          "output_type": "execute_result",
          "data": {
            "text/plain": [
              "Date\n",
              "2020-01-31    153.140790\n",
              "2020-02-29    148.993747\n",
              "2020-03-31    133.938934\n",
              "2020-04-30    148.456078\n",
              "2020-05-31    170.578843\n",
              "2020-06-30    178.945362\n",
              "2020-07-31    196.473277\n",
              "2020-08-31    201.247378\n",
              "2020-09-30    193.774164\n",
              "2020-10-31    199.974864\n",
              "2020-11-30    200.358116\n",
              "2020-12-31    206.951811\n",
              "Freq: M, Name: Open, dtype: float64"
            ]
          },
          "metadata": {},
          "execution_count": 26
        }
      ]
    },
    {
      "cell_type": "markdown",
      "source": [
        "**Ejemplo 11**\n"
      ],
      "metadata": {
        "id": "zKd7BUbYxbrg"
      }
    },
    {
      "cell_type": "code",
      "source": [
        "min = msft.resample('Y').min()\n",
        "print(min)"
      ],
      "metadata": {
        "id": "brkbifFSxbrg",
        "colab": {
          "base_uri": "https://localhost:8080/"
        },
        "outputId": "fcaa4096-5afe-459f-eccd-c268f778cc16"
      },
      "execution_count": null,
      "outputs": [
        {
          "output_type": "stream",
          "name": "stdout",
          "text": [
            "Date\n",
            "2020-12-31    133.938934\n",
            "Freq: A-DEC, Name: Open, dtype: float64\n"
          ]
        }
      ]
    },
    {
      "cell_type": "markdown",
      "source": [
        "**Ejemplo 12**\n"
      ],
      "metadata": {
        "id": "svVXciilxbrg"
      }
    },
    {
      "cell_type": "code",
      "source": [
        "std = msft.resample('W').std()\n",
        "print(std)\n"
      ],
      "metadata": {
        "id": "59_T4yqFxbrh",
        "colab": {
          "base_uri": "https://localhost:8080/"
        },
        "outputId": "bd802020-18ca-4e12-cac7-f24fd4792b4e"
      },
      "execution_count": null,
      "outputs": [
        {
          "output_type": "stream",
          "name": "stdout",
          "text": [
            "Date\n",
            "2020-01-05    0.317117\n",
            "2020-01-12    2.258780\n",
            "2020-01-19    2.128744\n",
            "2020-01-26    0.607929\n",
            "2020-02-02    5.315228\n",
            "2020-02-09    5.359273\n",
            "2020-02-16    3.112293\n",
            "2020-02-23    2.098888\n",
            "2020-03-01    8.100781\n",
            "2020-03-08    4.123654\n",
            "2020-03-15    5.578175\n",
            "2020-03-22    3.033129\n",
            "2020-03-29    5.640565\n",
            "2020-04-05    3.002595\n",
            "2020-04-12    3.757785\n",
            "2020-04-19    5.555012\n",
            "2020-04-26    1.996739\n",
            "2020-05-03    2.394423\n",
            "2020-05-10    4.066706\n",
            "2020-05-17    3.559737\n",
            "2020-05-24    0.859767\n",
            "2020-05-31    2.725312\n",
            "2020-06-07    1.031510\n",
            "2020-06-14    2.752363\n",
            "2020-06-21    5.076717\n",
            "2020-06-28    2.583310\n",
            "2020-07-05    4.488302\n",
            "2020-07-12    2.999633\n",
            "2020-07-19    4.016319\n",
            "2020-07-26    4.814608\n",
            "2020-08-02    1.395599\n",
            "2020-08-09    1.509292\n",
            "2020-08-16    2.355454\n",
            "2020-08-23    1.899180\n",
            "2020-08-30    6.067889\n",
            "2020-09-06    5.587445\n",
            "2020-09-13    3.127492\n",
            "2020-09-20    4.196435\n",
            "2020-09-27    4.163763\n",
            "2020-10-04    2.329042\n",
            "2020-10-11    1.852285\n",
            "2020-10-18    2.489673\n",
            "2020-10-25    2.801851\n",
            "2020-11-01    4.471508\n",
            "2020-11-08    8.883800\n",
            "2020-11-15    4.484585\n",
            "2020-11-22    1.631567\n",
            "2020-11-29    2.736483\n",
            "2020-12-06    0.307056\n",
            "2020-12-13    2.071268\n",
            "2020-12-20    2.782705\n",
            "2020-12-27    2.495030\n",
            "2021-01-03    1.939674\n",
            "Freq: W-SUN, Name: Open, dtype: float64\n"
          ]
        }
      ]
    },
    {
      "cell_type": "markdown",
      "source": [
        "**Ejemplo 13**\n"
      ],
      "metadata": {
        "id": "Xd7ZCZfKxbrh"
      }
    },
    {
      "cell_type": "code",
      "source": [
        "max = msft.resample('M').max()\n",
        "print(max)\n"
      ],
      "metadata": {
        "id": "YgEDA3ZZxbrh",
        "colab": {
          "base_uri": "https://localhost:8080/"
        },
        "outputId": "2fa9a0a6-4d29-4640-d204-287b4caacb4a"
      },
      "execution_count": null,
      "outputs": [
        {
          "output_type": "stream",
          "name": "stdout",
          "text": [
            "Date\n",
            "2020-01-31    169.685223\n",
            "2020-02-29    185.868926\n",
            "2020-03-31    169.904267\n",
            "2020-04-30    175.965325\n",
            "2020-05-31    182.670549\n",
            "2020-06-30    198.110393\n",
            "2020-07-31    212.069977\n",
            "2020-08-31    224.227322\n",
            "2020-09-30    225.298463\n",
            "2020-10-31    219.137078\n",
            "2020-11-30    220.552120\n",
            "2020-12-31    222.971970\n",
            "Freq: M, Name: Open, dtype: float64\n"
          ]
        }
      ]
    },
    {
      "cell_type": "markdown",
      "source": [
        "**Ejemplo 14**\n"
      ],
      "metadata": {
        "id": "vJXnDp81xbrh"
      }
    },
    {
      "cell_type": "code",
      "source": [
        "import pandas as pd\n",
        "import numpy as np\n",
        "datasetD = pd.read_csv('Archivo1.csv')\n",
        "\n",
        "print (datasetD)"
      ],
      "metadata": {
        "id": "jP2HpDrbxbri",
        "colab": {
          "base_uri": "https://localhost:8080/"
        },
        "outputId": "1d09c349-b492-4ff5-f4e4-1754f951e099"
      },
      "execution_count": null,
      "outputs": [
        {
          "output_type": "stream",
          "name": "stdout",
          "text": [
            "        a      b      c      d      e      f      g  Unnamed: 7\n",
            "0   480.0  285.0   40.0   53.0  631.0  486.0  844.0         NaN\n",
            "1   840.0  291.0  299.0   18.0  450.0  596.0  129.0         NaN\n",
            "2   104.0  280.0  395.0  954.0  392.0  119.0  910.0         NaN\n",
            "3   496.0  287.0  540.0    NaN  796.0  793.0    NaN         NaN\n",
            "4   811.0  313.0    NaN  928.0  407.0  978.0  251.0         NaN\n",
            "5   480.0  601.0  551.0  659.0  151.0  391.0  126.0         NaN\n",
            "6   202.0  682.0  875.0  327.0  461.0  892.0  957.0         NaN\n",
            "7   434.0  858.0  858.0  239.0  973.0  797.0  884.0         NaN\n",
            "8   543.0  436.0  120.0  756.0  110.0  851.0  100.0         NaN\n",
            "9   409.0  935.0  293.0  926.0  570.0   64.0  716.0         NaN\n",
            "10  601.0  795.0  601.0    NaN   17.0   65.0  655.0         NaN\n",
            "11    NaN  352.0  607.0  681.0  533.0  744.0  840.0         NaN\n",
            "12   65.0  259.0  623.0  437.0  635.0  214.0  662.0         NaN\n",
            "13  901.0  905.0  204.0  578.0   46.0  478.0  691.0         NaN\n",
            "14  428.0   76.0  213.0  787.0  323.0  381.0  977.0         NaN\n",
            "15   68.0  112.0   74.0   63.0   38.0  630.0  408.0         NaN\n",
            "16  104.0  923.0  403.0  226.0  825.0   51.0  699.0         NaN\n",
            "17  400.0  351.0  897.0  699.0    NaN  189.0  296.0         NaN\n",
            "18  631.0  655.0  738.0  368.0  283.0  236.0  272.0         NaN\n",
            "19  580.0  543.0  796.0  579.0   15.0   38.0  226.0         NaN\n",
            "20  492.0    NaN  486.0  760.0  980.0  868.0   72.0         NaN\n",
            "21  694.0  775.0  333.0  516.0  389.0  608.0  210.0         NaN\n",
            "22  121.0  840.0  344.0  291.0  642.0  151.0  669.0         NaN\n",
            "23  202.0   99.0  221.0   45.0  295.0  111.0  140.0         NaN\n",
            "24  204.0  911.0  855.0  430.0  155.0  962.0  810.0         NaN\n",
            "25  183.0  785.0  150.0    NaN  338.0  115.0  200.0         NaN\n",
            "26  200.0  859.0  995.0  257.0  766.0  373.0  493.0         NaN\n",
            "27  830.0  634.0  386.0  945.0  703.0  324.0  574.0         NaN\n",
            "28  327.0  860.0  277.0  330.0  121.0  283.0  194.0         NaN\n",
            "29  964.0  370.0  379.0  357.0    NaN  891.0  235.0         NaN\n",
            "30    NaN    NaN    NaN    NaN    NaN    NaN    NaN         NaN\n"
          ]
        }
      ]
    },
    {
      "cell_type": "markdown",
      "source": [
        "**Ejemplo 15**\n"
      ],
      "metadata": {
        "id": "b7We843Jxbri"
      }
    },
    {
      "cell_type": "code",
      "source": [
        "print(list(datasetD))"
      ],
      "metadata": {
        "id": "BvpP3AnCxbri",
        "colab": {
          "base_uri": "https://localhost:8080/"
        },
        "outputId": "356af5e8-b6e6-47dc-f5f0-7c7ebcb190c0"
      },
      "execution_count": null,
      "outputs": [
        {
          "output_type": "stream",
          "name": "stdout",
          "text": [
            "['a', 'b', 'c', 'd', 'e', 'f', 'g']\n"
          ]
        }
      ]
    },
    {
      "cell_type": "markdown",
      "source": [
        "**Ejemplo 16**\n"
      ],
      "metadata": {
        "id": "wKyk6t-Gxbri"
      }
    },
    {
      "cell_type": "code",
      "source": [
        "sin_dato = datasetD.isnull()\n",
        "print(sin_dato.describe())"
      ],
      "metadata": {
        "id": "BHybb9BBxbrj",
        "colab": {
          "base_uri": "https://localhost:8080/"
        },
        "outputId": "cae385c3-2ecc-4602-fe11-a89509a70395"
      },
      "execution_count": null,
      "outputs": [
        {
          "output_type": "stream",
          "name": "stdout",
          "text": [
            "            a      b      c      d      e      f      g Unnamed: 7\n",
            "count      31     31     31     31     31     31     31         31\n",
            "unique      2      2      2      2      2      2      2          1\n",
            "top     False  False  False  False  False  False  False       True\n",
            "freq       29     29     29     27     28     30     29         31\n"
          ]
        }
      ]
    },
    {
      "cell_type": "markdown",
      "source": [
        "**Ejemplo 17**\n"
      ],
      "metadata": {
        "id": "wsW831lpxbrj"
      }
    },
    {
      "cell_type": "code",
      "source": [
        "print(sin_dato[sin_dato.a == True])"
      ],
      "metadata": {
        "id": "HTBR7pndxbrj",
        "colab": {
          "base_uri": "https://localhost:8080/"
        },
        "outputId": "4a9ec413-a0ff-4f94-93bc-ef3d7caac5c1"
      },
      "execution_count": null,
      "outputs": [
        {
          "output_type": "stream",
          "name": "stdout",
          "text": [
            "       a      b      c      d      e      f      g  Unnamed: 7\n",
            "11  True  False  False  False  False  False  False        True\n",
            "30  True   True   True   True   True   True   True        True\n"
          ]
        }
      ]
    },
    {
      "cell_type": "markdown",
      "source": [
        "**Ejemplo 18**\n"
      ],
      "metadata": {
        "id": "YZzmY7Nqxbrj"
      }
    },
    {
      "cell_type": "code",
      "source": [
        "concatenado = pd.concat([datasetD.a,datasetD.b])\n",
        "print (concatenado)"
      ],
      "metadata": {
        "id": "t-YSXnxtxbrk",
        "colab": {
          "base_uri": "https://localhost:8080/"
        },
        "outputId": "6e66a8e3-7449-40bc-fb4f-57e54d3b92f1"
      },
      "execution_count": null,
      "outputs": [
        {
          "output_type": "stream",
          "name": "stdout",
          "text": [
            "0     480.0\n",
            "1     840.0\n",
            "2     104.0\n",
            "3     496.0\n",
            "4     811.0\n",
            "      ...  \n",
            "26    859.0\n",
            "27    634.0\n",
            "28    860.0\n",
            "29    370.0\n",
            "30      NaN\n",
            "Length: 62, dtype: float64\n"
          ]
        }
      ]
    },
    {
      "cell_type": "markdown",
      "source": [
        "**Ejemplo 19**\n"
      ],
      "metadata": {
        "id": "xDPeUovzxbrk"
      }
    },
    {
      "cell_type": "code",
      "source": [
        "print(np.max(datasetD))"
      ],
      "metadata": {
        "id": "Z-AXIGorxbrk",
        "colab": {
          "base_uri": "https://localhost:8080/"
        },
        "outputId": "c9d93620-fa86-4db0-9862-b1727ec9cc3f"
      },
      "execution_count": null,
      "outputs": [
        {
          "output_type": "stream",
          "name": "stdout",
          "text": [
            "a             964.0\n",
            "b             935.0\n",
            "c             995.0\n",
            "d             954.0\n",
            "e             980.0\n",
            "f             978.0\n",
            "g             977.0\n",
            "Unnamed: 7      NaN\n",
            "dtype: float64\n"
          ]
        }
      ]
    },
    {
      "cell_type": "markdown",
      "source": [
        "**Ejemplo 20**\n"
      ],
      "metadata": {
        "id": "usVHBJCKxbrl"
      }
    },
    {
      "cell_type": "code",
      "source": [
        "print(np.min(datasetD))"
      ],
      "metadata": {
        "id": "xFVkwuVVxbrl",
        "colab": {
          "base_uri": "https://localhost:8080/"
        },
        "outputId": "6f2202e2-9795-418a-b13f-733d0b04e923"
      },
      "execution_count": null,
      "outputs": [
        {
          "output_type": "stream",
          "name": "stdout",
          "text": [
            "a             65.0\n",
            "b             76.0\n",
            "c             40.0\n",
            "d             18.0\n",
            "e             15.0\n",
            "f             38.0\n",
            "g             72.0\n",
            "Unnamed: 7     NaN\n",
            "dtype: float64\n"
          ]
        }
      ]
    },
    {
      "cell_type": "markdown",
      "source": [
        "#**Sección 9: Colab Yahoo Graphical Representations of Data**"
      ],
      "metadata": {
        "id": "LK5quX15wUQd"
      }
    },
    {
      "cell_type": "markdown",
      "source": [
        "**Import / pip install**"
      ],
      "metadata": {
        "id": "6q0-9FnoPsuc"
      }
    },
    {
      "cell_type": "code",
      "source": [
        "import numpy as np\n",
        "import pandas as pd\n",
        "import matplotlib.pyplot as plt\n",
        "\n",
        "!pip install yfinance"
      ],
      "metadata": {
        "colab": {
          "base_uri": "https://localhost:8080/"
        },
        "id": "FboV3iaBPtGj",
        "outputId": "3d7a8c35-7b39-4b82-aeb4-684b60b49d89"
      },
      "execution_count": null,
      "outputs": [
        {
          "output_type": "stream",
          "name": "stdout",
          "text": [
            "Looking in indexes: https://pypi.org/simple, https://us-python.pkg.dev/colab-wheels/public/simple/\n",
            "Requirement already satisfied: yfinance in /usr/local/lib/python3.7/dist-packages (0.1.74)\n",
            "Requirement already satisfied: numpy>=1.15 in /usr/local/lib/python3.7/dist-packages (from yfinance) (1.21.6)\n",
            "Requirement already satisfied: multitasking>=0.0.7 in /usr/local/lib/python3.7/dist-packages (from yfinance) (0.0.11)\n",
            "Requirement already satisfied: lxml>=4.5.1 in /usr/local/lib/python3.7/dist-packages (from yfinance) (4.9.1)\n",
            "Requirement already satisfied: requests>=2.26 in /usr/local/lib/python3.7/dist-packages (from yfinance) (2.28.1)\n",
            "Requirement already satisfied: pandas>=0.24.0 in /usr/local/lib/python3.7/dist-packages (from yfinance) (1.3.5)\n",
            "Requirement already satisfied: pytz>=2017.3 in /usr/local/lib/python3.7/dist-packages (from pandas>=0.24.0->yfinance) (2022.2.1)\n",
            "Requirement already satisfied: python-dateutil>=2.7.3 in /usr/local/lib/python3.7/dist-packages (from pandas>=0.24.0->yfinance) (2.8.2)\n",
            "Requirement already satisfied: six>=1.5 in /usr/local/lib/python3.7/dist-packages (from python-dateutil>=2.7.3->pandas>=0.24.0->yfinance) (1.15.0)\n",
            "Requirement already satisfied: idna<4,>=2.5 in /usr/local/lib/python3.7/dist-packages (from requests>=2.26->yfinance) (2.10)\n",
            "Requirement already satisfied: urllib3<1.27,>=1.21.1 in /usr/local/lib/python3.7/dist-packages (from requests>=2.26->yfinance) (1.24.3)\n",
            "Requirement already satisfied: charset-normalizer<3,>=2 in /usr/local/lib/python3.7/dist-packages (from requests>=2.26->yfinance) (2.1.0)\n",
            "Requirement already satisfied: certifi>=2017.4.17 in /usr/local/lib/python3.7/dist-packages (from requests>=2.26->yfinance) (2022.6.15)\n"
          ]
        }
      ]
    },
    {
      "cell_type": "markdown",
      "source": [
        "**Ejemplo 1**\n",
        "\n",
        "\n",
        "\n"
      ],
      "metadata": {
        "id": "KZECwmKbxcc5"
      }
    },
    {
      "cell_type": "code",
      "source": [
        "x = datasetD['a'].pct_change()[1:]\n",
        "y = datasetD['b'].pct_change()[1:]\n",
        "plt.xlabel('a')\n",
        "plt.ylabel('b')\n",
        "plt.scatter(x, y)"
      ],
      "metadata": {
        "id": "9FPJTt6Excc5",
        "colab": {
          "base_uri": "https://localhost:8080/",
          "height": 296
        },
        "outputId": "8bae9adf-2e7d-4c20-aa05-a660da61b966"
      },
      "execution_count": null,
      "outputs": [
        {
          "output_type": "execute_result",
          "data": {
            "text/plain": [
              "<matplotlib.collections.PathCollection at 0x7f570a8641d0>"
            ]
          },
          "metadata": {},
          "execution_count": 58
        },
        {
          "output_type": "display_data",
          "data": {
            "text/plain": [
              "<Figure size 432x288 with 1 Axes>"
            ],
            "image/png": "[encoded data removed]"
          },
          "metadata": {
            "needs_background": "light"
          }
        }
      ]
    },
    {
      "cell_type": "markdown",
      "source": [
        "**Ejemplo 2**\n"
      ],
      "metadata": {
        "id": "3RQ9P5K2xcc6"
      }
    },
    {
      "cell_type": "code",
      "source": [
        "x = datasetD['b'].pct_change()[1:]\n",
        "y = datasetD['c'].pct_change()[1:]\n",
        "plt.xlabel('b')\n",
        "plt.ylabel('c')\n",
        "plt.scatter(x, y)"
      ],
      "metadata": {
        "id": "vEbXY_zbxcc6",
        "colab": {
          "base_uri": "https://localhost:8080/",
          "height": 282
        },
        "outputId": "56531f15-9690-450c-c330-e20ad95ab5cb"
      },
      "execution_count": null,
      "outputs": [
        {
          "output_type": "execute_result",
          "data": {
            "text/plain": [
              "<matplotlib.collections.PathCollection at 0x7f570a908fd0>"
            ]
          },
          "metadata": {},
          "execution_count": 56
        },
        {
          "output_type": "display_data",
          "data": {
            "text/plain": [
              "<Figure size 432x288 with 1 Axes>"
            ],
            "image/png": "[encoded data removed]"
          },
          "metadata": {
            "needs_background": "light"
          }
        }
      ]
    },
    {
      "cell_type": "markdown",
      "source": [
        "**Ejemplo 3**\n"
      ],
      "metadata": {
        "id": "s7edoJMnxcc6"
      }
    },
    {
      "cell_type": "code",
      "source": [
        "x = datasetD['d'].pct_change()[1:]\n",
        "y = datasetD['e'].pct_change()[1:]\n",
        "plt.xlabel('d')\n",
        "plt.ylabel('e')\n",
        "plt.scatter(x, y)"
      ],
      "metadata": {
        "id": "xVOSfAcgxcc6",
        "colab": {
          "base_uri": "https://localhost:8080/",
          "height": 282
        },
        "outputId": "c5c168f0-f3a7-4981-cf02-424fb798b4c2"
      },
      "execution_count": null,
      "outputs": [
        {
          "output_type": "execute_result",
          "data": {
            "text/plain": [
              "<matplotlib.collections.PathCollection at 0x7f570aa0bf50>"
            ]
          },
          "metadata": {},
          "execution_count": 54
        },
        {
          "output_type": "display_data",
          "data": {
            "text/plain": [
              "<Figure size 432x288 with 1 Axes>"
            ],
            "image/png": "[encoded data removed]"
          },
          "metadata": {
            "needs_background": "light"
          }
        }
      ]
    },
    {
      "cell_type": "markdown",
      "source": [
        "**Ejemplo 4**\n"
      ],
      "metadata": {
        "id": "mGh-20j_xcc6"
      }
    },
    {
      "cell_type": "code",
      "source": [
        "x = datasetD['a']\n",
        "y = datasetD['f']\n",
        "plt.xlabel('a')\n",
        "plt.ylabel('f')\n",
        "plt.scatter(x, y)"
      ],
      "metadata": {
        "id": "p9AOoVTxxcc6",
        "colab": {
          "base_uri": "https://localhost:8080/",
          "height": 296
        },
        "outputId": "3de4f823-c80f-47de-fadc-3a4a8f861c9a"
      },
      "execution_count": null,
      "outputs": [
        {
          "output_type": "execute_result",
          "data": {
            "text/plain": [
              "<matplotlib.collections.PathCollection at 0x7f5709587ed0>"
            ]
          },
          "metadata": {},
          "execution_count": 93
        },
        {
          "output_type": "display_data",
          "data": {
            "text/plain": [
              "<Figure size 432x288 with 1 Axes>"
            ],
            "image/png": "[encoded data removed]"
          },
          "metadata": {
            "needs_background": "light"
          }
        }
      ]
    },
    {
      "cell_type": "markdown",
      "source": [
        "**Ejemplo 5**\n"
      ],
      "metadata": {
        "id": "exCRnLxBxcc6"
      }
    },
    {
      "cell_type": "code",
      "source": [
        "plt.plot(datasetD['a'])\n",
        "plt.ylabel('a')"
      ],
      "metadata": {
        "id": "8w4IZ_Kdxcc6",
        "colab": {
          "base_uri": "https://localhost:8080/",
          "height": 284
        },
        "outputId": "a9f13768-339f-46f2-99bb-3103f7e98e41"
      },
      "execution_count": null,
      "outputs": [
        {
          "output_type": "execute_result",
          "data": {
            "text/plain": [
              "[<matplotlib.lines.Line2D at 0x7f570a7a8690>]"
            ]
          },
          "metadata": {},
          "execution_count": 61
        },
        {
          "output_type": "display_data",
          "data": {
            "text/plain": [
              "<Figure size 432x288 with 1 Axes>"
            ],
            "image/png": "[encoded data removed]"
          },
          "metadata": {
            "needs_background": "light"
          }
        }
      ]
    },
    {
      "cell_type": "markdown",
      "source": [
        "**Ejemplo 6**\n"
      ],
      "metadata": {
        "id": "29pAZ31axcc6"
      }
    },
    {
      "cell_type": "code",
      "source": [
        "plt.plot(datasetD['b'])\n",
        "plt.ylabel('b')"
      ],
      "metadata": {
        "id": "bibV5qpexcc7",
        "colab": {
          "base_uri": "https://localhost:8080/",
          "height": 282
        },
        "outputId": "c69ebc42-c565-4be7-abbb-b9546de6683d"
      },
      "execution_count": null,
      "outputs": [
        {
          "output_type": "execute_result",
          "data": {
            "text/plain": [
              "Text(0, 0.5, 'b')"
            ]
          },
          "metadata": {},
          "execution_count": 68
        },
        {
          "output_type": "display_data",
          "data": {
            "text/plain": [
              "<Figure size 432x288 with 1 Axes>"
            ],
            "image/png": "[encoded data removed]"
          },
          "metadata": {
            "needs_background": "light"
          }
        }
      ]
    },
    {
      "cell_type": "markdown",
      "source": [
        "**Ejemplo 7**\n"
      ],
      "metadata": {
        "id": "WjH6OEBdxcc7"
      }
    },
    {
      "cell_type": "code",
      "source": [
        "plt.plot(datasetD['c'])\n",
        "plt.ylabel('c')"
      ],
      "metadata": {
        "id": "MiqftVDSxcc7",
        "colab": {
          "base_uri": "https://localhost:8080/",
          "height": 282
        },
        "outputId": "f0c72e2e-dee2-4f83-cb6f-75f71c62bd6c"
      },
      "execution_count": null,
      "outputs": [
        {
          "output_type": "execute_result",
          "data": {
            "text/plain": [
              "Text(0, 0.5, 'c')"
            ]
          },
          "metadata": {},
          "execution_count": 67
        },
        {
          "output_type": "display_data",
          "data": {
            "text/plain": [
              "<Figure size 432x288 with 1 Axes>"
            ],
            "image/png": "[encoded data removed]"
          },
          "metadata": {
            "needs_background": "light"
          }
        }
      ]
    },
    {
      "cell_type": "markdown",
      "source": [
        "**Ejemplo 8**\n"
      ],
      "metadata": {
        "id": "ZtyUx224xcc7"
      }
    },
    {
      "cell_type": "code",
      "source": [
        "plt.plot(datasetD['a'])\n",
        "plt.plot(datasetD['b'])\n",
        "plt.plot(datasetD['c'])\n",
        "plt.legend(['a', 'b','c'])"
      ],
      "metadata": {
        "id": "UeJ08tY6xcc7",
        "colab": {
          "base_uri": "https://localhost:8080/",
          "height": 282
        },
        "outputId": "bbc3fd70-f733-4660-bf5f-2597afaf2116"
      },
      "execution_count": null,
      "outputs": [
        {
          "output_type": "execute_result",
          "data": {
            "text/plain": [
              "<matplotlib.legend.Legend at 0x7f570a5d2ad0>"
            ]
          },
          "metadata": {},
          "execution_count": 66
        },
        {
          "output_type": "display_data",
          "data": {
            "text/plain": [
              "<Figure size 432x288 with 1 Axes>"
            ],
            "image/png": "[encoded data removed]"
          },
          "metadata": {
            "needs_background": "light"
          }
        }
      ]
    },
    {
      "cell_type": "markdown",
      "source": [
        "**Ejemplo 9**\n"
      ],
      "metadata": {
        "id": "6J2olTKuxcc7"
      }
    },
    {
      "cell_type": "code",
      "source": [
        "plt.plot(datasetD)\n",
        "plt.legend(['a', 'b','c','d','e','f','g'])\n",
        "print('****SON DATOS ALEATORIOS XD****')"
      ],
      "metadata": {
        "id": "4CCCv55ixcc7",
        "colab": {
          "base_uri": "https://localhost:8080/",
          "height": 282
        },
        "outputId": "9300933f-9ecf-4f03-c42d-af5be4570ff7"
      },
      "execution_count": null,
      "outputs": [
        {
          "output_type": "stream",
          "name": "stdout",
          "text": [
            "****SON DATOS ALEATORIOS XD****\n"
          ]
        },
        {
          "output_type": "display_data",
          "data": {
            "text/plain": [
              "<Figure size 432x288 with 1 Axes>"
            ],
            "image/png": "[encoded data removed]"
          },
          "metadata": {
            "needs_background": "light"
          }
        }
      ]
    },
    {
      "cell_type": "markdown",
      "source": [
        "**Ejemplo 10**\n"
      ],
      "metadata": {
        "id": "yC7jYPSnxcc7"
      }
    },
    {
      "cell_type": "code",
      "source": [
        "plt.hist(datasetD['a'], bins=20, cumulative=True)"
      ],
      "metadata": {
        "id": "vb0KUIYcxcc8",
        "colab": {
          "base_uri": "https://localhost:8080/",
          "height": 370
        },
        "outputId": "140abbcf-b899-42f2-b655-3ffc23d386f1"
      },
      "execution_count": null,
      "outputs": [
        {
          "output_type": "execute_result",
          "data": {
            "text/plain": [
              "(array([ 4.,  5.,  6., 10., 10., 11., 11., 13., 15., 19., 20., 22., 23.,\n",
              "        24., 24., 24., 25., 27., 28., 29.]),\n",
              " array([ 65.  , 109.95, 154.9 , 199.85, 244.8 , 289.75, 334.7 , 379.65,\n",
              "        424.6 , 469.55, 514.5 , 559.45, 604.4 , 649.35, 694.3 , 739.25,\n",
              "        784.2 , 829.15, 874.1 , 919.05, 964.  ]),\n",
              " <a list of 20 Patch objects>)"
            ]
          },
          "metadata": {},
          "execution_count": 73
        },
        {
          "output_type": "display_data",
          "data": {
            "text/plain": [
              "<Figure size 432x288 with 1 Axes>"
            ],
            "image/png": "[encoded data removed]"
          },
          "metadata": {
            "needs_background": "light"
          }
        }
      ]
    },
    {
      "cell_type": "markdown",
      "source": [
        "**Ejemplo 11**\n"
      ],
      "metadata": {
        "id": "BON6lWd4xcc8"
      }
    },
    {
      "cell_type": "code",
      "source": [
        "plt.hist(datasetD['b'], bins=20, cumulative=True)"
      ],
      "metadata": {
        "id": "BT7zc5C7xcc8",
        "colab": {
          "base_uri": "https://localhost:8080/",
          "height": 370
        },
        "outputId": "1fd4efac-f38f-45fa-a2da-9e8387e03f1d"
      },
      "execution_count": null,
      "outputs": [
        {
          "output_type": "execute_result",
          "data": {
            "text/plain": [
              "(array([ 3.,  3.,  3.,  3.,  7.,  9., 12., 12., 13., 13., 14., 14., 16.,\n",
              "        17., 18., 18., 21., 22., 25., 29.]),\n",
              " array([ 76.  , 118.95, 161.9 , 204.85, 247.8 , 290.75, 333.7 , 376.65,\n",
              "        419.6 , 462.55, 505.5 , 548.45, 591.4 , 634.35, 677.3 , 720.25,\n",
              "        763.2 , 806.15, 849.1 , 892.05, 935.  ]),\n",
              " <a list of 20 Patch objects>)"
            ]
          },
          "metadata": {},
          "execution_count": 74
        },
        {
          "output_type": "display_data",
          "data": {
            "text/plain": [
              "<Figure size 432x288 with 1 Axes>"
            ],
            "image/png": "[encoded data removed]"
          },
          "metadata": {
            "needs_background": "light"
          }
        }
      ]
    },
    {
      "cell_type": "markdown",
      "source": [
        "**Ejemplo 12**\n"
      ],
      "metadata": {
        "id": "7_OypXh1xcc8"
      }
    },
    {
      "cell_type": "code",
      "source": [
        "plt.hist(datasetD['c'], bins=20, cumulative=True)"
      ],
      "metadata": {
        "id": "niw5CgfQxcc8",
        "colab": {
          "base_uri": "https://localhost:8080/",
          "height": 370
        },
        "outputId": "942570af-57c7-4261-fb2b-06da72694474"
      },
      "execution_count": null,
      "outputs": [
        {
          "output_type": "execute_result",
          "data": {
            "text/plain": [
              "(array([ 2.,  3.,  4.,  7.,  8., 10., 12., 16., 16., 17., 19., 21., 22.,\n",
              "        22., 23., 24., 24., 28., 28., 29.]),\n",
              " array([ 40.  ,  87.75, 135.5 , 183.25, 231.  , 278.75, 326.5 , 374.25,\n",
              "        422.  , 469.75, 517.5 , 565.25, 613.  , 660.75, 708.5 , 756.25,\n",
              "        804.  , 851.75, 899.5 , 947.25, 995.  ]),\n",
              " <a list of 20 Patch objects>)"
            ]
          },
          "metadata": {},
          "execution_count": 75
        },
        {
          "output_type": "display_data",
          "data": {
            "text/plain": [
              "<Figure size 432x288 with 1 Axes>"
            ],
            "image/png": "[encoded data removed]"
          },
          "metadata": {
            "needs_background": "light"
          }
        }
      ]
    },
    {
      "cell_type": "markdown",
      "source": [
        "**Ejemplo 13**\n"
      ],
      "metadata": {
        "id": "35DmEHeCxcc8"
      }
    },
    {
      "cell_type": "code",
      "source": [
        "plt.hist(datasetD['d'], bins=20, cumulative=False)"
      ],
      "metadata": {
        "id": "WKRlv6JJxcc8",
        "colab": {
          "base_uri": "https://localhost:8080/",
          "height": 369
        },
        "outputId": "332e5485-d9d1-4e7c-b0dc-f90fd93e7f37"
      },
      "execution_count": null,
      "outputs": [
        {
          "output_type": "execute_result",
          "data": {
            "text/plain": [
              "(array([4., 0., 0., 0., 2., 2., 2., 2., 2., 0., 1., 2., 0., 1., 2., 2., 1.,\n",
              "        0., 0., 4.]),\n",
              " array([ 18. ,  64.8, 111.6, 158.4, 205.2, 252. , 298.8, 345.6, 392.4,\n",
              "        439.2, 486. , 532.8, 579.6, 626.4, 673.2, 720. , 766.8, 813.6,\n",
              "        860.4, 907.2, 954. ]),\n",
              " <a list of 20 Patch objects>)"
            ]
          },
          "metadata": {},
          "execution_count": 77
        },
        {
          "output_type": "display_data",
          "data": {
            "text/plain": [
              "<Figure size 432x288 with 1 Axes>"
            ],
            "image/png": "[encoded data removed]"
          },
          "metadata": {
            "needs_background": "light"
          }
        }
      ]
    },
    {
      "cell_type": "markdown",
      "source": [
        "**Ejemplo 14**\n"
      ],
      "metadata": {
        "id": "ZsMTEJV5xcc8"
      }
    },
    {
      "cell_type": "code",
      "source": [
        "plt.hist(datasetD['e'], bins=20, cumulative=False)"
      ],
      "metadata": {
        "id": "4BqLKe70xcc8",
        "colab": {
          "base_uri": "https://localhost:8080/",
          "height": 369
        },
        "outputId": "6b51ed31-1060-46c3-8b6d-02dd06ce80ef"
      },
      "execution_count": null,
      "outputs": [
        {
          "output_type": "execute_result",
          "data": {
            "text/plain": [
              "(array([4., 1., 3., 0., 0., 2., 2., 2., 1., 2., 1., 1., 3., 0., 1., 1., 2.,\n",
              "        0., 0., 2.]),\n",
              " array([ 15.  ,  63.25, 111.5 , 159.75, 208.  , 256.25, 304.5 , 352.75,\n",
              "        401.  , 449.25, 497.5 , 545.75, 594.  , 642.25, 690.5 , 738.75,\n",
              "        787.  , 835.25, 883.5 , 931.75, 980.  ]),\n",
              " <a list of 20 Patch objects>)"
            ]
          },
          "metadata": {},
          "execution_count": 78
        },
        {
          "output_type": "display_data",
          "data": {
            "text/plain": [
              "<Figure size 432x288 with 1 Axes>"
            ],
            "image/png": "[encoded data removed]"
          },
          "metadata": {
            "needs_background": "light"
          }
        }
      ]
    },
    {
      "cell_type": "markdown",
      "source": [
        "**Ejemplo 15**\n"
      ],
      "metadata": {
        "id": "n6Bh60sZxcc8"
      }
    },
    {
      "cell_type": "code",
      "source": [
        "plt.hist(datasetD, bins=30, cumulative=True)\n",
        "plt.legend(['a', 'b','c','d','e','f','g'])\n",
        "print('')"
      ],
      "metadata": {
        "id": "d4jdKHULxcc9",
        "colab": {
          "base_uri": "https://localhost:8080/",
          "height": 282
        },
        "outputId": "fbf0a617-e586-44bd-c2a7-24458f2d8c54"
      },
      "execution_count": null,
      "outputs": [
        {
          "output_type": "stream",
          "name": "stdout",
          "text": [
            "\n"
          ]
        },
        {
          "output_type": "display_data",
          "data": {
            "text/plain": [
              "<Figure size 432x288 with 1 Axes>"
            ],
            "image/png": "[encoded data removed]"
          },
          "metadata": {
            "needs_background": "light"
          }
        }
      ]
    },
    {
      "cell_type": "markdown",
      "source": [
        "**Ejemplo 16**\n"
      ],
      "metadata": {
        "id": "LgWrbSKAxcc9"
      }
    },
    {
      "cell_type": "code",
      "source": [
        "aa=[datasetD['f'],datasetD['a']]\n",
        "plt.hist(aa, bins=20, cumulative=False)"
      ],
      "metadata": {
        "id": "3dkRu8rzxcc9",
        "colab": {
          "base_uri": "https://localhost:8080/",
          "height": 387
        },
        "outputId": "4e7eb947-c6f3-49bd-8498-4372dd754270"
      },
      "execution_count": null,
      "outputs": [
        {
          "output_type": "execute_result",
          "data": {
            "text/plain": [
              "(array([[4., 3., 1., 2., 1., 1., 1., 3., 0., 2., 0., 1., 2., 0., 0., 1.,\n",
              "         2., 2., 2., 2.],\n",
              "        [2., 3., 0., 5., 0., 0., 1., 2., 2., 4., 1., 2., 1., 1., 0., 0.,\n",
              "         2., 1., 1., 1.]]),\n",
              " array([ 38.,  85., 132., 179., 226., 273., 320., 367., 414., 461., 508.,\n",
              "        555., 602., 649., 696., 743., 790., 837., 884., 931., 978.]),\n",
              " <a list of 2 Lists of Patches objects>)"
            ]
          },
          "metadata": {},
          "execution_count": 92
        },
        {
          "output_type": "display_data",
          "data": {
            "text/plain": [
              "<Figure size 432x288 with 1 Axes>"
            ],
            "image/png": "[encoded data removed]"
          },
          "metadata": {
            "needs_background": "light"
          }
        }
      ]
    },
    {
      "cell_type": "markdown",
      "source": [
        "**Ejemplo 17**\n"
      ],
      "metadata": {
        "id": "Z7XtNCgqxcc9"
      }
    },
    {
      "cell_type": "code",
      "source": [
        "aa=[datasetD['a'],datasetD['b']]\n",
        "plt.hist(aa, bins=9, cumulative=False)"
      ],
      "metadata": {
        "id": "74yXMFbKxcc9",
        "colab": {
          "base_uri": "https://localhost:8080/",
          "height": 369
        },
        "outputId": "177b6b9f-8ee1-45b3-fa11-4e0b01273702"
      },
      "execution_count": null,
      "outputs": [
        {
          "output_type": "execute_result",
          "data": {
            "text/plain": [
              "(array([[5., 5., 1., 4., 5., 3., 1., 3., 2.],\n",
              "        [3., 1., 7., 2., 1., 3., 1., 7., 4.]]),\n",
              " array([ 65.        , 164.88888889, 264.77777778, 364.66666667,\n",
              "        464.55555556, 564.44444444, 664.33333333, 764.22222222,\n",
              "        864.11111111, 964.        ]),\n",
              " <a list of 2 Lists of Patches objects>)"
            ]
          },
          "metadata": {},
          "execution_count": 97
        },
        {
          "output_type": "display_data",
          "data": {
            "text/plain": [
              "<Figure size 432x288 with 1 Axes>"
            ],
            "image/png": "[encoded data removed]"
          },
          "metadata": {
            "needs_background": "light"
          }
        }
      ]
    },
    {
      "cell_type": "markdown",
      "source": [
        "**Ejemplo 18**\n"
      ],
      "metadata": {
        "id": "xEMlsiwlxcc9"
      }
    },
    {
      "cell_type": "code",
      "source": [
        "aa=[datasetD['c'],datasetD['d'],datasetD['a']]\n",
        "plt.hist(aa, bins=20, cumulative=False)"
      ],
      "metadata": {
        "id": "tXDL6kqpxcc9",
        "colab": {
          "base_uri": "https://localhost:8080/",
          "height": 439
        },
        "outputId": "bd70d396-69a6-4367-a6a9-cbe03b9d992e"
      },
      "execution_count": null,
      "outputs": [
        {
          "output_type": "execute_result",
          "data": {
            "text/plain": [
              "(array([[1., 1., 2., 2., 1., 3., 2., 4., 0., 1., 2., 1., 2., 0., 1., 1.,\n",
              "         0., 4., 0., 1.],\n",
              "        [4., 0., 0., 0., 3., 1., 3., 1., 2., 0., 1., 2., 0., 3., 0., 3.,\n",
              "         0., 0., 3., 1.],\n",
              "        [1., 3., 1., 5., 0., 0., 1., 1., 3., 4., 1., 2., 1., 1., 0., 0.,\n",
              "         3., 0., 1., 1.]]),\n",
              " array([ 18.  ,  66.85, 115.7 , 164.55, 213.4 , 262.25, 311.1 , 359.95,\n",
              "        408.8 , 457.65, 506.5 , 555.35, 604.2 , 653.05, 701.9 , 750.75,\n",
              "        799.6 , 848.45, 897.3 , 946.15, 995.  ]),\n",
              " <a list of 3 Lists of Patches objects>)"
            ]
          },
          "metadata": {},
          "execution_count": 98
        },
        {
          "output_type": "display_data",
          "data": {
            "text/plain": [
              "<Figure size 432x288 with 1 Axes>"
            ],
            "image/png": "[encoded data removed]"
          },
          "metadata": {
            "needs_background": "light"
          }
        }
      ]
    },
    {
      "cell_type": "markdown",
      "source": [
        "**Ejemplo 19**\n"
      ],
      "metadata": {
        "id": "U0hK_iS5xcc9"
      }
    },
    {
      "cell_type": "code",
      "source": [
        "aa=[datasetD['f'],datasetD['a'],datasetD['b']]\n",
        "plt.hist(aa, bins=20, cumulative=False)"
      ],
      "metadata": {
        "id": "AnDhDH5gxcc9",
        "colab": {
          "base_uri": "https://localhost:8080/",
          "height": 421
        },
        "outputId": "f7882f33-8b8a-4336-f2cf-0c87d688ad54"
      },
      "execution_count": null,
      "outputs": [
        {
          "output_type": "execute_result",
          "data": {
            "text/plain": [
              "(array([[4., 3., 1., 2., 1., 1., 1., 3., 0., 2., 0., 1., 2., 0., 0., 1.,\n",
              "         2., 2., 2., 2.],\n",
              "        [2., 3., 0., 5., 0., 0., 1., 2., 2., 4., 1., 2., 1., 1., 0., 0.,\n",
              "         2., 1., 1., 1.],\n",
              "        [1., 2., 0., 0., 1., 5., 2., 1., 1., 0., 1., 1., 1., 2., 0., 2.,\n",
              "         1., 4., 3., 1.]]),\n",
              " array([ 38.,  85., 132., 179., 226., 273., 320., 367., 414., 461., 508.,\n",
              "        555., 602., 649., 696., 743., 790., 837., 884., 931., 978.]),\n",
              " <a list of 3 Lists of Patches objects>)"
            ]
          },
          "metadata": {},
          "execution_count": 99
        },
        {
          "output_type": "display_data",
          "data": {
            "text/plain": [
              "<Figure size 432x288 with 1 Axes>"
            ],
            "image/png": "[encoded data removed]"
          },
          "metadata": {
            "needs_background": "light"
          }
        }
      ]
    },
    {
      "cell_type": "markdown",
      "source": [
        "**Ejemplo 20**\n"
      ],
      "metadata": {
        "id": "rIXg_FEQxcc-"
      }
    },
    {
      "cell_type": "code",
      "source": [
        "aa=[datasetD['g'],datasetD['e'],datasetD['c']]\n",
        "plt.hist(aa, bins=20, cumulative=False)"
      ],
      "metadata": {
        "id": "eSASqMQ4xcc-",
        "colab": {
          "base_uri": "https://localhost:8080/",
          "height": 421
        },
        "outputId": "572eab91-a56b-4ad7-d684-7d1701cdafb3"
      },
      "execution_count": null,
      "outputs": [
        {
          "output_type": "execute_result",
          "data": {
            "text/plain": [
              "(array([[0., 2., 3., 3., 3., 2., 0., 0., 1., 1., 0., 1., 0., 5., 1., 0.,\n",
              "         3., 1., 1., 2.],\n",
              "        [4., 1., 3., 0., 0., 2., 2., 2., 2., 1., 1., 1., 3., 0., 1., 2.,\n",
              "         1., 0., 0., 2.],\n",
              "        [1., 1., 2., 1., 2., 3., 2., 4., 0., 1., 2., 1., 2., 0., 1., 1.,\n",
              "         0., 3., 1., 1.]]),\n",
              " array([ 15.,  64., 113., 162., 211., 260., 309., 358., 407., 456., 505.,\n",
              "        554., 603., 652., 701., 750., 799., 848., 897., 946., 995.]),\n",
              " <a list of 3 Lists of Patches objects>)"
            ]
          },
          "metadata": {},
          "execution_count": 100
        },
        {
          "output_type": "display_data",
          "data": {
            "text/plain": [
              "<Figure size 432x288 with 1 Axes>"
            ],
            "image/png": "[encoded data removed]"
          },
          "metadata": {
            "needs_background": "light"
          }
        }
      ]
    },
    {
      "cell_type": "markdown",
      "source": [
        "#**Sección 10: Ploting data (Repetido)**\n"
      ],
      "metadata": {
        "id": "VTBNZQNowVjN"
      }
    },
    {
      "cell_type": "markdown",
      "source": [
        "**Ejemplo 1**\n",
        "\n",
        "\n",
        "\n"
      ],
      "metadata": {
        "id": "HfutQgxYxdDp"
      }
    },
    {
      "cell_type": "code",
      "source": [
        "x = datasetD['a'].pct_change()[1:]\n",
        "y = datasetD['b'].pct_change()[1:]\n",
        "plt.xlabel('a')\n",
        "plt.ylabel('b')\n",
        "plt.scatter(x, y)"
      ],
      "metadata": {
        "colab": {
          "base_uri": "https://localhost:8080/",
          "height": 296
        },
        "outputId": "8bae9adf-2e7d-4c20-aa05-a660da61b966",
        "id": "YwTSdWsC-PWw"
      },
      "execution_count": null,
      "outputs": [
        {
          "output_type": "execute_result",
          "data": {
            "text/plain": [
              "<matplotlib.collections.PathCollection at 0x7f570a8641d0>"
            ]
          },
          "metadata": {},
          "execution_count": 58
        },
        {
          "output_type": "display_data",
          "data": {
            "text/plain": [
              "<Figure size 432x288 with 1 Axes>"
            ],
            "image/png": "[encoded data removed]"
          },
          "metadata": {
            "needs_background": "light"
          }
        }
      ]
    },
    {
      "cell_type": "markdown",
      "source": [
        "**Ejemplo 2**\n"
      ],
      "metadata": {
        "id": "O72dITyZ-PW3"
      }
    },
    {
      "cell_type": "code",
      "source": [
        "x = datasetD['b'].pct_change()[1:]\n",
        "y = datasetD['c'].pct_change()[1:]\n",
        "plt.xlabel('b')\n",
        "plt.ylabel('c')\n",
        "plt.scatter(x, y)"
      ],
      "metadata": {
        "colab": {
          "base_uri": "https://localhost:8080/",
          "height": 282
        },
        "outputId": "56531f15-9690-450c-c330-e20ad95ab5cb",
        "id": "zjjgnCuI-PW6"
      },
      "execution_count": null,
      "outputs": [
        {
          "output_type": "execute_result",
          "data": {
            "text/plain": [
              "<matplotlib.collections.PathCollection at 0x7f570a908fd0>"
            ]
          },
          "metadata": {},
          "execution_count": 56
        },
        {
          "output_type": "display_data",
          "data": {
            "text/plain": [
              "<Figure size 432x288 with 1 Axes>"
            ],
            "image/png": "[encoded data removed]"
          },
          "metadata": {
            "needs_background": "light"
          }
        }
      ]
    },
    {
      "cell_type": "markdown",
      "source": [
        "**Ejemplo 3**\n"
      ],
      "metadata": {
        "id": "ZZBQpATK-PW9"
      }
    },
    {
      "cell_type": "code",
      "source": [
        "x = datasetD['d'].pct_change()[1:]\n",
        "y = datasetD['e'].pct_change()[1:]\n",
        "plt.xlabel('d')\n",
        "plt.ylabel('e')\n",
        "plt.scatter(x, y)"
      ],
      "metadata": {
        "colab": {
          "base_uri": "https://localhost:8080/",
          "height": 282
        },
        "outputId": "c5c168f0-f3a7-4981-cf02-424fb798b4c2",
        "id": "HkOZuO1F-PW_"
      },
      "execution_count": null,
      "outputs": [
        {
          "output_type": "execute_result",
          "data": {
            "text/plain": [
              "<matplotlib.collections.PathCollection at 0x7f570aa0bf50>"
            ]
          },
          "metadata": {},
          "execution_count": 54
        },
        {
          "output_type": "display_data",
          "data": {
            "text/plain": [
              "<Figure size 432x288 with 1 Axes>"
            ],
            "image/png": "[encoded data removed]"
          },
          "metadata": {
            "needs_background": "light"
          }
        }
      ]
    },
    {
      "cell_type": "markdown",
      "source": [
        "**Ejemplo 4**\n"
      ],
      "metadata": {
        "id": "xcvK0ehU-PXC"
      }
    },
    {
      "cell_type": "code",
      "source": [
        "x = datasetD['a']\n",
        "y = datasetD['f']\n",
        "plt.xlabel('a')\n",
        "plt.ylabel('f')\n",
        "plt.scatter(x, y)"
      ],
      "metadata": {
        "colab": {
          "base_uri": "https://localhost:8080/",
          "height": 296
        },
        "outputId": "3de4f823-c80f-47de-fadc-3a4a8f861c9a",
        "id": "rBR9dqRi-PXD"
      },
      "execution_count": null,
      "outputs": [
        {
          "output_type": "execute_result",
          "data": {
            "text/plain": [
              "<matplotlib.collections.PathCollection at 0x7f5709587ed0>"
            ]
          },
          "metadata": {},
          "execution_count": 93
        },
        {
          "output_type": "display_data",
          "data": {
            "text/plain": [
              "<Figure size 432x288 with 1 Axes>"
            ],
            "image/png": "[encoded data removed]"
          },
          "metadata": {
            "needs_background": "light"
          }
        }
      ]
    },
    {
      "cell_type": "markdown",
      "source": [
        "**Ejemplo 5**\n"
      ],
      "metadata": {
        "id": "3PPwSZvm-PXF"
      }
    },
    {
      "cell_type": "code",
      "source": [
        "plt.plot(datasetD['a'])\n",
        "plt.ylabel('a')"
      ],
      "metadata": {
        "colab": {
          "base_uri": "https://localhost:8080/",
          "height": 284
        },
        "outputId": "a9f13768-339f-46f2-99bb-3103f7e98e41",
        "id": "aO7CxDlx-PXG"
      },
      "execution_count": null,
      "outputs": [
        {
          "output_type": "execute_result",
          "data": {
            "text/plain": [
              "[<matplotlib.lines.Line2D at 0x7f570a7a8690>]"
            ]
          },
          "metadata": {},
          "execution_count": 61
        },
        {
          "output_type": "display_data",
          "data": {
            "text/plain": [
              "<Figure size 432x288 with 1 Axes>"
            ],
            "image/png": "[encoded data removed]"
          },
          "metadata": {
            "needs_background": "light"
          }
        }
      ]
    },
    {
      "cell_type": "markdown",
      "source": [
        "**Ejemplo 6**\n"
      ],
      "metadata": {
        "id": "vrzkcxKc-PXI"
      }
    },
    {
      "cell_type": "code",
      "source": [
        "plt.plot(datasetD['b'])\n",
        "plt.ylabel('b')"
      ],
      "metadata": {
        "colab": {
          "base_uri": "https://localhost:8080/",
          "height": 282
        },
        "outputId": "c69ebc42-c565-4be7-abbb-b9546de6683d",
        "id": "f9Fq4nup-PXJ"
      },
      "execution_count": null,
      "outputs": [
        {
          "output_type": "execute_result",
          "data": {
            "text/plain": [
              "Text(0, 0.5, 'b')"
            ]
          },
          "metadata": {},
          "execution_count": 68
        },
        {
          "output_type": "display_data",
          "data": {
            "text/plain": [
              "<Figure size 432x288 with 1 Axes>"
            ],
            "image/png": "[encoded data removed]"
          },
          "metadata": {
            "needs_background": "light"
          }
        }
      ]
    },
    {
      "cell_type": "markdown",
      "source": [
        "**Ejemplo 7**\n"
      ],
      "metadata": {
        "id": "KoJ0buhj-PXL"
      }
    },
    {
      "cell_type": "code",
      "source": [
        "plt.plot(datasetD['c'])\n",
        "plt.ylabel('c')"
      ],
      "metadata": {
        "colab": {
          "base_uri": "https://localhost:8080/",
          "height": 282
        },
        "outputId": "f0c72e2e-dee2-4f83-cb6f-75f71c62bd6c",
        "id": "i3Zeg18B-PXL"
      },
      "execution_count": null,
      "outputs": [
        {
          "output_type": "execute_result",
          "data": {
            "text/plain": [
              "Text(0, 0.5, 'c')"
            ]
          },
          "metadata": {},
          "execution_count": 67
        },
        {
          "output_type": "display_data",
          "data": {
            "text/plain": [
              "<Figure size 432x288 with 1 Axes>"
            ],
            "image/png": "[encoded data removed]"
          },
          "metadata": {
            "needs_background": "light"
          }
        }
      ]
    },
    {
      "cell_type": "markdown",
      "source": [
        "**Ejemplo 8**\n"
      ],
      "metadata": {
        "id": "DakpOTzW-PXN"
      }
    },
    {
      "cell_type": "code",
      "source": [
        "plt.plot(datasetD['a'])\n",
        "plt.plot(datasetD['b'])\n",
        "plt.plot(datasetD['c'])\n",
        "plt.legend(['a', 'b','c'])"
      ],
      "metadata": {
        "colab": {
          "base_uri": "https://localhost:8080/",
          "height": 282
        },
        "outputId": "bbc3fd70-f733-4660-bf5f-2597afaf2116",
        "id": "8S0jltnb-PXN"
      },
      "execution_count": null,
      "outputs": [
        {
          "output_type": "execute_result",
          "data": {
            "text/plain": [
              "<matplotlib.legend.Legend at 0x7f570a5d2ad0>"
            ]
          },
          "metadata": {},
          "execution_count": 66
        },
        {
          "output_type": "display_data",
          "data": {
            "text/plain": [
              "<Figure size 432x288 with 1 Axes>"
            ],
            "image/png": "[encoded data removed]"
          },
          "metadata": {
            "needs_background": "light"
          }
        }
      ]
    },
    {
      "cell_type": "markdown",
      "source": [
        "**Ejemplo 9**\n"
      ],
      "metadata": {
        "id": "ACua5B67-PXO"
      }
    },
    {
      "cell_type": "code",
      "source": [
        "plt.plot(datasetD)\n",
        "plt.legend(['a', 'b','c','d','e','f','g'])\n",
        "print('****SON DATOS ALEATORIOS XD****')"
      ],
      "metadata": {
        "colab": {
          "base_uri": "https://localhost:8080/",
          "height": 282
        },
        "outputId": "9300933f-9ecf-4f03-c42d-af5be4570ff7",
        "id": "9Rd9aDl--PXO"
      },
      "execution_count": null,
      "outputs": [
        {
          "output_type": "stream",
          "name": "stdout",
          "text": [
            "****SON DATOS ALEATORIOS XD****\n"
          ]
        },
        {
          "output_type": "display_data",
          "data": {
            "text/plain": [
              "<Figure size 432x288 with 1 Axes>"
            ],
            "image/png": "[encoded data removed]"
          },
          "metadata": {
            "needs_background": "light"
          }
        }
      ]
    },
    {
      "cell_type": "markdown",
      "source": [
        "**Ejemplo 10**\n"
      ],
      "metadata": {
        "id": "WMVqQbh_-PXO"
      }
    },
    {
      "cell_type": "code",
      "source": [
        "plt.hist(datasetD['a'], bins=20, cumulative=True)"
      ],
      "metadata": {
        "colab": {
          "base_uri": "https://localhost:8080/",
          "height": 370
        },
        "outputId": "140abbcf-b899-42f2-b655-3ffc23d386f1",
        "id": "Mm7A3gG7-PXP"
      },
      "execution_count": null,
      "outputs": [
        {
          "output_type": "execute_result",
          "data": {
            "text/plain": [
              "(array([ 4.,  5.,  6., 10., 10., 11., 11., 13., 15., 19., 20., 22., 23.,\n",
              "        24., 24., 24., 25., 27., 28., 29.]),\n",
              " array([ 65.  , 109.95, 154.9 , 199.85, 244.8 , 289.75, 334.7 , 379.65,\n",
              "        424.6 , 469.55, 514.5 , 559.45, 604.4 , 649.35, 694.3 , 739.25,\n",
              "        784.2 , 829.15, 874.1 , 919.05, 964.  ]),\n",
              " <a list of 20 Patch objects>)"
            ]
          },
          "metadata": {},
          "execution_count": 73
        },
        {
          "output_type": "display_data",
          "data": {
            "text/plain": [
              "<Figure size 432x288 with 1 Axes>"
            ],
            "image/png": "[encoded data removed]"
          },
          "metadata": {
            "needs_background": "light"
          }
        }
      ]
    },
    {
      "cell_type": "markdown",
      "source": [
        "**Ejemplo 11**\n"
      ],
      "metadata": {
        "id": "F0tadL26-PXQ"
      }
    },
    {
      "cell_type": "code",
      "source": [
        "plt.hist(datasetD['b'], bins=20, cumulative=True)"
      ],
      "metadata": {
        "colab": {
          "base_uri": "https://localhost:8080/",
          "height": 370
        },
        "outputId": "1fd4efac-f38f-45fa-a2da-9e8387e03f1d",
        "id": "_um4WX4B-PXQ"
      },
      "execution_count": null,
      "outputs": [
        {
          "output_type": "execute_result",
          "data": {
            "text/plain": [
              "(array([ 3.,  3.,  3.,  3.,  7.,  9., 12., 12., 13., 13., 14., 14., 16.,\n",
              "        17., 18., 18., 21., 22., 25., 29.]),\n",
              " array([ 76.  , 118.95, 161.9 , 204.85, 247.8 , 290.75, 333.7 , 376.65,\n",
              "        419.6 , 462.55, 505.5 , 548.45, 591.4 , 634.35, 677.3 , 720.25,\n",
              "        763.2 , 806.15, 849.1 , 892.05, 935.  ]),\n",
              " <a list of 20 Patch objects>)"
            ]
          },
          "metadata": {},
          "execution_count": 74
        },
        {
          "output_type": "display_data",
          "data": {
            "text/plain": [
              "<Figure size 432x288 with 1 Axes>"
            ],
            "image/png": "[encoded data removed]"
          },
          "metadata": {
            "needs_background": "light"
          }
        }
      ]
    },
    {
      "cell_type": "markdown",
      "source": [
        "**Ejemplo 12**\n"
      ],
      "metadata": {
        "id": "23JRJsSi-PXR"
      }
    },
    {
      "cell_type": "code",
      "source": [
        "plt.hist(datasetD['c'], bins=20, cumulative=True)"
      ],
      "metadata": {
        "colab": {
          "base_uri": "https://localhost:8080/",
          "height": 370
        },
        "outputId": "942570af-57c7-4261-fb2b-06da72694474",
        "id": "H9RQu3zz-PXS"
      },
      "execution_count": null,
      "outputs": [
        {
          "output_type": "execute_result",
          "data": {
            "text/plain": [
              "(array([ 2.,  3.,  4.,  7.,  8., 10., 12., 16., 16., 17., 19., 21., 22.,\n",
              "        22., 23., 24., 24., 28., 28., 29.]),\n",
              " array([ 40.  ,  87.75, 135.5 , 183.25, 231.  , 278.75, 326.5 , 374.25,\n",
              "        422.  , 469.75, 517.5 , 565.25, 613.  , 660.75, 708.5 , 756.25,\n",
              "        804.  , 851.75, 899.5 , 947.25, 995.  ]),\n",
              " <a list of 20 Patch objects>)"
            ]
          },
          "metadata": {},
          "execution_count": 75
        },
        {
          "output_type": "display_data",
          "data": {
            "text/plain": [
              "<Figure size 432x288 with 1 Axes>"
            ],
            "image/png": "[encoded data removed]"
          },
          "metadata": {
            "needs_background": "light"
          }
        }
      ]
    },
    {
      "cell_type": "markdown",
      "source": [
        "**Ejemplo 13**\n"
      ],
      "metadata": {
        "id": "Wvx83wcl-PXS"
      }
    },
    {
      "cell_type": "code",
      "source": [
        "plt.hist(datasetD['d'], bins=20, cumulative=False)"
      ],
      "metadata": {
        "colab": {
          "base_uri": "https://localhost:8080/",
          "height": 369
        },
        "outputId": "332e5485-d9d1-4e7c-b0dc-f90fd93e7f37",
        "id": "Ir35598K-PXT"
      },
      "execution_count": null,
      "outputs": [
        {
          "output_type": "execute_result",
          "data": {
            "text/plain": [
              "(array([4., 0., 0., 0., 2., 2., 2., 2., 2., 0., 1., 2., 0., 1., 2., 2., 1.,\n",
              "        0., 0., 4.]),\n",
              " array([ 18. ,  64.8, 111.6, 158.4, 205.2, 252. , 298.8, 345.6, 392.4,\n",
              "        439.2, 486. , 532.8, 579.6, 626.4, 673.2, 720. , 766.8, 813.6,\n",
              "        860.4, 907.2, 954. ]),\n",
              " <a list of 20 Patch objects>)"
            ]
          },
          "metadata": {},
          "execution_count": 77
        },
        {
          "output_type": "display_data",
          "data": {
            "text/plain": [
              "<Figure size 432x288 with 1 Axes>"
            ],
            "image/png": "[encoded data removed]"
          },
          "metadata": {
            "needs_background": "light"
          }
        }
      ]
    },
    {
      "cell_type": "markdown",
      "source": [
        "**Ejemplo 14**\n"
      ],
      "metadata": {
        "id": "zTKbTs9w-PXU"
      }
    },
    {
      "cell_type": "code",
      "source": [
        "plt.hist(datasetD['e'], bins=20, cumulative=False)"
      ],
      "metadata": {
        "colab": {
          "base_uri": "https://localhost:8080/",
          "height": 369
        },
        "outputId": "6b51ed31-1060-46c3-8b6d-02dd06ce80ef",
        "id": "1XCJ9lp0-PXU"
      },
      "execution_count": null,
      "outputs": [
        {
          "output_type": "execute_result",
          "data": {
            "text/plain": [
              "(array([4., 1., 3., 0., 0., 2., 2., 2., 1., 2., 1., 1., 3., 0., 1., 1., 2.,\n",
              "        0., 0., 2.]),\n",
              " array([ 15.  ,  63.25, 111.5 , 159.75, 208.  , 256.25, 304.5 , 352.75,\n",
              "        401.  , 449.25, 497.5 , 545.75, 594.  , 642.25, 690.5 , 738.75,\n",
              "        787.  , 835.25, 883.5 , 931.75, 980.  ]),\n",
              " <a list of 20 Patch objects>)"
            ]
          },
          "metadata": {},
          "execution_count": 78
        },
        {
          "output_type": "display_data",
          "data": {
            "text/plain": [
              "<Figure size 432x288 with 1 Axes>"
            ],
            "image/png": "[encoded data removed]"
          },
          "metadata": {
            "needs_background": "light"
          }
        }
      ]
    },
    {
      "cell_type": "markdown",
      "source": [
        "**Ejemplo 15**\n"
      ],
      "metadata": {
        "id": "45bX5fAg-PXU"
      }
    },
    {
      "cell_type": "code",
      "source": [
        "plt.hist(datasetD, bins=30, cumulative=True)\n",
        "plt.legend(['a', 'b','c','d','e','f','g'])\n",
        "print('')"
      ],
      "metadata": {
        "colab": {
          "base_uri": "https://localhost:8080/",
          "height": 282
        },
        "outputId": "fbf0a617-e586-44bd-c2a7-24458f2d8c54",
        "id": "cJTMxiHh-PXU"
      },
      "execution_count": null,
      "outputs": [
        {
          "output_type": "stream",
          "name": "stdout",
          "text": [
            "\n"
          ]
        },
        {
          "output_type": "display_data",
          "data": {
            "text/plain": [
              "<Figure size 432x288 with 1 Axes>"
            ],
            "image/png": "[encoded data removed]"
          },
          "metadata": {
            "needs_background": "light"
          }
        }
      ]
    },
    {
      "cell_type": "markdown",
      "source": [
        "**Ejemplo 16**\n"
      ],
      "metadata": {
        "id": "hjQzDsP_-PXV"
      }
    },
    {
      "cell_type": "code",
      "source": [
        "aa=[datasetD['f'],datasetD['a']]\n",
        "plt.hist(aa, bins=20, cumulative=False)"
      ],
      "metadata": {
        "colab": {
          "base_uri": "https://localhost:8080/",
          "height": 387
        },
        "outputId": "4e7eb947-c6f3-49bd-8498-4372dd754270",
        "id": "sY9j0qsH-PXV"
      },
      "execution_count": null,
      "outputs": [
        {
          "output_type": "execute_result",
          "data": {
            "text/plain": [
              "(array([[4., 3., 1., 2., 1., 1., 1., 3., 0., 2., 0., 1., 2., 0., 0., 1.,\n",
              "         2., 2., 2., 2.],\n",
              "        [2., 3., 0., 5., 0., 0., 1., 2., 2., 4., 1., 2., 1., 1., 0., 0.,\n",
              "         2., 1., 1., 1.]]),\n",
              " array([ 38.,  85., 132., 179., 226., 273., 320., 367., 414., 461., 508.,\n",
              "        555., 602., 649., 696., 743., 790., 837., 884., 931., 978.]),\n",
              " <a list of 2 Lists of Patches objects>)"
            ]
          },
          "metadata": {},
          "execution_count": 92
        },
        {
          "output_type": "display_data",
          "data": {
            "text/plain": [
              "<Figure size 432x288 with 1 Axes>"
            ],
            "image/png": "[encoded data removed]"
          },
          "metadata": {
            "needs_background": "light"
          }
        }
      ]
    },
    {
      "cell_type": "markdown",
      "source": [
        "**Ejemplo 17**\n"
      ],
      "metadata": {
        "id": "-lIise_0-PXW"
      }
    },
    {
      "cell_type": "code",
      "source": [
        "aa=[datasetD['a'],datasetD['b']]\n",
        "plt.hist(aa, bins=9, cumulative=False)"
      ],
      "metadata": {
        "colab": {
          "base_uri": "https://localhost:8080/",
          "height": 369
        },
        "outputId": "177b6b9f-8ee1-45b3-fa11-4e0b01273702",
        "id": "PcNPRB4K-PXX"
      },
      "execution_count": null,
      "outputs": [
        {
          "output_type": "execute_result",
          "data": {
            "text/plain": [
              "(array([[5., 5., 1., 4., 5., 3., 1., 3., 2.],\n",
              "        [3., 1., 7., 2., 1., 3., 1., 7., 4.]]),\n",
              " array([ 65.        , 164.88888889, 264.77777778, 364.66666667,\n",
              "        464.55555556, 564.44444444, 664.33333333, 764.22222222,\n",
              "        864.11111111, 964.        ]),\n",
              " <a list of 2 Lists of Patches objects>)"
            ]
          },
          "metadata": {},
          "execution_count": 97
        },
        {
          "output_type": "display_data",
          "data": {
            "text/plain": [
              "<Figure size 432x288 with 1 Axes>"
            ],
            "image/png": "[encoded data removed]"
          },
          "metadata": {
            "needs_background": "light"
          }
        }
      ]
    },
    {
      "cell_type": "markdown",
      "source": [
        "**Ejemplo 18**\n"
      ],
      "metadata": {
        "id": "qxl65aB5-PXX"
      }
    },
    {
      "cell_type": "code",
      "source": [
        "aa=[datasetD['c'],datasetD['d'],datasetD['a']]\n",
        "plt.hist(aa, bins=20, cumulative=False)"
      ],
      "metadata": {
        "colab": {
          "base_uri": "https://localhost:8080/",
          "height": 439
        },
        "outputId": "bd70d396-69a6-4367-a6a9-cbe03b9d992e",
        "id": "ox7Arytq-PXY"
      },
      "execution_count": null,
      "outputs": [
        {
          "output_type": "execute_result",
          "data": {
            "text/plain": [
              "(array([[1., 1., 2., 2., 1., 3., 2., 4., 0., 1., 2., 1., 2., 0., 1., 1.,\n",
              "         0., 4., 0., 1.],\n",
              "        [4., 0., 0., 0., 3., 1., 3., 1., 2., 0., 1., 2., 0., 3., 0., 3.,\n",
              "         0., 0., 3., 1.],\n",
              "        [1., 3., 1., 5., 0., 0., 1., 1., 3., 4., 1., 2., 1., 1., 0., 0.,\n",
              "         3., 0., 1., 1.]]),\n",
              " array([ 18.  ,  66.85, 115.7 , 164.55, 213.4 , 262.25, 311.1 , 359.95,\n",
              "        408.8 , 457.65, 506.5 , 555.35, 604.2 , 653.05, 701.9 , 750.75,\n",
              "        799.6 , 848.45, 897.3 , 946.15, 995.  ]),\n",
              " <a list of 3 Lists of Patches objects>)"
            ]
          },
          "metadata": {},
          "execution_count": 98
        },
        {
          "output_type": "display_data",
          "data": {
            "text/plain": [
              "<Figure size 432x288 with 1 Axes>"
            ],
            "image/png": "[encoded data removed]"
          },
          "metadata": {
            "needs_background": "light"
          }
        }
      ]
    },
    {
      "cell_type": "markdown",
      "source": [
        "**Ejemplo 19**\n"
      ],
      "metadata": {
        "id": "MTnaePuF-PXY"
      }
    },
    {
      "cell_type": "code",
      "source": [
        "aa=[datasetD['f'],datasetD['a'],datasetD['b']]\n",
        "plt.hist(aa, bins=20, cumulative=False)"
      ],
      "metadata": {
        "colab": {
          "base_uri": "https://localhost:8080/",
          "height": 421
        },
        "outputId": "f7882f33-8b8a-4336-f2cf-0c87d688ad54",
        "id": "EkoCMuNq-PXY"
      },
      "execution_count": null,
      "outputs": [
        {
          "output_type": "execute_result",
          "data": {
            "text/plain": [
              "(array([[4., 3., 1., 2., 1., 1., 1., 3., 0., 2., 0., 1., 2., 0., 0., 1.,\n",
              "         2., 2., 2., 2.],\n",
              "        [2., 3., 0., 5., 0., 0., 1., 2., 2., 4., 1., 2., 1., 1., 0., 0.,\n",
              "         2., 1., 1., 1.],\n",
              "        [1., 2., 0., 0., 1., 5., 2., 1., 1., 0., 1., 1., 1., 2., 0., 2.,\n",
              "         1., 4., 3., 1.]]),\n",
              " array([ 38.,  85., 132., 179., 226., 273., 320., 367., 414., 461., 508.,\n",
              "        555., 602., 649., 696., 743., 790., 837., 884., 931., 978.]),\n",
              " <a list of 3 Lists of Patches objects>)"
            ]
          },
          "metadata": {},
          "execution_count": 99
        },
        {
          "output_type": "display_data",
          "data": {
            "text/plain": [
              "<Figure size 432x288 with 1 Axes>"
            ],
            "image/png": "[encoded data removed]"
          },
          "metadata": {
            "needs_background": "light"
          }
        }
      ]
    },
    {
      "cell_type": "markdown",
      "source": [
        "**Ejemplo 20**\n"
      ],
      "metadata": {
        "id": "4QytW3fn-PXZ"
      }
    },
    {
      "cell_type": "code",
      "source": [
        "aa=[datasetD['g'],datasetD['e'],datasetD['c']]\n",
        "plt.hist(aa, bins=20, cumulative=False)"
      ],
      "metadata": {
        "colab": {
          "base_uri": "https://localhost:8080/",
          "height": 421
        },
        "outputId": "572eab91-a56b-4ad7-d684-7d1701cdafb3",
        "id": "5wfHl2Va-PXZ"
      },
      "execution_count": null,
      "outputs": [
        {
          "output_type": "execute_result",
          "data": {
            "text/plain": [
              "(array([[0., 2., 3., 3., 3., 2., 0., 0., 1., 1., 0., 1., 0., 5., 1., 0.,\n",
              "         3., 1., 1., 2.],\n",
              "        [4., 1., 3., 0., 0., 2., 2., 2., 2., 1., 1., 1., 3., 0., 1., 2.,\n",
              "         1., 0., 0., 2.],\n",
              "        [1., 1., 2., 1., 2., 3., 2., 4., 0., 1., 2., 1., 2., 0., 1., 1.,\n",
              "         0., 3., 1., 1.]]),\n",
              " array([ 15.,  64., 113., 162., 211., 260., 309., 358., 407., 456., 505.,\n",
              "        554., 603., 652., 701., 750., 799., 848., 897., 946., 995.]),\n",
              " <a list of 3 Lists of Patches objects>)"
            ]
          },
          "metadata": {},
          "execution_count": 100
        },
        {
          "output_type": "display_data",
          "data": {
            "text/plain": [
              "<Figure size 432x288 with 1 Axes>"
            ],
            "image/png": "[encoded data removed]"
          },
          "metadata": {
            "needs_background": "light"
          }
        }
      ]
    }
  ]
}