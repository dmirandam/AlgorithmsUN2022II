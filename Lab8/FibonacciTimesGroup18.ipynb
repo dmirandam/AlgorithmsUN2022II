{
  "nbformat": 4,
  "nbformat_minor": 0,
  "metadata": {
    "colab": {
      "provenance": [],
      "collapsed_sections": [],
      "include_colab_link": true
    },
    "kernelspec": {
      "name": "python3",
      "display_name": "Python 3"
    }
  },
  "cells": [
    {
      "cell_type": "markdown",
      "metadata": {
        "id": "view-in-github",
        "colab_type": "text"
      },
      "source": [
        "<a href=\"https://colab.research.google.com/github/jyarac/AlgorithmsUN2022II/blob/main/Lab8/FibonacciTimesGroup18.ipynb\" target=\"_parent\"><img src=\"https://colab.research.google.com/assets/colab-badge.svg\" alt=\"Open In Colab\"/></a>"
      ]
    },
    {
      "cell_type": "markdown",
      "metadata": {
        "id": "h9hJRvO-8TEY"
      },
      "source": [
        "https://www.geeksforgeeks.org/time-process_time-function-in-python/"
      ]
    },
    {
      "cell_type": "markdown",
      "source": [
        "**recursive fibonacci**"
      ],
      "metadata": {
        "id": "4ZaI9Ea_D7C6"
      }
    },
    {
      "cell_type": "code",
      "source": [
        "def fibR(n):\n",
        "    if n==0 :\n",
        "        return 0\n",
        "    if n==1 :\n",
        "        return 1\n",
        "    return fibR(n-1)+fibR(n-2)\n",
        "\n",
        "from time import process_time\n",
        "def time_recursive_fib(n):\n",
        "  t0 = process_time()\n",
        "  fibR(n)\n",
        "  tf =process_time()\n",
        "  return tf-t0"
      ],
      "metadata": {
        "id": "AgBlQiDpD-EV"
      },
      "execution_count": null,
      "outputs": []
    },
    {
      "cell_type": "markdown",
      "metadata": {
        "id": "YubnxTUgjqey"
      },
      "source": [
        "# Fibonacci iterartive algoritm (forward) $O(n\\ lgn)$"
      ]
    },
    {
      "cell_type": "code",
      "metadata": {
        "id": "xvN0wMin9HOI"
      },
      "source": [
        "# fibI - Fibonacci Iterartive (forward) O(n lgn)\n",
        "def fibI(n):\n",
        "    if n==0 :\n",
        "        return 0\n",
        "    a, b = 0, 1\n",
        "    for i in range(1, n):\n",
        "        a, b = b, a+b\n",
        "    return b\n",
        "\n",
        "from time import process_time\n",
        "def time_recursive_fibI(n):\n",
        "  t0 = process_time()\n",
        "  fibI(n)\n",
        "  tf =process_time()\n",
        "  return tf-t0"
      ],
      "execution_count": 48,
      "outputs": []
    },
    {
      "cell_type": "markdown",
      "source": [
        "**obtaining proccess time for in [0,50] FibR and [0,1000] for FibI** "
      ],
      "metadata": {
        "id": "Q0mhPDjkCjhx"
      }
    },
    {
      "cell_type": "code",
      "metadata": {
        "colab": {
          "base_uri": "https://localhost:8080/",
          "height": 297
        },
        "id": "3jE6xoo2_wgF",
        "outputId": "ec555ee0-fac3-43d9-8f24-bdc156d446f1"
      },
      "source": [
        "import numpy as np\n",
        "recursive_timesI = np.array([])\n",
        "recursive_times = np.array([])\n",
        "\n",
        "for i in range(40):\n",
        "  exec = time_recursive_fib(i)\n",
        "  recursive_times = np.insert(recursive_times, i, exec)\n",
        "\n",
        "\n",
        "\n",
        "\n",
        "for i in range(1000):\n",
        "  exec = time_recursive_fibI(i)\n",
        "  recursive_timesI = np.insert(recursive_timesI, i, exec)\n",
        "\n",
        "\n",
        "#compairing with linear time execution\n",
        "import matplotlib.pyplot as plt\n",
        "import numpy as np\n",
        "x = np.arange(40)\n",
        "plt.plot(x, label=\"linear time\")\n",
        "plt.plot(recursive_times, label=\"recursive fibonacci\")\n",
        "plt.plot(recursive_timesI, label=\"iterative fibonacci\")\n",
        "plt.xlabel(\"Fib(N)\")\n",
        "plt.ylabel(\"Complexity time(seconds)\")\n"
      ],
      "execution_count": 51,
      "outputs": [
        {
          "output_type": "execute_result",
          "data": {
            "text/plain": [
              "Text(0, 0.5, 'Complexity time(seconds)')"
            ]
          },
          "metadata": {},
          "execution_count": 51
        },
        {
          "output_type": "display_data",
          "data": {
            "text/plain": [
              "<Figure size 432x288 with 1 Axes>"
            ],
            "image/png": "[encoded data removed]"
          },
          "metadata": {
            "needs_background": "light"
          }
        }
      ]
    },
    {
      "cell_type": "code",
      "source": [],
      "metadata": {
        "id": "wVxq8MeyMmvh"
      },
      "execution_count": null,
      "outputs": []
    }
  ]
}